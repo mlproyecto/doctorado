{
  "cells": [
    {
      "cell_type": "markdown",
      "metadata": {},
      "source": [
        "# Análisis de Autores Activos: Mapping Review IA y ML en Educación Matemática K-12\n",
        "\n",
        "**MQ2: ¿Quiénes son los autores más activos en este campo?**\n",
        "\n",
        "Este notebook analiza los autores más productivos y sus patrones de colaboración en el campo de IA y ML en educación matemática K-12."
      ]
    },
    {
      "cell_type": "markdown",
      "metadata": {},
      "source": [
        "## 1. Configuración del Entorno"
      ]
    },
    {
      "cell_type": "code",
      "execution_count": null,
      "metadata": {},
      "outputs": [],
      "source": [
        "# Instalación de dependencias\n",
        "!pip install pandas numpy matplotlib seaborn plotly networkx"
      ]
    },
    {
      "cell_type": "code",
      "execution_count": null,
      "metadata": {},
      "outputs": [],
      "source": [
        "# Importación de librerías\n",
        "import pandas as pd\n",
        "import numpy as np\n",
        "import matplotlib.pyplot as plt\n",
        "import seaborn as sns\n",
        "import plotly.express as px\n",
        "import plotly.graph_objects as go\n",
        "from plotly.subplots import make_subplots\n",
        "import networkx as nx\n",
        "from collections import Counter\n",
        "import re\n",
        "import warnings\n",
        "warnings.filterwarnings('ignore')\n",
        "\n",
        "# Configuración de estilo\n",
        "plt.style.use('seaborn-v0_8')\n",
        "sns.set_palette(\"husl\")\n",
        "plt.rcParams['figure.figsize'] = (12, 8)\n",
        "plt.rcParams['font.size'] = 12\n",
        "\n",
        "# Configuración para mostrar todas las columnas\n",
        "pd.set_option('display.max_columns', None)\n",
        "pd.set_option('display.max_colwidth', None)"
      ]
    },
    {
      "cell_type": "markdown",
      "metadata": {},
      "source": [
        "## 2. Carga de Datos desde GitHub"
      ]
    },
    {
      "cell_type": "code",
      "execution_count": null,
      "metadata": {},
      "outputs": [],
      "source": [
        "# Cargar el dataset desde GitHub\n",
        "# IMPORTANTE: Cambiar la URL por tu repositorio real\n",
        "url = \"https://raw.githubusercontent.com/mlproyecto/doctorado/main/MappingReview.csv\"\n",
        "df = pd.read_csv(url, sep=';', encoding='latin-1')\n",
        "\n",
        "print(f\"Dataset cargado: {df.shape[0]} filas y {df.shape[1]} columnas\")\n",
        "print(\"\\nPrimeras 5 filas:\")\n",
        "df.head()"
      ]
    },
    {
      "cell_type": "markdown",
      "metadata": {},
      "source": [
        "## 3. Análisis de Autores Activos (MQ2)"
      ]
    },
    {
      "cell_type": "code",
      "execution_count": null,
      "metadata": {},
      "outputs": [],
      "source": [
        "# Función para extraer autores individuales\n",
        "def extract_authors(authors_str):\n",
        "    if pd.isna(authors_str):\n",
        "        return []\n",
        "    \n",
        "    # Limpiar el string de autores\n",
        "    authors_str = str(authors_str).strip()\n",
        "    \n",
        "    # Dividir por punto y coma y limpiar\n",
        "    authors = [author.strip() for author in authors_str.split(';')]\n",
        "    \n",
        "    # Remover entradas vacías\n",
        "    authors = [author for author in authors if author]\n",
        "    \n",
        "    return authors\n",
        "\n",
        "# Aplicar extracción de autores\n",
        "df['Authors_List'] = df['Author(s)'].apply(extract_authors)\n",
        "\n",
        "print(\"Extracción de autores completada\")\n",
        "print(f\"Publicaciones con autores extraídos: {len(df[df['Authors_List'].apply(len) > 0])}\")"
      ]
    },
    {
      "cell_type": "code",
      "execution_count": null,
      "metadata": {},
      "outputs": [],
      "source": [
        "# Contar frecuencia de autores\n",
        "all_authors = []\n",
        "for authors_list in df['Authors_List']:\n",
        "    all_authors.extend(authors_list)\n",
        "\n",
        "author_counts = Counter(all_authors)\n",
        "\n",
        "print(\"=== AUTORES MÁS FRECUENTES ===\")\n",
        "for author, count in author_counts.most_common(15):\n",
        "    print(f\"{author}: {count} publicaciones\")\n",
        "\n",
        "print(f\"\\nTotal de autores únicos: {len(author_counts)}\")\n",
        "print(f\"Total de apariciones de autores: {sum(author_counts.values())}\")"
      ]
    },
    {
      "cell_type": "code",
      "execution_count": null,
      "metadata": {},
      "outputs": [],
      "source": [
        "# Gráfico de barras para autores más frecuentes\n",
        "top_authors = dict(author_counts.most_common(10))\n",
        "\n",
        "plt.figure(figsize=(15, 8))\n",
        "bars = plt.bar(range(len(top_authors)), top_authors.values(), color='lightblue', alpha=0.7)\n",
        "plt.xlabel('Autor', fontsize=14)\n",
        "plt.ylabel('Número de Publicaciones', fontsize=14)\n",
        "plt.title('Autores Más Productivos', fontsize=16, fontweight='bold')\n",
        "plt.xticks(range(len(top_authors)), list(top_authors.keys()), rotation=45, ha='right')\n",
        "plt.grid(True, alpha=0.3, axis='y')\n",
        "\n",
        "# Agregar valores en las barras\n",
        "for i, (bar, count) in enumerate(zip(bars, top_authors.values())):\n",
        "    plt.text(i, count + 0.1, str(count), ha='center', va='bottom', fontweight='bold')\n",
        "\n",
        "plt.tight_layout()\n",
        "plt.show()"
      ]
    },
    {
      "cell_type": "code",
      "execution_count": null,
      "metadata": {},
      "outputs": [],
      "source": [
        "# Gráfico interactivo con Plotly\n",
        "fig = px.bar(x=list(top_authors.keys()), y=list(top_authors.values()),\n",
        "              title='Autores Más Productivos',\n",
        "              labels={'x': 'Autor', 'y': 'Número de Publicaciones'})\n",
        "\n",
        "fig.update_layout(\n",
        "    title_font_size=16,\n",
        "    xaxis_title_font_size=14,\n",
        "    yaxis_title_font_size=14\n",
        ")\n",
        "\n",
        "fig.show()"
      ]
    },
    {
      "cell_type": "markdown",
      "metadata": {},
      "source": [
        "## 4. Análisis de Colaboraciones"
      ]
    },
    {
      "cell_type": "code",
      "execution_count": null,
      "metadata": {},
      "outputs": [],
      "source": [
        "# Crear red de colaboraciones\n",
        "G = nx.Graph()\n",
        "\n",
        "# Agregar nodos (autores)\n",
        "for author in author_counts.keys():\n",
        "    G.add_node(author, weight=author_counts[author])\n",
        "\n",
        "# Agregar edges (colaboraciones)\n",
        "for authors_list in df['Authors_List']:\n",
        "    if len(authors_list) > 1:\n",
        "        for i in range(len(authors_list)):\n",
        "            for j in range(i + 1, len(authors_list)):\n",
        "                author1 = authors_list[i]\n",
        "                author2 = authors_list[j]\n",
        "                \n",
        "                if G.has_edge(author1, author2):\n",
        "                    G[author1][author2]['weight'] += 1\n",
        "                else:\n",
        "                    G.add_edge(author1, author2, weight=1)\n",
        "\n",
        "print(f\"Red de colaboraciones creada\")\n",
        "print(f\"Número de nodos (autores): {G.number_of_nodes()}\")\n",
        "print(f\"Número de edges (colaboraciones): {G.number_of_edges()}\")"
      ]
    },
    {
      "cell_type": "code",
      "execution_count": null,
      "metadata": {},
      "outputs": [],
      "source": [
        "# Análisis de centralidad\n",
        "centrality_degree = nx.degree_centrality(G)\n",
        "centrality_betweenness = nx.betweenness_centrality(G)\n",
        "centrality_closeness = nx.closeness_centrality(G)\n",
        "\n",
        "# Top autores por centralidad\n",
        "top_degree = sorted(centrality_degree.items(), key=lambda x: x[1], reverse=True)[:10]\n",
        "top_betweenness = sorted(centrality_betweenness.items(), key=lambda x: x[1], reverse=True)[:10]\n",
        "top_closeness = sorted(centrality_closeness.items(), key=lambda x: x[1], reverse=True)[:10]\n",
        "\n",
        "print(\"=== TOP 10 AUTORES POR CENTRALIDAD ===\")\n",
        "print(\"\\nPor Grado:\")\n",
        "for author, centrality in top_degree:\n",
        "    print(f\"{author}: {centrality:.3f}\")\n",
        "\n",
        "print(\"\\nPor Intermediación:\")\n",
        "for author, centrality in top_betweenness:\n",
        "    print(f\"{author}: {centrality:.3f}\")\n",
        "\n",
        "print(\"\\nPor Cercanía:\")\n",
        "for author, centrality in top_closeness:\n",
        "    print(f\"{author}: {centrality:.3f}\")"
      ]
    },
    {
      "cell_type": "code",
      "execution_count": null,
      "metadata": {},
      "outputs": [],
      "source": [
        "# Gráfico de la red de colaboraciones (versión simplificada)\n",
        "# Usar solo los autores más conectados para visualización\n",
        "top_connected = sorted(G.degree(), key=lambda x: x[1], reverse=True)[:20]\n",
        "subgraph = G.subgraph([author for author, degree in top_connected])\n",
        "\n",
        "plt.figure(figsize=(15, 10))\n",
        "pos = nx.spring_layout(subgraph, k=3, iterations=50)\n",
        "\n",
        "# Dibujar nodos\n",
        "node_sizes = [author_counts[author] * 100 for author in subgraph.nodes()]\n",
        "nx.draw_networkx_nodes(subgraph, pos, node_size=node_sizes, node_color='lightblue', alpha=0.7)\n",
        "\n",
        "# Dibujar edges\n",
        "edge_weights = [subgraph[u][v]['weight'] for u, v in subgraph.edges()]\n",
        "nx.draw_networkx_edges(subgraph, pos, width=edge_weights, alpha=0.5, edge_color='gray')\n",
        "\n",
        "# Dibujar etiquetas\n",
        "nx.draw_networkx_labels(subgraph, pos, font_size=8, font_weight='bold')\n",
        "\n",
        "plt.title('Red de Colaboraciones entre Autores', fontsize=16, fontweight='bold')\n",
        "plt.axis('off')\n",
        "plt.tight_layout()\n",
        "plt.show()"
      ]
    },
    {
      "cell_type": "markdown",
      "metadata": {},
      "source": [
        "## 5. Análisis de Tamaños de Equipo"
      ]
    },
    {
      "cell_type": "code",
      "execution_count": null,
      "metadata": {},
      "outputs": [],
      "source": [
        "# Análisis de tamaños de equipo\n",
        "team_sizes = df['Authors_List'].apply(len)\n",
        "team_size_counts = team_sizes.value_counts().sort_index()\n",
        "\n",
        "print(\"=== DISTRIBUCIÓN DE TAMAÑOS DE EQUIPO ===\")\n",
        "for size, count in team_size_counts.items():\n",
        "    percentage = (count / len(df)) * 100\n",
        "    print(f\"{size} autor(es): {count} publicaciones ({percentage:.1f}%)\")\n",
        "\n",
        "print(f\"\\nPromedio de autores por publicación: {team_sizes.mean():.2f}\")\n",
        "print(f\"Mediana de autores por publicación: {team_sizes.median():.0f}\")\n",
        "print(f\"Máximo de autores por publicación: {team_sizes.max()}\")\n",
        "print(f\"Mínimo de autores por publicación: {team_sizes.min()}\")"
      ]
    },
    {
      "cell_type": "code",
      "execution_count": null,
      "metadata": {},
      "outputs": [],
      "source": [
        "# Gráfico de distribución de tamaños de equipo\n",
        "plt.figure(figsize=(12, 8))\n",
        "bars = plt.bar(team_size_counts.index, team_size_counts.values, color='lightgreen', alpha=0.7)\n",
        "plt.xlabel('Número de Autores', fontsize=14)\n",
        "plt.ylabel('Número de Publicaciones', fontsize=14)\n",
        "plt.title('Distribución de Tamaños de Equipo', fontsize=16, fontweight='bold')\n",
        "plt.grid(True, alpha=0.3, axis='y')\n",
        "\n",
        "# Agregar valores en las barras\n",
        "for i, (bar, count) in enumerate(zip(bars, team_size_counts.values)):\n",
        "    plt.text(team_size_counts.index[i], count + 0.5, str(count), ha='center', va='bottom', fontweight='bold')\n",
        "\n",
        "plt.tight_layout()\n",
        "plt.show()"
      ]
    },
    {
      "cell_type": "markdown",
      "metadata": {},
      "source": [
        "## 6. Resumen y Conclusiones"
      ]
    },
    {
      "cell_type": "code",
      "execution_count": null,
      "metadata": {},
      "outputs": [],
      "source": [
        "# Generar resumen ejecutivo\n",
        "print(\"=== RESUMEN EJECUTIVO ===\\n\")\n",
        "\n",
        "print(f\"📊 Total de autores únicos: {len(author_counts)}\")\n",
        "print(f\"📝 Autor más productivo: {author_counts.most_common(1)[0][0]} ({author_counts.most_common(1)[0][1]} publicaciones)\")\n",
        "print(f\"👥 Promedio de autores por publicación: {team_sizes.mean():.2f}\")\n",
        "print(f\"🔗 Colaboraciones únicas: {G.number_of_edges()}\")\n",
        "\n",
        "# Análisis de colaboración\n",
        "solo_authors = len(df[df['Authors_List'].apply(len) == 1])\n",
        "collaborative = len(df[df['Authors_List'].apply(len) > 1])\n",
        "collaboration_percentage = (collaborative / len(df)) * 100\n",
        "\n",
        "print(f\"📈 Publicaciones colaborativas: {collaborative} ({collaboration_percentage:.1f}%)\")\n",
        "print(f\"📉 Publicaciones individuales: {solo_authors} ({100 - collaboration_percentage:.1f}%)\")\n",
        "\n",
        "# Autor más central\n",
        "most_central = top_degree[0]\n",
        "print(f\"🏆 Autor más central: {most_central[0]} (centralidad: {most_central[1]:.3f})\")\n",
        "\n",
        "print(\"\\n=== CONCLUSIONES ===\")\n",
        "print(\"1. Hay autores claramente más productivos en el campo\")\n",
        "print(\"2. Existe una red de colaboraciones significativa\")\n",
        "print(\"3. La mayoría de publicaciones son colaborativas\")\n",
        "print(\"4. Hay autores que actúan como conectores en la red\")"
      ]
    }
  ],
  "metadata": {
    "kernelspec": {
      "display_name": "Python 3",
      "language": "python",
      "name": "python3"
    },
    "language_info": {
      "codemirror_mode": {
        "name": "ipython",
        "version": 3
      },
      "file_extension": ".py",
      "mimetype": "text/x-python",
      "name": "python",
      "nbconvert_exporter": "python",
      "pygments_lexer": "ipython3",
      "version": "3.8.5"
    }
  },
  "nbformat": 4,
  "nbformat_minor": 4
}
