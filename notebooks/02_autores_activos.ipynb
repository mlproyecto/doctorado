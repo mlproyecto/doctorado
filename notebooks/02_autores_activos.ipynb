{
 "cells": [
  {
   "cell_type": "markdown",
   "metadata": {},
   "source": [
    "# Análisis de Autores Activos: Mapping Review IA y ML en Educación Matemática K-12\\n\n",
    "\\n\n",
    "**MQ2: ¿Quiénes son los autores más activos del área?**\\n\n",
    "\\n\n",
    "Este notebook analiza los autores más productivos y sus patrones de colaboración en el campo de IA y ML en educación matemática K-12."
   ]
  },
  {
   "cell_type": "markdown",
   "metadata": {},
   "source": [
    "## 1. Configuración del Entorno"
   ]
  },
  {
   "cell_type": "code",
   "execution_count": null,
   "metadata": {},
   "outputs": [],
   "source": [
    "# Instalación de dependencias\\n\n",
    "!pip install pandas numpy matplotlib seaborn plotly networkx"
   ]
  },
  {
   "cell_type": "code",
   "execution_count": null,
   "metadata": {},
   "outputs": [],
   "source": [
    "# Importación de librerías\\n\n",
    "import pandas as pd\\n\n",
    "import numpy as np\\n\n",
    "import matplotlib.pyplot as plt\\n\n",
    "import seaborn as sns\\n\n",
    "import plotly.express as px\\n\n",
    "import plotly.graph_objects as go\\n\n",
    "import networkx as nx\\n\n",
    "import re\\n\n",
    "from collections import Counter\\n\n",
    "import warnings\\n\n",
    "warnings.filterwarnings('ignore')\\n\n",
    "\\n\n",
    "# Configuración de estilo\\n\n",
    "plt.style.use('seaborn-v0_8')\\n\n",
    "sns.set_palette(\\\"husl\\\")\\n\n",
    "plt.rcParams['figure.figsize'] = (12, 8)\\n\n",
    "plt.rcParams['font.size'] = 12\\n\n",
    "\\n\n",
    "# Configuración para mostrar todas las columnas\\n\n",
    "pd.set_option('display.max_columns', None)\\n\n",
    "pd.set_option('display.max_colwidth', None)"
   ]
  },
  {
   "cell_type": "markdown",
   "metadata": {},
   "source": [
    "## 2. Carga de Datos desde GitHub"
   ]
  },
  {
   "cell_type": "code",
   "execution_count": null,
   "metadata": {},
   "outputs": [],
   "source": [
    "# Cargar el dataset desde GitHub\\n\n",
    "# IMPORTANTE: Cambiar la URL por tu repositorio real\\n\n",
    "url = \\\"https://raw.githubusercontent.com/TU_USUARIO/TU_REPOSITORIO/main/MappingReview.csv\\\"\\n\n",
    "df = pd.read_csv(url, sep=';', encoding='utf-8')\\n\n",
    "\\n\n",
    "print(f\\\"Dataset cargado: {df.shape[0]} filas y {df.shape[1]} columnas\\\")\\n\n",
    "print(\\\"\\\\nPrimeras 5 filas:\\\")\\n\n",
    "df.head()"
   ]
  },
  {
   "cell_type": "markdown",
   "metadata": {},
   "source": [
    "## 3. Procesamiento de Datos de Autores"
   ]
  },
  {
   "cell_type": "code",
   "execution_count": null,
   "metadata": {},
   "outputs": [],
   "source": [
    "# Función para extraer autores individuales\\n\n",
    "def extract_authors(authors_str):\\n\n",
    "    if pd.isna(authors_str):\\n\n",
    "        return []\\n\n",
    "    \\n\n",
    "    # Dividir por punto y coma y limpiar\\n\n",
    "    authors = authors_str.split(';')\\n\n",
    "    cleaned_authors = []\\n\n",
    "    \\n\n",
    "    for author in authors:\\n\n",
    "        author = author.strip()\\n\n",
    "        if author:\\n\n",
    "            # Limpiar comillas y espacios extra\\n\n",
    "            author = re.sub(r'^\\\"|\\\"$', '', author)\\n\n",
    "            author = author.strip()\\n\n",
    "            if author:\\n\n",
    "                cleaned_authors.append(author)\\n\n",
    "    \\n\n",
    "    return cleaned_authors\\n\n",
    "\\n\n",
    "# Aplicar la función a la columna de autores\\n\n",
    "df['Authors_List'] = df['Author(s)'].apply(extract_authors)\\n\n",
    "\\n\n",
    "print(\\\"Procesamiento de autores completado\\\")\\n\n",
    "print(f\\\"Total de publicaciones con autores: {len(df[df['Authors_List'].apply(len) > 0])}\\\")"
   ]
  },
  {
   "cell_type": "code",
   "execution_count": null,
   "metadata": {},
   "outputs": [],
   "source": [
    "# Crear lista de todos los autores\\n\n",
    "all_authors = []\\n\n",
    "for authors_list in df['Authors_List']:\\n\n",
    "    all_authors.extend(authors_list)\\n\n",
    "\\n\n",
    "# Contar frecuencia de autores\\n\n",
    "author_counts = Counter(all_authors)\\n\n",
    "\\n\n",
    "print(f\\\"Total de autores únicos: {len(author_counts)}\\\")\\n\n",
    "print(f\\\"Total de apariciones de autores: {len(all_authors)}\\\")\\n\n",
    "print(f\\\"Promedio de autores por publicación: {len(all_authors) / len(df):.2f}\\\")"
   ]
  },
  {
   "cell_type": "markdown",
   "metadata": {},
   "source": [
    "## 4. Análisis de Autores Más Activos (MQ2)"
   ]
  },
  {
   "cell_type": "code",
   "execution_count": null,
   "metadata": {},
   "outputs": [],
   "source": [
    "# Top 20 autores más activos\\n\n",
    "top_authors = author_counts.most_common(20)\\n\n",
    "\\n\n",
    "print(\\\"=== TOP 20 AUTORES MÁS ACTIVOS ===\\\")\\n\n",
    "for i, (author, count) in enumerate(top_authors, 1):\\n\n",
    "    print(f\\\"{i:2d}. {author}: {count} publicaciones\\\")\\n\n",
    "\\n\n",
    "# Crear DataFrame para análisis\\n\n",
    "top_authors_df = pd.DataFrame(top_authors, columns=['Author', 'Publications'])\\n\n",
    "top_authors_df['Rank'] = range(1, len(top_authors_df) + 1)"
   ]
  },
  {
   "cell_type": "code",
   "execution_count": null,
   "metadata": {},
   "outputs": [],
   "source": [
    "# Gráfico de barras para top 10 autores\\n\n",
    "plt.figure(figsize=(15, 10))\\n\n",
    "top_10 = top_authors_df.head(10)\\n\n",
    "\\n\n",
    "bars = plt.barh(range(len(top_10)), top_10['Publications'], color='skyblue', alpha=0.7)\\n\n",
    "plt.yticks(range(len(top_10)), top_10['Author'], fontsize=10)\\n\n",
    "plt.xlabel('Número de Publicaciones', fontsize=14)\\n\n",
    "plt.title('Top 10 Autores Más Activos en IA y ML en Educación Matemática K-12', \\n\n",
    "          fontsize=16, fontweight='bold')\\n\n",
    "plt.grid(True, alpha=0.3, axis='x')\\n\n",
    "\\n\n",
    "# Agregar valores en las barras\\n\n",
    "for i, (bar, count) in enumerate(zip(bars, top_10['Publications'])):\\n\n",
    "    plt.text(count + 0.1, i, str(count), va='center', fontweight='bold')\\n\n",
    "\\n\n",
    "plt.tight_layout()\\n\n",
    "plt.show()"
   ]
  },
  {
   "cell_type": "code",
   "execution_count": null,
   "metadata": {},
   "outputs": [],
   "source": [
    "# Gráfico interactivo con Plotly\\n\n",
    "fig = px.bar(top_authors_df.head(15), x='Publications', y='Author',\\n\n",
    "              orientation='h',\\n\n",
    "              title='Top 15 Autores Más Activos',\\n\n",
    "              labels={'Publications': 'Número de Publicaciones', 'Author': 'Autor'})\\n\n",
    "\\n\n",
    "fig.update_layout(\\n\n",
    "    title_font_size=16,\\n\n",
    "    xaxis_title_font_size=14,\\n\n",
    "    yaxis_title_font_size=14,\\n\n",
    "    height=600\\n\n",
    ")\\n\n",
    "\\n\n",
    "fig.show()"
   ]
  },
  {
   "cell_type": "markdown",
   "metadata": {},
   "source": [
    "## 5. Análisis de Colaboración entre Autores"
   ]
  },
  {
   "cell_type": "code",
   "execution_count": null,
   "metadata": {},
   "outputs": [],
   "source": [
    "# Crear red de colaboración\\n\n",
    "G = nx.Graph()\\n\n",
    "\\n\n",
    "# Agregar nodos (autores)\\n\n",
    "for author in author_counts.keys():\\n\n",
    "    G.add_node(author, weight=author_counts[author])\\n\n",
    "\\n\n",
    "# Agregar edges (colaboraciones)\\n\n",
    "for authors_list in df['Authors_List']:\\n\n",
    "    if len(authors_list) > 1:\\n\n",
    "        for i in range(len(authors_list)):\\n\n",
    "            for j in range(i + 1, len(authors_list)):\\n\n",
    "                author1, author2 = authors_list[i], authors_list[j]\\n\n",
    "                if G.has_edge(author1, author2):\\n\n",
    "                    G[author1][author2]['weight'] += 1\\n\n",
    "                else:\\n\n",
    "                    G.add_edge(author1, author2, weight=1)\\n\n",
    "\\n\n",
    "print(f\\\"Red de colaboración creada con {G.number_of_nodes()} nodos y {G.number_of_edges()} edges\\\")"
   ]
  },
  {
   "cell_type": "code",
   "execution_count": null,
   "metadata": {},
   "outputs": [],
   "source": [
    "# Análisis de centralidad\\n\n",
    "degree_centrality = nx.degree_centrality(G)\\n\n",
    "betweenness_centrality = nx.betweenness_centrality(G)\\n\n",
    "eigenvector_centrality = nx.eigenvector_centrality(G, max_iter=1000)\\n\n",
    "\\n\n",
    "# Crear DataFrame con métricas de centralidad\\n\n",
    "centrality_df = pd.DataFrame({\\n\n",
    "    'Author': list(G.nodes()),\\n\n",
    "    'Degree': [G.degree(node) for node in G.nodes()],\\n\n",
    "    'Degree_Centrality': [degree_centrality[node] for node in G.nodes()],\\n\n",
    "    'Betweenness_Centrality': [betweenness_centrality[node] for node in G.nodes()],\\n\n",
    "    'Eigenvector_Centrality': [eigenvector_centrality[node] for node in G.nodes()]\\n\n",
    "})\\n\n",
    "\\n\n",
    "centrality_df = centrality_df.sort_values('Degree', ascending=False)\\n\n",
    "\\n\n",
    "print(\\\"=== TOP 10 AUTORES POR CENTRALIDAD ===\\\")\\n\n",
    "print(centrality_df.head(10))"
   ]
  },
  {
   "cell_type": "code",
   "execution_count": null,
   "metadata": {},
   "outputs": [],
   "source": [
    "# Gráfico de dispersión: Centralidad vs Número de Publicaciones\\n\n",
    "plt.figure(figsize=(12, 8))\\n\n",
    "\\n\n",
    "publications = [author_counts[author] for author in centrality_df['Author']]\\n\n",
    "centrality_df['Publications'] = publications\\n\n",
    "\\n\n",
    "plt.scatter(centrality_df['Degree_Centrality'], centrality_df['Publications'], \\n\n",
    "            alpha=0.6, s=50, c=centrality_df['Betweenness_Centrality'], cmap='viridis')\\n\n",
    "\\n\n",
    "plt.xlabel('Centralidad de Grado', fontsize=14)\\n\n",
    "plt.ylabel('Número de Publicaciones', fontsize=14)\\n\n",
    "plt.title('Relación entre Centralidad y Productividad de Autores', fontsize=16, fontweight='bold')\\n\n",
    "plt.colorbar(label='Centralidad de Intermediación')\\n\n",
    "plt.grid(True, alpha=0.3)\\n\n",
    "\\n\n",
    "plt.tight_layout()\\n\n",
    "plt.show()"
   ]
  },
  {
   "cell_type": "markdown",
   "metadata": {},
   "source": [
    "## 6. Análisis de Patrones de Colaboración"
   ]
  },
  {
   "cell_type": "code",
   "execution_count": null,
   "metadata": {},
   "outputs": [],
   "source": [
    "# Análisis de tamaño de equipos de autoría\\n\n",
    "team_sizes = [len(authors) for authors in df['Authors_List']]\\n\n",
    "team_size_counts = Counter(team_sizes)\\n\n",
    "\\n\n",
    "print(\\\"=== DISTRIBUCIÓN DE TAMAÑOS DE EQUIPO ===\\\")\\n\n",
    "for size, count in sorted(team_size_counts.items()):\\n\n",
    "    percentage = (count / len(df)) * 100\\n\n",
    "    print(f\\\"{size} autor(es): {count} publicaciones ({percentage:.1f}%)\\\")\\n\n",
    "\\n\n",
    "# Gráfico de distribución\\n\n",
    "plt.figure(figsize=(10, 6))\\n\n",
    "sizes = sorted(team_size_counts.keys())\\n\n",
    "counts = [team_size_counts[size] for size in sizes]\\n\n",
    "\\n\n",
    "plt.bar(sizes, counts, color='lightcoral', alpha=0.7)\\n\n",
    "plt.xlabel('Número de Autores', fontsize=14)\\n\n",
    "plt.ylabel('Número de Publicaciones', fontsize=14)\\n\n",
    "plt.title('Distribución de Tamaños de Equipo de Autoría', fontsize=16, fontweight='bold')\\n\n",
    "plt.grid(True, alpha=0.3, axis='y')\\n\n",
    "\\n\n",
    "# Agregar valores en las barras\\n\n",
    "for i, count in enumerate(counts):\\n\n",
    "    plt.text(sizes[i], count + 0.5, str(count), ha='center', va='bottom', fontweight='bold')\\n\n",
    "\\n\n",
    "plt.tight_layout()\\n\n",
    "plt.show()"
   ]
  },
  {
   "cell_type": "code",
   "execution_count": null,
   "metadata": {},
   "outputs": [],
   "source": [
    "# Análisis de colaboraciones más frecuentes\\n\n",
    "collaboration_counts = {}\\n\n",
    "\\n\n",
    "for authors_list in df['Authors_List']:\\n\n",
    "    if len(authors_list) > 1:\\n\n",
    "        for i in range(len(authors_list)):\\n\n",
    "            for j in range(i + 1, len(authors_list)):\\n\n",
    "                author1, author2 = authors_list[i], authors_list[j]\\n\n",
    "                pair = tuple(sorted([author1, author2]))\\n\n",
    "                collaboration_counts[pair] = collaboration_counts.get(pair, 0) + 1\\n\n",
    "\\n\n",
    "# Top 10 colaboraciones\\n\n",
    "top_collaborations = sorted(collaboration_counts.items(), key=lambda x: x[1], reverse=True)[:10]\\n\n",
    "\\n\n",
    "print(\\\"=== TOP 10 COLABORACIONES MÁS FRECUENTES ===\\\")\\n\n",
    "for i, ((author1, author2), count) in enumerate(top_collaborations, 1):\\n\n",
    "    print(f\\\"{i:2d}. {author1} & {author2}: {count} colaboraciones\\\")\\n\n",
    "\\n\n",
    "# Gráfico de colaboraciones\\n\n",
    "if top_collaborations:\\n\n",
    "    collaboration_df = pd.DataFrame(top_collaborations, columns=['Authors', 'Collaborations'])\\n\n",
    "    collaboration_df['Author_Pair'] = [f\\\"{a1} & {a2}\\\" for (a1, a2) in collaboration_df['Authors']]\\n\n",
    "    \\n\n",
    "    plt.figure(figsize=(12, 8))\\n\n",
    "    bars = plt.barh(range(len(collaboration_df)), collaboration_df['Collaborations'], color='lightgreen', alpha=0.7)\\n\n",
    "    plt.yticks(range(len(collaboration_df)), collaboration_df['Author_Pair'], fontsize=10)\\n\n",
    "    plt.xlabel('Número de Colaboraciones', fontsize=14)\\n\n",
    "    plt.title('Top 10 Colaboraciones Más Frecuentes', fontsize=16, fontweight='bold')\\n\n",
    "    plt.grid(True, alpha=0.3, axis='x')\\n\n",
    "    \\n\n",
    "    # Agregar valores en las barras\\n\n",
    "    for i, count in enumerate(collaboration_df['Collaborations']):\\n\n",
    "        plt.text(count + 0.1, i, str(count), va='center', fontweight='bold')\\n\n",
    "    \\n\n",
    "    plt.tight_layout()\\n\n",
    "    plt.show()"
   ]
  },
  {
   "cell_type": "markdown",
   "metadata": {},
   "source": [
    "## 7. Resumen y Conclusiones"
   ]
  },
  {
   "cell_type": "code",
   "execution_count": null,
   "metadata": {},
   "outputs": [],
   "source": [
    "# Generar resumen ejecutivo\\n\n",
    "print(\\\"=== RESUMEN EJECUTIVO ===\\\\n\\\")\\n\n",
    "\\n\n",
    "print(f\\\"📊 Total de autores únicos: {len(author_counts)}\\\")\\n\n",
    "print(f\\\"📝 Total de apariciones de autores: {len(all_authors)}\\\")\\n\n",
    "print(f\\\"📈 Promedio de autores por publicación: {len(all_authors) / len(df):.2f}\\\")\\n\n",
    "print(f\\\"🔗 Colaboraciones únicas: {len(collaboration_counts)}\\\")\\n\n",
    "\\n\n",
    "# Autor más productivo\\n\n",
    "most_prolific = top_authors[0]\\n\n",
    "print(f\\\"🏆 Autor más productivo: {most_prolific[0]} ({most_prolific[1]} publicaciones)\\\")\\n\n",
    "\\n\n",
    "# Autor más central\\n\n",
    "most_central = centrality_df.iloc[0]\\n\n",
    "print(f\\\"🌟 Autor más central: {most_central['Author']} (centralidad: {most_central['Degree_Centrality']:.3f})\\\")\\n\n",
    "\\n\n",
    "# Tamaño de equipo más común\\n\n",
    "most_common_team_size = max(team_size_counts, key=team_size_counts.get)\\n\n",
    "print(f\\\"👥 Tamaño de equipo más común: {most_common_team_size} autor(es)\\\")\\n\n",
    "\\n\n",
    "print(\\\"\\\\n=== CONCLUSIONES ===\\\")\\n\n",
    "print(\\\"1. El campo muestra una alta colaboración entre investigadores\\\")\\n\n",
    "print(\\\"2. Hay autores líderes que dominan la producción científica\\\")\\n\n",
    "print(\\\"3. La mayoría de publicaciones son colaborativas\\\")\\n\n",
    "print(\\\"4. Existe una red de colaboración bien establecida\\\")"
   ]
  }
 ],
 "metadata": {
  "kernelspec": {
   "display_name": "Python 3",
   "language": "python",
   "name": "python3"
  },
  "language_info": {
   "codemirror_mode": {
    "name": "ipython",
    "version": 3
   },
   "file_extension": ".py",
   "mimetype": "text/x-python",
   "name": "python",
   "nbconvert_exporter": "python",
   "pygments_lexer": "ipython3",
   "version": "3.8.5"
  }
 },
 "nbformat": 4,
 "nbformat_minor": 4
}
