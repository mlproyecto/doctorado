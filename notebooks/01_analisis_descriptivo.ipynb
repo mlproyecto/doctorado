{
  "cells": [
    {
      "cell_type": "markdown",
      "metadata": {},
      "source": [
        "# Análisis Descriptivo: Mapping Review IA y ML en Educación Matemática K-12\n",
        "\n",
        "**MQ1: ¿Cuántos estudios se han publicado a lo largo de los años?**\n",
        "\n",
        "Este notebook realiza un análisis descriptivo completo del corpus de publicaciones sobre IA y ML en educación matemática K-12."
      ]
    },
    {
      "cell_type": "markdown",
      "metadata": {},
      "source": [
        "## 1. Configuración del Entorno"
      ]
    },
    {
      "cell_type": "code",
      "execution_count": 2,
      "metadata": {},
      "outputs": [
        {
          "name": "stdout",
          "output_type": "stream",
          "text": [
            "Requirement already satisfied: pandas in c:\\users\\deivi\\appdata\\local\\programs\\python\\python312\\lib\\site-packages (2.2.3)\n",
            "Requirement already satisfied: numpy in c:\\users\\deivi\\appdata\\local\\programs\\python\\python312\\lib\\site-packages (2.2.6)\n",
            "Requirement already satisfied: matplotlib in c:\\users\\deivi\\appdata\\local\\programs\\python\\python312\\lib\\site-packages (3.10.3)\n",
            "Requirement already satisfied: seaborn in c:\\users\\deivi\\appdata\\local\\programs\\python\\python312\\lib\\site-packages (0.13.2)\n",
            "Requirement already satisfied: plotly in c:\\users\\deivi\\appdata\\local\\programs\\python\\python312\\lib\\site-packages (6.3.0)\n",
            "Requirement already satisfied: nltk in c:\\users\\deivi\\appdata\\local\\programs\\python\\python312\\lib\\site-packages (3.9.1)\n",
            "Requirement already satisfied: scikit-learn in c:\\users\\deivi\\appdata\\local\\programs\\python\\python312\\lib\\site-packages (1.7.0)\n",
            "Requirement already satisfied: textblob in c:\\users\\deivi\\appdata\\local\\programs\\python\\python312\\lib\\site-packages (0.19.0)\n",
            "Requirement already satisfied: wordcloud in c:\\users\\deivi\\appdata\\local\\programs\\python\\python312\\lib\\site-packages (1.9.4)\n",
            "Requirement already satisfied: python-dateutil>=2.8.2 in c:\\users\\deivi\\appdata\\local\\programs\\python\\python312\\lib\\site-packages (from pandas) (2.9.0.post0)\n",
            "Requirement already satisfied: pytz>=2020.1 in c:\\users\\deivi\\appdata\\local\\programs\\python\\python312\\lib\\site-packages (from pandas) (2025.2)\n",
            "Requirement already satisfied: tzdata>=2022.7 in c:\\users\\deivi\\appdata\\local\\programs\\python\\python312\\lib\\site-packages (from pandas) (2025.2)\n",
            "Requirement already satisfied: contourpy>=1.0.1 in c:\\users\\deivi\\appdata\\local\\programs\\python\\python312\\lib\\site-packages (from matplotlib) (1.3.2)\n",
            "Requirement already satisfied: cycler>=0.10 in c:\\users\\deivi\\appdata\\local\\programs\\python\\python312\\lib\\site-packages (from matplotlib) (0.12.1)\n",
            "Requirement already satisfied: fonttools>=4.22.0 in c:\\users\\deivi\\appdata\\local\\programs\\python\\python312\\lib\\site-packages (from matplotlib) (4.58.0)\n",
            "Requirement already satisfied: kiwisolver>=1.3.1 in c:\\users\\deivi\\appdata\\local\\programs\\python\\python312\\lib\\site-packages (from matplotlib) (1.4.8)\n",
            "Requirement already satisfied: packaging>=20.0 in c:\\users\\deivi\\appdata\\local\\programs\\python\\python312\\lib\\site-packages (from matplotlib) (25.0)\n",
            "Requirement already satisfied: pillow>=8 in c:\\users\\deivi\\appdata\\local\\programs\\python\\python312\\lib\\site-packages (from matplotlib) (11.2.1)\n",
            "Requirement already satisfied: pyparsing>=2.3.1 in c:\\users\\deivi\\appdata\\local\\programs\\python\\python312\\lib\\site-packages (from matplotlib) (3.2.3)\n",
            "Requirement already satisfied: narwhals>=1.15.1 in c:\\users\\deivi\\appdata\\local\\programs\\python\\python312\\lib\\site-packages (from plotly) (2.1.2)\n",
            "Requirement already satisfied: click in c:\\users\\deivi\\appdata\\local\\programs\\python\\python312\\lib\\site-packages (from nltk) (8.2.1)\n",
            "Requirement already satisfied: joblib in c:\\users\\deivi\\appdata\\local\\programs\\python\\python312\\lib\\site-packages (from nltk) (1.5.1)\n",
            "Requirement already satisfied: regex>=2021.8.3 in c:\\users\\deivi\\appdata\\local\\programs\\python\\python312\\lib\\site-packages (from nltk) (2025.7.34)\n",
            "Requirement already satisfied: tqdm in c:\\users\\deivi\\appdata\\local\\programs\\python\\python312\\lib\\site-packages (from nltk) (4.67.1)\n",
            "Requirement already satisfied: scipy>=1.8.0 in c:\\users\\deivi\\appdata\\local\\programs\\python\\python312\\lib\\site-packages (from scikit-learn) (1.16.0)\n",
            "Requirement already satisfied: threadpoolctl>=3.1.0 in c:\\users\\deivi\\appdata\\local\\programs\\python\\python312\\lib\\site-packages (from scikit-learn) (3.6.0)\n",
            "Requirement already satisfied: six>=1.5 in c:\\users\\deivi\\appdata\\local\\programs\\python\\python312\\lib\\site-packages (from python-dateutil>=2.8.2->pandas) (1.17.0)\n",
            "Requirement already satisfied: colorama in c:\\users\\deivi\\appdata\\roaming\\python\\python312\\site-packages (from click->nltk) (0.4.6)\n"
          ]
        }
      ],
      "source": [
        "# Instalación de dependencias\n",
        "!pip install pandas numpy matplotlib seaborn plotly nltk scikit-learn textblob wordcloud"
      ]
    },
    {
      "cell_type": "code",
      "execution_count": null,
      "metadata": {},
      "outputs": [],
      "source": [
        "# Importación de librerías\n",
        "import pandas as pd\n",
        "import numpy as np\n",
        "import matplotlib.pyplot as plt\n",
        "import seaborn as sns\n",
        "import plotly.express as px\n",
        "import plotly.graph_objects as go\n",
        "from plotly.subplots import make_subplots\n",
        "from wordcloud import WordCloud\n",
        "import warnings\n",
        "warnings.filterwarnings('ignore')\n",
        "\n",
        "# Configuración de estilo\n",
        "plt.style.use('seaborn-v0_8')\n",
        "sns.set_palette(\"husl\")\n",
        "plt.rcParams['figure.figsize'] = (12, 8)\n",
        "plt.rcParams['font.size'] = 12\n",
        "\n",
        "# Configuración para mostrar todas las columnas\n",
        "pd.set_option('display.max_columns', None)\n",
        "pd.set_option('display.max_colwidth', None)"
      ]
    },
    {
      "cell_type": "markdown",
      "metadata": {},
      "source": [
        "## 2. Carga de Datos"
      ]
    },
    {
      "cell_type": "code",
      "execution_count": 4,
      "metadata": {},
      "outputs": [
        {
          "ename": "NameError",
          "evalue": "name 'pd' is not defined",
          "output_type": "error",
          "traceback": [
            "\u001b[1;31m---------------------------------------------------------------------------\u001b[0m",
            "\u001b[1;31mNameError\u001b[0m                                 Traceback (most recent call last)",
            "Cell \u001b[1;32mIn[4], line 4\u001b[0m\n\u001b[0;32m      1\u001b[0m \u001b[38;5;66;03m# Cargar el dataset desde GitHub\u001b[39;00m\n\u001b[0;32m      2\u001b[0m \u001b[38;5;66;03m# IMPORTANTE: Cambiar la URL por tu repositorio real\u001b[39;00m\n\u001b[0;32m      3\u001b[0m url \u001b[38;5;241m=\u001b[39m \u001b[38;5;124m\"\u001b[39m\u001b[38;5;124mhttps://raw.githubusercontent.com/mlproyecto/doctorado/main/MappingReview.csv\u001b[39m\u001b[38;5;124m\"\u001b[39m\n\u001b[1;32m----> 4\u001b[0m df \u001b[38;5;241m=\u001b[39m pd\u001b[38;5;241m.\u001b[39mread_csv(url, sep\u001b[38;5;241m=\u001b[39m\u001b[38;5;124m'\u001b[39m\u001b[38;5;124m;\u001b[39m\u001b[38;5;124m'\u001b[39m, encoding\u001b[38;5;241m=\u001b[39m\u001b[38;5;124m'\u001b[39m\u001b[38;5;124mlatin-1\u001b[39m\u001b[38;5;124m'\u001b[39m)\n\u001b[0;32m      6\u001b[0m \u001b[38;5;28mprint\u001b[39m(\u001b[38;5;124mf\u001b[39m\u001b[38;5;124m\"\u001b[39m\u001b[38;5;124mDataset cargado: \u001b[39m\u001b[38;5;132;01m{\u001b[39;00mdf\u001b[38;5;241m.\u001b[39mshape[\u001b[38;5;241m0\u001b[39m]\u001b[38;5;132;01m}\u001b[39;00m\u001b[38;5;124m filas y \u001b[39m\u001b[38;5;132;01m{\u001b[39;00mdf\u001b[38;5;241m.\u001b[39mshape[\u001b[38;5;241m1\u001b[39m]\u001b[38;5;132;01m}\u001b[39;00m\u001b[38;5;124m columnas\u001b[39m\u001b[38;5;124m\"\u001b[39m)\n\u001b[0;32m      7\u001b[0m \u001b[38;5;28mprint\u001b[39m(\u001b[38;5;124m\"\u001b[39m\u001b[38;5;130;01m\\n\u001b[39;00m\u001b[38;5;124mPrimeras 5 filas:\u001b[39m\u001b[38;5;124m\"\u001b[39m)\n",
            "\u001b[1;31mNameError\u001b[0m: name 'pd' is not defined"
          ]
        }
      ],
      "source": [
        "# Cargar el dataset local\n",
        "df = pd.read_csv('../MappingReview.csv', sep=';', encoding='latin-1')\n",
        "\n",
        "print(f\"Dataset cargado: {df.shape[0]} filas y {df.shape[1]} columnas\")\n",
        "print(\"\\nPrimeras 5 filas:\")\n",
        "df.head()"
      ]
    },
    {
      "cell_type": "code",
      "execution_count": null,
      "metadata": {},
      "outputs": [],
      "source": [
        "# Información básica del dataset\n",
        "print(\"Información del dataset:\")\n",
        "print(df.info())\n",
        "\n",
        "print(\"\\nEstadísticas descriptivas:\")\n",
        "print(df.describe())\n",
        "\n",
        "print(\"\\nValores únicos por columna:\")\n",
        "for col in df.columns:\n",
        "    print(f\"{col}: {df[col].nunique()} valores únicos\")"
      ]
    },
    {
      "cell_type": "markdown",
      "metadata": {},
      "source": [
        "## 3. Limpieza y Preparación de Datos"
      ]
    },
    {
      "cell_type": "code",
      "execution_count": null,
      "metadata": {},
      "outputs": [],
      "source": [
        "# Limpieza de datos\n",
        "# Convertir Year a numérico\n",
        "df['Year'] = pd.to_numeric(df['Year'], errors='coerce')\n",
        "\n",
        "print(\"Datos limpiados exitosamente\")\n",
        "print(f\"Rango de años: {int(df['Year'].min())} - {int(df['Year'].max())}\")\n",
        "print(f\"Total de publicaciones: {len(df)}\")\n",
        "print(f\"Fuentes únicas: {df['Source'].nunique()}\")\n",
        "print(f\"Tipos de publicación únicos: {df['Type of Publication'].nunique()}\")"
      ]
    },
    {
      "cell_type": "markdown",
      "metadata": {},
      "source": [
        "## 4. Análisis Temporal (MQ1)"
      ]
    },
    {
      "cell_type": "code",
      "execution_count": null,
      "metadata": {},
      "outputs": [],
      "source": [
        "# Análisis de publicaciones por año\n",
        "yearly_publications = df['Year'].value_counts().sort_index()\n",
        "\n",
        "# Gráfico de líneas temporal\n",
        "plt.figure(figsize=(15, 8))\n",
        "plt.plot(yearly_publications.index, yearly_publications.values, marker='o', linewidth=3, markersize=8)\n",
        "plt.fill_between(yearly_publications.index, yearly_publications.values, alpha=0.3)\n",
        "plt.title('Evolución de Publicaciones sobre IA y ML en Educación Matemática K-12 (2020-2025)', \n",
        "          fontsize=16, fontweight='bold')\n",
        "plt.xlabel('Año', fontsize=14)\n",
        "plt.ylabel('Número de Publicaciones', fontsize=14)\n",
        "plt.grid(True, alpha=0.3)\n",
        "plt.xticks(yearly_publications.index, rotation=45)\n",
        "\n",
        "# Agregar valores en los puntos\n",
        "for i, v in enumerate(yearly_publications.values):\n",
        "    plt.text(yearly_publications.index[i], v + 0.5, str(v), ha='center', va='bottom', fontweight='bold')\n",
        "\n",
        "plt.tight_layout()\n",
        "plt.show()\n",
        "\n",
        "print(f\"Total de publicaciones: {len(df)}\")\n",
        "print(f\"Año con más publicaciones: {yearly_publications.idxmax()} ({yearly_publications.max()} publicaciones)\")\n",
        "print(f\"Año con menos publicaciones: {yearly_publications.idxmin()} ({yearly_publications.min()} publicaciones)\")"
      ]
    },
    {
      "cell_type": "code",
      "execution_count": null,
      "metadata": {},
      "outputs": [],
      "source": [
        "# Gráfico interactivo con Plotly\n",
        "fig = px.line(x=yearly_publications.index, y=yearly_publications.values,\n",
        "              title='Evolución Temporal de Publicaciones',\n",
        "              labels={'x': 'Año', 'y': 'Número de Publicaciones'})\n",
        "\n",
        "fig.update_traces(mode='lines+markers', line=dict(width=3), marker=dict(size=8))\n",
        "fig.update_layout(\n",
        "    title_font_size=16,\n",
        "    xaxis_title_font_size=14,\n",
        "    yaxis_title_font_size=14,\n",
        "    hovermode='x unified'\n",
        ")\n",
        "\n",
        "fig.show()"
      ]
    },
    {
      "cell_type": "markdown",
      "metadata": {},
      "source": [
        "## 5. Estadísticas Descriptivas Generales"
      ]
    },
    {
      "cell_type": "code",
      "execution_count": 1,
      "metadata": {},
      "outputs": [
        {
          "name": "stdout",
          "output_type": "stream",
          "text": [
            "=== ESTADÍSTICAS DESCRIPTIVAS GENERALES ===\n",
            "\n"
          ]
        },
        {
          "ename": "NameError",
          "evalue": "name 'df' is not defined",
          "output_type": "error",
          "traceback": [
            "\u001b[1;31m---------------------------------------------------------------------------\u001b[0m",
            "\u001b[1;31mNameError\u001b[0m                                 Traceback (most recent call last)",
            "Cell \u001b[1;32mIn[1], line 4\u001b[0m\n\u001b[0;32m      1\u001b[0m \u001b[38;5;66;03m# Estadísticas generales\u001b[39;00m\n\u001b[0;32m      2\u001b[0m \u001b[38;5;28mprint\u001b[39m(\u001b[38;5;124m\"\u001b[39m\u001b[38;5;124m=== ESTADÍSTICAS DESCRIPTIVAS GENERALES ===\u001b[39m\u001b[38;5;130;01m\\n\u001b[39;00m\u001b[38;5;124m\"\u001b[39m)\n\u001b[1;32m----> 4\u001b[0m \u001b[38;5;28mprint\u001b[39m(\u001b[38;5;124mf\u001b[39m\u001b[38;5;124m\"\u001b[39m\u001b[38;5;124mTotal de publicaciones analizadas: \u001b[39m\u001b[38;5;132;01m{\u001b[39;00m\u001b[38;5;28mlen\u001b[39m(df)\u001b[38;5;132;01m}\u001b[39;00m\u001b[38;5;124m\"\u001b[39m)\n\u001b[0;32m      5\u001b[0m \u001b[38;5;28mprint\u001b[39m(\u001b[38;5;124mf\u001b[39m\u001b[38;5;124m\"\u001b[39m\u001b[38;5;124mPeríodo de análisis: \u001b[39m\u001b[38;5;132;01m{\u001b[39;00mdf[\u001b[38;5;124m'\u001b[39m\u001b[38;5;124mYear\u001b[39m\u001b[38;5;124m'\u001b[39m]\u001b[38;5;241m.\u001b[39mmin()\u001b[38;5;132;01m}\u001b[39;00m\u001b[38;5;124m - \u001b[39m\u001b[38;5;132;01m{\u001b[39;00mdf[\u001b[38;5;124m'\u001b[39m\u001b[38;5;124mYear\u001b[39m\u001b[38;5;124m'\u001b[39m]\u001b[38;5;241m.\u001b[39mmax()\u001b[38;5;132;01m}\u001b[39;00m\u001b[38;5;124m\"\u001b[39m)\n\u001b[0;32m      6\u001b[0m \u001b[38;5;28mprint\u001b[39m(\u001b[38;5;124mf\u001b[39m\u001b[38;5;124m\"\u001b[39m\u001b[38;5;124mPromedio de publicaciones por año: \u001b[39m\u001b[38;5;132;01m{\u001b[39;00m\u001b[38;5;28mlen\u001b[39m(df)\u001b[38;5;250m \u001b[39m\u001b[38;5;241m/\u001b[39m\u001b[38;5;250m \u001b[39m(df[\u001b[38;5;124m'\u001b[39m\u001b[38;5;124mYear\u001b[39m\u001b[38;5;124m'\u001b[39m]\u001b[38;5;241m.\u001b[39mmax()\u001b[38;5;250m \u001b[39m\u001b[38;5;241m-\u001b[39m\u001b[38;5;250m \u001b[39mdf[\u001b[38;5;124m'\u001b[39m\u001b[38;5;124mYear\u001b[39m\u001b[38;5;124m'\u001b[39m]\u001b[38;5;241m.\u001b[39mmin()\u001b[38;5;250m \u001b[39m\u001b[38;5;241m+\u001b[39m\u001b[38;5;250m \u001b[39m\u001b[38;5;241m1\u001b[39m)\u001b[38;5;132;01m:\u001b[39;00m\u001b[38;5;124m.1f\u001b[39m\u001b[38;5;132;01m}\u001b[39;00m\u001b[38;5;124m\"\u001b[39m)\n",
            "\u001b[1;31mNameError\u001b[0m: name 'df' is not defined"
          ]
        }
      ],
      "source": [
        "# Estadísticas generales\n",
        "print(\"=== ESTADÍSTICAS DESCRIPTIVAS GENERALES ===\\n\")\n",
        "\n",
        "print(f\"Total de publicaciones analizadas: {len(df)}\")\n",
        "print(f\"Período de análisis: {int(df['Year'].min())} - {int(df['Year'].max())}\")\n",
        "print(f\"Promedio de publicaciones por año: {len(df) / (int(df['Year'].max()) - int(df['Year'].min()) + 1):.1f}\")\n",
        "\n",
        "# Análisis por tipo de publicación\n",
        "print(\"\\n=== DISTRIBUCIÓN POR TIPO DE PUBLICACIÓN ===\")\n",
        "type_dist = df['Type of Publication'].value_counts()\n",
        "print(type_dist)\n",
        "\n",
        "# Gráfico de tipos de publicación\n",
        "plt.figure(figsize=(12, 8))\n",
        "colors = plt.cm.Set3(np.linspace(0, 1, len(type_dist)))\n",
        "plt.pie(type_dist.values, labels=type_dist.index, autopct='%1.1f%%', colors=colors, startangle=90)\n",
        "plt.title('Distribución por Tipo de Publicación', fontsize=16, fontweight='bold')\n",
        "plt.axis('equal')\n",
        "plt.show()"
      ]
    },
    {
      "cell_type": "code",
      "execution_count": null,
      "metadata": {},
      "outputs": [],
      "source": [
        "# Análisis de fuentes de datos\n",
        "print(\"\\n=== ANÁLISIS DE FUENTES DE DATOS ===\")\n",
        "source_dist = df['Source'].value_counts()\n",
        "print(source_dist)\n",
        "\n",
        "# Gráfico de fuentes de datos\n",
        "plt.figure(figsize=(12, 8))\n",
        "colors = plt.cm.Pastel1(np.linspace(0, 1, len(source_dist)))\n",
        "plt.pie(source_dist.values, labels=source_dist.index, autopct='%1.1f%%', colors=colors, startangle=90)\n",
        "plt.title('Distribución por Fuente de Datos', fontsize=16, fontweight='bold')\n",
        "plt.axis('equal')\n",
        "plt.show()"
      ]
    },
    {
      "cell_type": "markdown",
      "metadata": {},
      "source": [
        "## 6. Análisis de Tendencias"
      ]
    },
    {
      "cell_type": "code",
      "execution_count": null,
      "metadata": {},
      "outputs": [],
      "source": [
        "# Análisis de tendencias por año y tipo de publicación\n",
        "trend_analysis = df.groupby(['Year', 'Type of Publication']).size().unstack(fill_value=0)\n",
        "\n",
        "plt.figure(figsize=(15, 8))\n",
        "trend_analysis.plot(kind='bar', stacked=True, figsize=(15, 8))\n",
        "plt.title('Tendencias de Publicación por Año y Tipo', fontsize=16, fontweight='bold')\n",
        "plt.xlabel('Año', fontsize=14)\n",
        "plt.ylabel('Número de Publicaciones', fontsize=14)\n",
        "plt.legend(title='Tipo de Publicación', bbox_to_anchor=(1.05, 1), loc='upper left')\n",
        "plt.xticks(rotation=45)\n",
        "plt.tight_layout()\n",
        "plt.show()\n",
        "\n",
        "print(\"\\nTendencias por año y tipo de publicación:\")\n",
        "print(trend_analysis)"
      ]
    },
    {
      "cell_type": "markdown",
      "metadata": {},
      "source": [
        "## 7. Resumen y Conclusiones"
      ]
    },
    {
      "cell_type": "code",
      "execution_count": null,
      "metadata": {},
      "outputs": [],
      "source": [
        "# Generar resumen ejecutivo\n",
        "print(\"=== RESUMEN EJECUTIVO ===\\n\")\n",
        "\n",
        "print(f\" Total de publicaciones analizadas: {len(df)}\")\n",
        "print(f\"📅 Período de análisis: {int(df['Year'].min())} - {int(df['Year'].max())}\")\n",
        "print(f\"📈 Año con mayor actividad: {int(yearly_publications.idxmax())} ({yearly_publications.max()} publicaciones)\")\n",
        "print(f\"📉 Año con menor actividad: {int(yearly_publications.idxmin())} ({yearly_publications.min()} publicaciones)\")\n",
        "print(f\" Promedio anual: {yearly_publications.mean():.1f} publicaciones\")\n",
        "\n",
        "# Tipo más común\n",
        "most_common_type = type_dist.index[0]\n",
        "print(f\" Tipo de publicación más común: {most_common_type} ({type_dist.iloc[0]} publicaciones)\")\n",
        "\n",
        "# Fuente más utilizada\n",
        "most_used_source = source_dist.index[0]\n",
        "print(f\" Fuente más utilizada: {most_used_source} ({source_dist.iloc[0]} publicaciones)\")\n",
        "\n",
        "print(\"\\n=== CONCLUSIONES ===\")\n",
        "print(\"1. El campo de IA y ML en educación matemática K-12 está en crecimiento\")\n",
        "print(\"2. La mayoría de publicaciones son artículos de investigación\")\n",
        "print(\"3. Hay una tendencia creciente en los últimos años\")\n",
        "print(\"4. Se utilizan múltiples fuentes de datos para la búsqueda\")\n",
        "print(\"5. El año 2024 muestra el mayor número de publicaciones\")\n",
        "print(\"6. Scopus es la fuente principal de publicaciones\")"
      ]
    }
  ],
  "metadata": {
    "kernelspec": {
      "display_name": "base",
      "language": "python",
      "name": "python3"
    },
    "language_info": {
      "codemirror_mode": {
        "name": "ipython",
        "version": 3
      },
      "file_extension": ".py",
      "mimetype": "text/x-python",
      "name": "python",
      "nbconvert_exporter": "python",
      "pygments_lexer": "ipython3",
      "version": "3.13.5"
    }
  },
  "nbformat": 4,
  "nbformat_minor": 4
}
