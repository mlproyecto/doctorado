{
  "cells": [
    {
      "cell_type": "markdown",
      "metadata": {},
      "source": [
        "# Análisis Descriptivo: Mapping Review IA y ML en Educación Matemática K-12\n",
        "\n",
        "**MQ1: ¿Cuántos estudios se han publicado a lo largo de los años?**\n",
        "\n",
        "Este notebook realiza un análisis descriptivo completo del corpus de publicaciones sobre IA y ML en educación matemática K-12."
      ]
    },
    {
      "cell_type": "markdown",
      "metadata": {},
      "source": [
        "## 1. Configuración del Entorno"
      ]
    },
    {
      "cell_type": "code",
      "execution_count": 7,
      "metadata": {},
      "outputs": [
        {
          "name": "stdout",
          "output_type": "stream",
          "text": [
            "Requirement already satisfied: pandas in c:\\users\\deivi\\appdata\\local\\programs\\python\\python312\\lib\\site-packages (2.2.3)\n",
            "Requirement already satisfied: numpy in c:\\users\\deivi\\appdata\\local\\programs\\python\\python312\\lib\\site-packages (2.2.6)\n",
            "Requirement already satisfied: matplotlib in c:\\users\\deivi\\appdata\\local\\programs\\python\\python312\\lib\\site-packages (3.10.3)\n",
            "Requirement already satisfied: seaborn in c:\\users\\deivi\\appdata\\local\\programs\\python\\python312\\lib\\site-packages (0.13.2)\n",
            "Requirement already satisfied: plotly in c:\\users\\deivi\\appdata\\local\\programs\\python\\python312\\lib\\site-packages (6.3.0)\n",
            "Requirement already satisfied: nltk in c:\\users\\deivi\\appdata\\local\\programs\\python\\python312\\lib\\site-packages (3.9.1)\n",
            "Requirement already satisfied: scikit-learn in c:\\users\\deivi\\appdata\\local\\programs\\python\\python312\\lib\\site-packages (1.7.0)\n",
            "Requirement already satisfied: textblob in c:\\users\\deivi\\appdata\\local\\programs\\python\\python312\\lib\\site-packages (0.19.0)\n",
            "Requirement already satisfied: wordcloud in c:\\users\\deivi\\appdata\\local\\programs\\python\\python312\\lib\\site-packages (1.9.4)\n",
            "Requirement already satisfied: python-dateutil>=2.8.2 in c:\\users\\deivi\\appdata\\local\\programs\\python\\python312\\lib\\site-packages (from pandas) (2.9.0.post0)\n",
            "Requirement already satisfied: pytz>=2020.1 in c:\\users\\deivi\\appdata\\local\\programs\\python\\python312\\lib\\site-packages (from pandas) (2025.2)\n",
            "Requirement already satisfied: tzdata>=2022.7 in c:\\users\\deivi\\appdata\\local\\programs\\python\\python312\\lib\\site-packages (from pandas) (2025.2)\n",
            "Requirement already satisfied: contourpy>=1.0.1 in c:\\users\\deivi\\appdata\\local\\programs\\python\\python312\\lib\\site-packages (from matplotlib) (1.3.2)\n",
            "Requirement already satisfied: cycler>=0.10 in c:\\users\\deivi\\appdata\\local\\programs\\python\\python312\\lib\\site-packages (from matplotlib) (0.12.1)\n",
            "Requirement already satisfied: fonttools>=4.22.0 in c:\\users\\deivi\\appdata\\local\\programs\\python\\python312\\lib\\site-packages (from matplotlib) (4.58.0)\n",
            "Requirement already satisfied: kiwisolver>=1.3.1 in c:\\users\\deivi\\appdata\\local\\programs\\python\\python312\\lib\\site-packages (from matplotlib) (1.4.8)\n",
            "Requirement already satisfied: packaging>=20.0 in c:\\users\\deivi\\appdata\\local\\programs\\python\\python312\\lib\\site-packages (from matplotlib) (25.0)\n",
            "Requirement already satisfied: pillow>=8 in c:\\users\\deivi\\appdata\\local\\programs\\python\\python312\\lib\\site-packages (from matplotlib) (11.2.1)\n",
            "Requirement already satisfied: pyparsing>=2.3.1 in c:\\users\\deivi\\appdata\\local\\programs\\python\\python312\\lib\\site-packages (from matplotlib) (3.2.3)\n",
            "Requirement already satisfied: narwhals>=1.15.1 in c:\\users\\deivi\\appdata\\local\\programs\\python\\python312\\lib\\site-packages (from plotly) (2.1.2)\n",
            "Requirement already satisfied: click in c:\\users\\deivi\\appdata\\local\\programs\\python\\python312\\lib\\site-packages (from nltk) (8.2.1)\n",
            "Requirement already satisfied: joblib in c:\\users\\deivi\\appdata\\local\\programs\\python\\python312\\lib\\site-packages (from nltk) (1.5.1)\n",
            "Requirement already satisfied: regex>=2021.8.3 in c:\\users\\deivi\\appdata\\local\\programs\\python\\python312\\lib\\site-packages (from nltk) (2025.7.34)\n",
            "Requirement already satisfied: tqdm in c:\\users\\deivi\\appdata\\local\\programs\\python\\python312\\lib\\site-packages (from nltk) (4.67.1)\n",
            "Requirement already satisfied: scipy>=1.8.0 in c:\\users\\deivi\\appdata\\local\\programs\\python\\python312\\lib\\site-packages (from scikit-learn) (1.16.0)\n",
            "Requirement already satisfied: threadpoolctl>=3.1.0 in c:\\users\\deivi\\appdata\\local\\programs\\python\\python312\\lib\\site-packages (from scikit-learn) (3.6.0)\n",
            "Requirement already satisfied: six>=1.5 in c:\\users\\deivi\\appdata\\local\\programs\\python\\python312\\lib\\site-packages (from python-dateutil>=2.8.2->pandas) (1.17.0)\n",
            "Requirement already satisfied: colorama in c:\\users\\deivi\\appdata\\roaming\\python\\python312\\site-packages (from click->nltk) (0.4.6)\n"
          ]
        }
      ],
      "source": [
        "# Instalación de dependencias\n",
        "!pip install pandas numpy matplotlib seaborn plotly nltk scikit-learn textblob wordcloud"
      ]
    },
    {
      "cell_type": "code",
      "execution_count": 9,
      "metadata": {},
      "outputs": [],
      "source": [
        "# Importación de librerías\n",
        "import pandas as pd\n",
        "import numpy as np\n",
        "import matplotlib.pyplot as plt\n",
        "import seaborn as sns\n",
        "import plotly.express as px\n",
        "import plotly.graph_objects as go\n",
        "from plotly.subplots import make_subplots\n",
        "from wordcloud import WordCloud\n",
        "import warnings\n",
        "warnings.filterwarnings('ignore')\n",
        "\n",
        "# Configuración de estilo\n",
        "plt.style.use('seaborn-v0_8')\n",
        "sns.set_palette(\"husl\")\n",
        "plt.rcParams['figure.figsize'] = (12, 8)\n",
        "plt.rcParams['font.size'] = 12\n",
        "\n",
        "# Configuración para mostrar todas las columnas\n",
        "pd.set_option('display.max_columns', None)\n",
        "pd.set_option('display.max_colwidth', None)"
      ]
    },
    {
      "cell_type": "markdown",
      "metadata": {},
      "source": [
        "## 2. Carga de Datos"
      ]
    },
    {
      "cell_type": "code",
      "execution_count": 10,
      "metadata": {},
      "outputs": [
        {
          "name": "stdout",
          "output_type": "stream",
          "text": [
            "Dataset cargado: 89 filas y 8 columnas\n",
            "\n",
            "Primeras 5 filas:\n"
          ]
        },
        {
          "data": {
            "text/html": [
              "<div>\n",
              "<style scoped>\n",
              "    .dataframe tbody tr th:only-of-type {\n",
              "        vertical-align: middle;\n",
              "    }\n",
              "\n",
              "    .dataframe tbody tr th {\n",
              "        vertical-align: top;\n",
              "    }\n",
              "\n",
              "    .dataframe thead th {\n",
              "        text-align: right;\n",
              "    }\n",
              "</style>\n",
              "<table border=\"1\" class=\"dataframe\">\n",
              "  <thead>\n",
              "    <tr style=\"text-align: right;\">\n",
              "      <th></th>\n",
              "      <th>Title</th>\n",
              "      <th>Author(s)</th>\n",
              "      <th>Year</th>\n",
              "      <th>Publication Title</th>\n",
              "      <th>Type of Publication</th>\n",
              "      <th>Source</th>\n",
              "      <th>DOI</th>\n",
              "      <th>Abstract</th>\n",
              "    </tr>\n",
              "  </thead>\n",
              "  <tbody>\n",
              "    <tr>\n",
              "      <th>0</th>\n",
              "      <td>What Would the Matrix Do?: A Systematic Review of K-12 AI Learning Contexts and Learner-Interface Interactions</td>\n",
              "      <td>Moore, Robert L.; Jiang, Shiyan; Abramowitz, Brian</td>\n",
              "      <td>2023</td>\n",
              "      <td>Journal of Research on Technology in Education</td>\n",
              "      <td>Article</td>\n",
              "      <td>Eric</td>\n",
              "      <td>https://doi.org/10.1080/15391523.2022.2148785</td>\n",
              "      <td>This systematic review examines the empirical literature published between 2014 and 2021 that situates artificial intelligence within K-12 educational contexts. Our review synthesizes 12 articles and highlights artificial intelligence's instructional contexts and applications in K-12 learning environments. We focused our synThesis on the learning contexts and the learner-interface interactions. Our findings highlight that most of intelligent systems are being deployed in math or informal settings. Also, there are opportunities for more collaboration to facilitate teaching and learning in domain-specific areas. Additionally, researchers can explore how to implement more collaborative learning opportunities between intelligent tutors and learners. We conclude with a discussion of the reciprocal nature of this technology integration.</td>\n",
              "    </tr>\n",
              "    <tr>\n",
              "      <th>1</th>\n",
              "      <td>ML4STEM Professional Development Program: Enriching K-12 STEM Teaching with Machine Learning</td>\n",
              "      <td>Tang, Jingwan; Zhou, Xiaofei; Wan, Xiaoyu; Daley, Michael; Bai, Zhen</td>\n",
              "      <td>2023</td>\n",
              "      <td>International Journal of Artificial Intelligence in Education</td>\n",
              "      <td>Article</td>\n",
              "      <td>Eric</td>\n",
              "      <td>https://www.doi.org/10.1007/s40593-022-00292-4</td>\n",
              "      <td>The advances of machine learning (ML) in scientific discovery (SD) reveal exciting opportunities to utilize it as a cross-cutting tool for inquiry-based learning in K-12 STEM classrooms. There are, however, limited efforts on providing teachers with sufficient knowledge and skills to integrate ML into teaching. Our study addresses this gap by proposing a professional development (PD) program named ML4STEM. Based on existing research on supporting teacher learning in innovative technology integration, ML4STEM is composed of Teachers-as-Learners and Teachers-as-Designers sessions. It integrates an accessible ML learning platform designed for students with limited math and computing skills. We implemented this PD program and evaluated its effectiveness with 18 K-12 STEM teachers. Findings confirm that ML4STEM successfully develops teachers' understanding of teaching STEM with ML as well as fosters positive attitudes toward applying the ML as an in-class teaching technology. Discussions on the implications of our findings from ML4STEM are provided for future PD researchers and designers.</td>\n",
              "    </tr>\n",
              "    <tr>\n",
              "      <th>2</th>\n",
              "      <td>Integrating Machine Learning in Mathematics Classrooms</td>\n",
              "      <td>Jones, Joshua</td>\n",
              "      <td>2021</td>\n",
              "      <td>Mathematics Teacher: Learning and Teaching PK-12</td>\n",
              "      <td>Article</td>\n",
              "      <td>Eric</td>\n",
              "      <td>https://doi.org/10.5951/MTLT.2021.0001</td>\n",
              "      <td>Aside from being culturally relevant, artificial intelligence is also supporting companies in making business decisions. Consequently, \"workforce needs have shifted rapidly,\" resulting in a demand for applicants who are skilled in \"data, analytics, machine learning, and artificial intelligence\" (Miller and Hughes 2017). This article contributes to filling that need by exploring a lesson in which students learned how conditional probability is the crux of many machine learning algorithms, including predictive text applications. Prior to this lesson, students learned how to calculate conditional probability. Most students had also demonstrated that they were able to calculate experimental probabilities on the basis of a Venn diagram, on a word problem, and on a two-way table. The activity described in this article satisfies Common Core State Standard CCSS.MATH.CONTENT.HSS. CP.A.5.</td>\n",
              "    </tr>\n",
              "    <tr>\n",
              "      <th>3</th>\n",
              "      <td>Personalized Online Learning, Test Fairness, and Educational Measurement: Considering Differential Content Exposure Prior to a High Stakes End of Course Exam</td>\n",
              "      <td>Katz, Daniel; Huggins-Manley, Anne Corinne; Leite, Walter</td>\n",
              "      <td>2022</td>\n",
              "      <td>Applied Measurement in Education</td>\n",
              "      <td>Article</td>\n",
              "      <td>Eric</td>\n",
              "      <td>https://doi.org/10.1080/08957347.2022.2034824</td>\n",
              "      <td>According to the \"Standards for Educational and Psychological Testing\" (2014), one aspect of test fairness concerns examinees having comparable opportunities to learn prior to taking tests. Meanwhile, many researchers are developing platforms enhanced by artificial intelligence (AI) that can personalize curriculum to individual student needs. This leads to a larger overarching question: When personalized learning leads to students having differential exposure to curriculum throughout the K-12 school year, how might this affect test fairness with respect to summative, end-of-year high-stakes tests? As a first step, we traced the differences in content exposure associated with personalized learning and more traditional learning paths. To better understand the implications of differences in content coverage, we conducted a simulation study to evaluate the degree to which curriculum exposure varied across students in a particular AI-enhanced learning platform for Algebra instruction with high-school students. Results indicate that AI-enhanced personalized learning may pose threats to test fairness as opportunity-to-learn on K-12 summative high-stakes tests. We discuss the implications given different perspectives of the role of testing in education</td>\n",
              "    </tr>\n",
              "    <tr>\n",
              "      <th>4</th>\n",
              "      <td>Artificial Intelligence in Mathematics Education: A Systematic Literature Review</td>\n",
              "      <td>Mohamed, Mohamed Zulhilmi bin; Hidayat, Riyan; Suhaizi, Nurain Nabilah binti; Sabri, Norhafiza binti Mat; Mahmud, Muhamad Khairul Hakim bin; Baharuddin, Siti Nurshafikah binti</td>\n",
              "      <td>2022</td>\n",
              "      <td>International Electronic Journal of Mathematics Education</td>\n",
              "      <td>Article</td>\n",
              "      <td>Eric</td>\n",
              "      <td>https://doi.org/10.29333/iejme/12132</td>\n",
              "      <td>The advancement of technology like artificial intelligence (AI) provides a chance to help teachers and students solve and improve teaching and learning performances. The goal of this review is to add to the conversation by offering a complete overview of AI in mathematics teaching and learning for students at all levels of education. A systematic literature review (SLR) was conducted using established and robust guidelines. We follow the preferred Reporting items for systematic reviews and meta-analyses (PRISMA). We searched ScienceDirect, Scopus, Springer Link, ProQuest, and EBSCO Host for 20 AI studies published between 2017 and 2021. The findings of the SLR indicate that AI approach used in mathematics education forthe samples studied were through robotics, systems, tools, teachable agent, autonomous agent, and a comprehensive approach. Then, it can be shown that the majority of the collected studies were carried out in the USA and Mexico. The analysis revealed that most of the reviewed studies used quantitative research methods. The types of themes for AI in mathematics education were categorized into advantages and disadvantages, conceptual understanding, factors, role, idea suggestion, strategies and effectiveness.</td>\n",
              "    </tr>\n",
              "  </tbody>\n",
              "</table>\n",
              "</div>"
            ],
            "text/plain": [
              "                                                                                                                                                           Title  \\\n",
              "0                                                 What Would the Matrix Do?: A Systematic Review of K-12 AI Learning Contexts and Learner-Interface Interactions   \n",
              "1                                                                   ML4STEM Professional Development Program: Enriching K-12 STEM Teaching with Machine Learning   \n",
              "2                                                                                                         Integrating Machine Learning in Mathematics Classrooms   \n",
              "3  Personalized Online Learning, Test Fairness, and Educational Measurement: Considering Differential Content Exposure Prior to a High Stakes End of Course Exam   \n",
              "4                                                                               Artificial Intelligence in Mathematics Education: A Systematic Literature Review   \n",
              "\n",
              "                                                                                                                                                                         Author(s)  \\\n",
              "0                                                                                                                               Moore, Robert L.; Jiang, Shiyan; Abramowitz, Brian   \n",
              "1                                                                                                             Tang, Jingwan; Zhou, Xiaofei; Wan, Xiaoyu; Daley, Michael; Bai, Zhen   \n",
              "2                                                                                                                                                                    Jones, Joshua   \n",
              "3                                                                                                                        Katz, Daniel; Huggins-Manley, Anne Corinne; Leite, Walter   \n",
              "4  Mohamed, Mohamed Zulhilmi bin; Hidayat, Riyan; Suhaizi, Nurain Nabilah binti; Sabri, Norhafiza binti Mat; Mahmud, Muhamad Khairul Hakim bin; Baharuddin, Siti Nurshafikah binti   \n",
              "\n",
              "   Year                                              Publication Title  \\\n",
              "0  2023                 Journal of Research on Technology in Education   \n",
              "1  2023  International Journal of Artificial Intelligence in Education   \n",
              "2  2021               Mathematics Teacher: Learning and Teaching PK-12   \n",
              "3  2022                               Applied Measurement in Education   \n",
              "4  2022      International Electronic Journal of Mathematics Education   \n",
              "\n",
              "  Type of Publication Source                                             DOI  \\\n",
              "0             Article   Eric   https://doi.org/10.1080/15391523.2022.2148785   \n",
              "1             Article   Eric  https://www.doi.org/10.1007/s40593-022-00292-4   \n",
              "2             Article   Eric          https://doi.org/10.5951/MTLT.2021.0001   \n",
              "3             Article   Eric   https://doi.org/10.1080/08957347.2022.2034824   \n",
              "4             Article   Eric            https://doi.org/10.29333/iejme/12132   \n",
              "\n",
              "                                                                                                                                                                                                                                                                                                                                                                                                                                                                                                                                                                                                                                                                                                                                                                                                                                                                                                                                                                                                                                                                                                                                                                                                                                                                                                          Abstract   \n",
              "0                                                                                                                                                                                                                                                                                                                                                                                                                                        This systematic review examines the empirical literature published between 2014 and 2021 that situates artificial intelligence within K-12 educational contexts. Our review synthesizes 12 articles and highlights artificial intelligence's instructional contexts and applications in K-12 learning environments. We focused our synThesis on the learning contexts and the learner-interface interactions. Our findings highlight that most of intelligent systems are being deployed in math or informal settings. Also, there are opportunities for more collaboration to facilitate teaching and learning in domain-specific areas. Additionally, researchers can explore how to implement more collaborative learning opportunities between intelligent tutors and learners. We conclude with a discussion of the reciprocal nature of this technology integration.  \n",
              "1                                                                                                                                                                      The advances of machine learning (ML) in scientific discovery (SD) reveal exciting opportunities to utilize it as a cross-cutting tool for inquiry-based learning in K-12 STEM classrooms. There are, however, limited efforts on providing teachers with sufficient knowledge and skills to integrate ML into teaching. Our study addresses this gap by proposing a professional development (PD) program named ML4STEM. Based on existing research on supporting teacher learning in innovative technology integration, ML4STEM is composed of Teachers-as-Learners and Teachers-as-Designers sessions. It integrates an accessible ML learning platform designed for students with limited math and computing skills. We implemented this PD program and evaluated its effectiveness with 18 K-12 STEM teachers. Findings confirm that ML4STEM successfully develops teachers' understanding of teaching STEM with ML as well as fosters positive attitudes toward applying the ML as an in-class teaching technology. Discussions on the implications of our findings from ML4STEM are provided for future PD researchers and designers.  \n",
              "2                                                                                                                                                                                                                                                                                                                                                                                       Aside from being culturally relevant, artificial intelligence is also supporting companies in making business decisions. Consequently, \"workforce needs have shifted rapidly,\" resulting in a demand for applicants who are skilled in \"data, analytics, machine learning, and artificial intelligence\" (Miller and Hughes 2017). This article contributes to filling that need by exploring a lesson in which students learned how conditional probability is the crux of many machine learning algorithms, including predictive text applications. Prior to this lesson, students learned how to calculate conditional probability. Most students had also demonstrated that they were able to calculate experimental probabilities on the basis of a Venn diagram, on a word problem, and on a two-way table. The activity described in this article satisfies Common Core State Standard CCSS.MATH.CONTENT.HSS. CP.A.5.  \n",
              "3  According to the \"Standards for Educational and Psychological Testing\" (2014), one aspect of test fairness concerns examinees having comparable opportunities to learn prior to taking tests. Meanwhile, many researchers are developing platforms enhanced by artificial intelligence (AI) that can personalize curriculum to individual student needs. This leads to a larger overarching question: When personalized learning leads to students having differential exposure to curriculum throughout the K-12 school year, how might this affect test fairness with respect to summative, end-of-year high-stakes tests? As a first step, we traced the differences in content exposure associated with personalized learning and more traditional learning paths. To better understand the implications of differences in content coverage, we conducted a simulation study to evaluate the degree to which curriculum exposure varied across students in a particular AI-enhanced learning platform for Algebra instruction with high-school students. Results indicate that AI-enhanced personalized learning may pose threats to test fairness as opportunity-to-learn on K-12 summative high-stakes tests. We discuss the implications given different perspectives of the role of testing in education  \n",
              "4                          The advancement of technology like artificial intelligence (AI) provides a chance to help teachers and students solve and improve teaching and learning performances. The goal of this review is to add to the conversation by offering a complete overview of AI in mathematics teaching and learning for students at all levels of education. A systematic literature review (SLR) was conducted using established and robust guidelines. We follow the preferred Reporting items for systematic reviews and meta-analyses (PRISMA). We searched ScienceDirect, Scopus, Springer Link, ProQuest, and EBSCO Host for 20 AI studies published between 2017 and 2021. The findings of the SLR indicate that AI approach used in mathematics education forthe samples studied were through robotics, systems, tools, teachable agent, autonomous agent, and a comprehensive approach. Then, it can be shown that the majority of the collected studies were carried out in the USA and Mexico. The analysis revealed that most of the reviewed studies used quantitative research methods. The types of themes for AI in mathematics education were categorized into advantages and disadvantages, conceptual understanding, factors, role, idea suggestion, strategies and effectiveness.  "
            ]
          },
          "execution_count": 10,
          "metadata": {},
          "output_type": "execute_result"
        }
      ],
      "source": [
        "# Cargar el dataset desde GitHub\n",
        "\n",
        "url = \"https://raw.githubusercontent.com/mlproyecto/doctorado/main/MappingReview.csv\"\n",
        "df = pd.read_csv(url, sep=';', encoding='latin-1')\n",
        "\n",
        "print(f\"Dataset cargado: {df.shape[0]} filas y {df.shape[1]} columnas\")\n",
        "print(\"\\nPrimeras 5 filas:\")\n",
        "df.head()"
      ]
    },
    {
      "cell_type": "code",
      "execution_count": 11,
      "metadata": {},
      "outputs": [
        {
          "name": "stdout",
          "output_type": "stream",
          "text": [
            "Información del dataset:\n",
            "<class 'pandas.core.frame.DataFrame'>\n",
            "RangeIndex: 89 entries, 0 to 88\n",
            "Data columns (total 8 columns):\n",
            " #   Column               Non-Null Count  Dtype \n",
            "---  ------               --------------  ----- \n",
            " 0   Title                89 non-null     object\n",
            " 1   Author(s)            89 non-null     object\n",
            " 2   Year                 89 non-null     int64 \n",
            " 3   Publication Title    89 non-null     object\n",
            " 4   Type of Publication  89 non-null     object\n",
            " 5   Source               89 non-null     object\n",
            " 6   DOI                  84 non-null     object\n",
            " 7   Abstract             89 non-null     object\n",
            "dtypes: int64(1), object(7)\n",
            "memory usage: 5.7+ KB\n",
            "None\n",
            "\n",
            "Estadísticas descriptivas:\n",
            "              Year\n",
            "count    89.000000\n",
            "mean   2023.325843\n",
            "std       1.363279\n",
            "min    2020.000000\n",
            "25%    2022.000000\n",
            "50%    2024.000000\n",
            "75%    2024.000000\n",
            "max    2025.000000\n",
            "\n",
            "Valores únicos por columna:\n",
            "Title: 89 valores únicos\n",
            "Author(s): 89 valores únicos\n",
            "Year: 6 valores únicos\n",
            "Publication Title: 70 valores únicos\n",
            "Type of Publication: 3 valores únicos\n",
            "Source: 4 valores únicos\n",
            "DOI: 84 valores únicos\n",
            "Abstract : 89 valores únicos\n"
          ]
        }
      ],
      "source": [
        "# Información básica del dataset\n",
        "print(\"Información del dataset:\")\n",
        "print(df.info())\n",
        "\n",
        "print(\"\\nEstadísticas descriptivas:\")\n",
        "print(df.describe())\n",
        "\n",
        "print(\"\\nValores únicos por columna:\")\n",
        "for col in df.columns:\n",
        "    print(f\"{col}: {df[col].nunique()} valores únicos\")"
      ]
    },
    {
      "cell_type": "markdown",
      "metadata": {},
      "source": [
        "## 3. Limpieza y Preparación de Datos"
      ]
    },
    {
      "cell_type": "code",
      "execution_count": 12,
      "metadata": {},
      "outputs": [
        {
          "name": "stdout",
          "output_type": "stream",
          "text": [
            "Datos limpiados exitosamente\n",
            "Rango de años: 2020 - 2025\n",
            "Total de publicaciones: 89\n",
            "Fuentes únicas: 4\n",
            "Tipos de publicación únicos: 3\n"
          ]
        }
      ],
      "source": [
        "# Limpieza de datos\n",
        "# Convertir Year a numérico\n",
        "df['Year'] = pd.to_numeric(df['Year'], errors='coerce')\n",
        "\n",
        "print(\"Datos limpiados exitosamente\")\n",
        "print(f\"Rango de años: {int(df['Year'].min())} - {int(df['Year'].max())}\")\n",
        "print(f\"Total de publicaciones: {len(df)}\")\n",
        "print(f\"Fuentes únicas: {df['Source'].nunique()}\")\n",
        "print(f\"Tipos de publicación únicos: {df['Type of Publication'].nunique()}\")"
      ]
    },
    {
      "cell_type": "markdown",
      "metadata": {},
      "source": [
        "## 4. Análisis Temporal (MQ1)"
      ]
    },
    {
      "cell_type": "code",
      "execution_count": 14,
      "metadata": {},
      "outputs": [
        {
          "data": {
            "image/png": "[encoded data removed]",
            "text/plain": [
              "<Figure size 1500x800 with 1 Axes>"
            ]
          },
          "metadata": {},
          "output_type": "display_data"
        },
        {
          "name": "stdout",
          "output_type": "stream",
          "text": [
            "Total de publicaciones: 89\n",
            "Año con más publicaciones: 2024 (35 publicaciones)\n",
            "Año con menos publicaciones: 2020 (4 publicaciones)\n"
          ]
        }
      ],
      "source": [
        "# Análisis de publicaciones por año\n",
        "yearly_publications = df['Year'].value_counts().sort_index()\n",
        "\n",
        "# Gráfico de líneas temporal\n",
        "plt.figure(figsize=(15, 8))\n",
        "plt.plot(yearly_publications.index, yearly_publications.values, marker='o', linewidth=3, markersize=8)\n",
        "plt.fill_between(yearly_publications.index, yearly_publications.values, alpha=0.3)\n",
        "plt.title('Evolución de Publicaciones sobre IA y ML en Educación Matemática K-12 (2020-2025)', \n",
        "          fontsize=16, fontweight='bold')\n",
        "plt.xlabel('Año', fontsize=14)\n",
        "plt.ylabel('Número de Publicaciones', fontsize=14)\n",
        "plt.grid(True, alpha=0.3)\n",
        "plt.xticks(yearly_publications.index, rotation=45)\n",
        "\n",
        "# Agregar valores en los puntos\n",
        "for i, v in enumerate(yearly_publications.values):\n",
        "    plt.text(yearly_publications.index[i], v + 0.5, str(v), ha='center', va='bottom', fontweight='bold')\n",
        "\n",
        "plt.tight_layout()\n",
        "plt.show()\n",
        "\n",
        "print(f\"Total de publicaciones: {len(df)}\")\n",
        "print(f\"Año con más publicaciones: {yearly_publications.idxmax()} ({yearly_publications.max()} publicaciones)\")\n",
        "print(f\"Año con menos publicaciones: {yearly_publications.idxmin()} ({yearly_publications.min()} publicaciones)\")"
      ]
    },
    {
      "cell_type": "code",
      "execution_count": 15,
      "metadata": {},
      "outputs": [
        {
          "data": {
            "application/vnd.plotly.v1+json": {
              "config": {
                "plotlyServerURL": "https://plot.ly"
              },
              "data": [
                {
                  "hovertemplate": "Año=%{x}<br>Número de Publicaciones=%{y}<extra></extra>",
                  "legendgroup": "",
                  "line": {
                    "color": "#636efa",
                    "dash": "solid",
                    "width": 3
                  },
                  "marker": {
                    "size": 8,
                    "symbol": "circle"
                  },
                  "mode": "lines+markers",
                  "name": "",
                  "orientation": "v",
                  "showlegend": false,
                  "type": "scatter",
                  "x": [
                    2020,
                    2021,
                    2022,
                    2023,
                    2024,
                    2025
                  ],
                  "xaxis": "x",
                  "y": [
                    4,
                    6,
                    14,
                    14,
                    35,
                    16
                  ],
                  "yaxis": "y"
                }
              ],
              "layout": {
                "hovermode": "x unified",
                "legend": {
                  "tracegroupgap": 0
                },
                "template": {
                  "data": {
                    "bar": [
                      {
                        "error_x": {
                          "color": "#2a3f5f"
                        },
                        "error_y": {
                          "color": "#2a3f5f"
                        },
                        "marker": {
                          "line": {
                            "color": "#E5ECF6",
                            "width": 0.5
                          },
                          "pattern": {
                            "fillmode": "overlay",
                            "size": 10,
                            "solidity": 0.2
                          }
                        },
                        "type": "bar"
                      }
                    ],
                    "barpolar": [
                      {
                        "marker": {
                          "line": {
                            "color": "#E5ECF6",
                            "width": 0.5
                          },
                          "pattern": {
                            "fillmode": "overlay",
                            "size": 10,
                            "solidity": 0.2
                          }
                        },
                        "type": "barpolar"
                      }
                    ],
                    "carpet": [
                      {
                        "aaxis": {
                          "endlinecolor": "#2a3f5f",
                          "gridcolor": "white",
                          "linecolor": "white",
                          "minorgridcolor": "white",
                          "startlinecolor": "#2a3f5f"
                        },
                        "baxis": {
                          "endlinecolor": "#2a3f5f",
                          "gridcolor": "white",
                          "linecolor": "white",
                          "minorgridcolor": "white",
                          "startlinecolor": "#2a3f5f"
                        },
                        "type": "carpet"
                      }
                    ],
                    "choropleth": [
                      {
                        "colorbar": {
                          "outlinewidth": 0,
                          "ticks": ""
                        },
                        "type": "choropleth"
                      }
                    ],
                    "contour": [
                      {
                        "colorbar": {
                          "outlinewidth": 0,
                          "ticks": ""
                        },
                        "colorscale": [
                          [
                            0,
                            "#0d0887"
                          ],
                          [
                            0.1111111111111111,
                            "#46039f"
                          ],
                          [
                            0.2222222222222222,
                            "#7201a8"
                          ],
                          [
                            0.3333333333333333,
                            "#9c179e"
                          ],
                          [
                            0.4444444444444444,
                            "#bd3786"
                          ],
                          [
                            0.5555555555555556,
                            "#d8576b"
                          ],
                          [
                            0.6666666666666666,
                            "#ed7953"
                          ],
                          [
                            0.7777777777777778,
                            "#fb9f3a"
                          ],
                          [
                            0.8888888888888888,
                            "#fdca26"
                          ],
                          [
                            1,
                            "#f0f921"
                          ]
                        ],
                        "type": "contour"
                      }
                    ],
                    "contourcarpet": [
                      {
                        "colorbar": {
                          "outlinewidth": 0,
                          "ticks": ""
                        },
                        "type": "contourcarpet"
                      }
                    ],
                    "heatmap": [
                      {
                        "colorbar": {
                          "outlinewidth": 0,
                          "ticks": ""
                        },
                        "colorscale": [
                          [
                            0,
                            "#0d0887"
                          ],
                          [
                            0.1111111111111111,
                            "#46039f"
                          ],
                          [
                            0.2222222222222222,
                            "#7201a8"
                          ],
                          [
                            0.3333333333333333,
                            "#9c179e"
                          ],
                          [
                            0.4444444444444444,
                            "#bd3786"
                          ],
                          [
                            0.5555555555555556,
                            "#d8576b"
                          ],
                          [
                            0.6666666666666666,
                            "#ed7953"
                          ],
                          [
                            0.7777777777777778,
                            "#fb9f3a"
                          ],
                          [
                            0.8888888888888888,
                            "#fdca26"
                          ],
                          [
                            1,
                            "#f0f921"
                          ]
                        ],
                        "type": "heatmap"
                      }
                    ],
                    "heatmapgl": [
                      {
                        "colorbar": {
                          "outlinewidth": 0,
                          "ticks": ""
                        },
                        "colorscale": [
                          [
                            0,
                            "#0d0887"
                          ],
                          [
                            0.1111111111111111,
                            "#46039f"
                          ],
                          [
                            0.2222222222222222,
                            "#7201a8"
                          ],
                          [
                            0.3333333333333333,
                            "#9c179e"
                          ],
                          [
                            0.4444444444444444,
                            "#bd3786"
                          ],
                          [
                            0.5555555555555556,
                            "#d8576b"
                          ],
                          [
                            0.6666666666666666,
                            "#ed7953"
                          ],
                          [
                            0.7777777777777778,
                            "#fb9f3a"
                          ],
                          [
                            0.8888888888888888,
                            "#fdca26"
                          ],
                          [
                            1,
                            "#f0f921"
                          ]
                        ],
                        "type": "heatmapgl"
                      }
                    ],
                    "histogram": [
                      {
                        "marker": {
                          "pattern": {
                            "fillmode": "overlay",
                            "size": 10,
                            "solidity": 0.2
                          }
                        },
                        "type": "histogram"
                      }
                    ],
                    "histogram2d": [
                      {
                        "colorbar": {
                          "outlinewidth": 0,
                          "ticks": ""
                        },
                        "colorscale": [
                          [
                            0,
                            "#0d0887"
                          ],
                          [
                            0.1111111111111111,
                            "#46039f"
                          ],
                          [
                            0.2222222222222222,
                            "#7201a8"
                          ],
                          [
                            0.3333333333333333,
                            "#9c179e"
                          ],
                          [
                            0.4444444444444444,
                            "#bd3786"
                          ],
                          [
                            0.5555555555555556,
                            "#d8576b"
                          ],
                          [
                            0.6666666666666666,
                            "#ed7953"
                          ],
                          [
                            0.7777777777777778,
                            "#fb9f3a"
                          ],
                          [
                            0.8888888888888888,
                            "#fdca26"
                          ],
                          [
                            1,
                            "#f0f921"
                          ]
                        ],
                        "type": "histogram2d"
                      }
                    ],
                    "histogram2dcontour": [
                      {
                        "colorbar": {
                          "outlinewidth": 0,
                          "ticks": ""
                        },
                        "colorscale": [
                          [
                            0,
                            "#0d0887"
                          ],
                          [
                            0.1111111111111111,
                            "#46039f"
                          ],
                          [
                            0.2222222222222222,
                            "#7201a8"
                          ],
                          [
                            0.3333333333333333,
                            "#9c179e"
                          ],
                          [
                            0.4444444444444444,
                            "#bd3786"
                          ],
                          [
                            0.5555555555555556,
                            "#d8576b"
                          ],
                          [
                            0.6666666666666666,
                            "#ed7953"
                          ],
                          [
                            0.7777777777777778,
                            "#fb9f3a"
                          ],
                          [
                            0.8888888888888888,
                            "#fdca26"
                          ],
                          [
                            1,
                            "#f0f921"
                          ]
                        ],
                        "type": "histogram2dcontour"
                      }
                    ],
                    "mesh3d": [
                      {
                        "colorbar": {
                          "outlinewidth": 0,
                          "ticks": ""
                        },
                        "type": "mesh3d"
                      }
                    ],
                    "parcoords": [
                      {
                        "line": {
                          "colorbar": {
                            "outlinewidth": 0,
                            "ticks": ""
                          }
                        },
                        "type": "parcoords"
                      }
                    ],
                    "pie": [
                      {
                        "automargin": true,
                        "type": "pie"
                      }
                    ],
                    "scatter": [
                      {
                        "fillpattern": {
                          "fillmode": "overlay",
                          "size": 10,
                          "solidity": 0.2
                        },
                        "type": "scatter"
                      }
                    ],
                    "scatter3d": [
                      {
                        "line": {
                          "colorbar": {
                            "outlinewidth": 0,
                            "ticks": ""
                          }
                        },
                        "marker": {
                          "colorbar": {
                            "outlinewidth": 0,
                            "ticks": ""
                          }
                        },
                        "type": "scatter3d"
                      }
                    ],
                    "scattercarpet": [
                      {
                        "marker": {
                          "colorbar": {
                            "outlinewidth": 0,
                            "ticks": ""
                          }
                        },
                        "type": "scattercarpet"
                      }
                    ],
                    "scattergeo": [
                      {
                        "marker": {
                          "colorbar": {
                            "outlinewidth": 0,
                            "ticks": ""
                          }
                        },
                        "type": "scattergeo"
                      }
                    ],
                    "scattergl": [
                      {
                        "marker": {
                          "colorbar": {
                            "outlinewidth": 0,
                            "ticks": ""
                          }
                        },
                        "type": "scattergl"
                      }
                    ],
                    "scattermapbox": [
                      {
                        "marker": {
                          "colorbar": {
                            "outlinewidth": 0,
                            "ticks": ""
                          }
                        },
                        "type": "scattermapbox"
                      }
                    ],
                    "scatterpolar": [
                      {
                        "marker": {
                          "colorbar": {
                            "outlinewidth": 0,
                            "ticks": ""
                          }
                        },
                        "type": "scatterpolar"
                      }
                    ],
                    "scatterpolargl": [
                      {
                        "marker": {
                          "colorbar": {
                            "outlinewidth": 0,
                            "ticks": ""
                          }
                        },
                        "type": "scatterpolargl"
                      }
                    ],
                    "scatterternary": [
                      {
                        "marker": {
                          "colorbar": {
                            "outlinewidth": 0,
                            "ticks": ""
                          }
                        },
                        "type": "scatterternary"
                      }
                    ],
                    "surface": [
                      {
                        "colorbar": {
                          "outlinewidth": 0,
                          "ticks": ""
                        },
                        "colorscale": [
                          [
                            0,
                            "#0d0887"
                          ],
                          [
                            0.1111111111111111,
                            "#46039f"
                          ],
                          [
                            0.2222222222222222,
                            "#7201a8"
                          ],
                          [
                            0.3333333333333333,
                            "#9c179e"
                          ],
                          [
                            0.4444444444444444,
                            "#bd3786"
                          ],
                          [
                            0.5555555555555556,
                            "#d8576b"
                          ],
                          [
                            0.6666666666666666,
                            "#ed7953"
                          ],
                          [
                            0.7777777777777778,
                            "#fb9f3a"
                          ],
                          [
                            0.8888888888888888,
                            "#fdca26"
                          ],
                          [
                            1,
                            "#f0f921"
                          ]
                        ],
                        "type": "surface"
                      }
                    ],
                    "table": [
                      {
                        "cells": {
                          "fill": {
                            "color": "#EBF0F8"
                          },
                          "line": {
                            "color": "white"
                          }
                        },
                        "header": {
                          "fill": {
                            "color": "#C8D4E3"
                          },
                          "line": {
                            "color": "white"
                          }
                        },
                        "type": "table"
                      }
                    ]
                  },
                  "layout": {
                    "annotationdefaults": {
                      "arrowcolor": "#2a3f5f",
                      "arrowhead": 0,
                      "arrowwidth": 1
                    },
                    "autotypenumbers": "strict",
                    "coloraxis": {
                      "colorbar": {
                        "outlinewidth": 0,
                        "ticks": ""
                      }
                    },
                    "colorscale": {
                      "diverging": [
                        [
                          0,
                          "#8e0152"
                        ],
                        [
                          0.1,
                          "#c51b7d"
                        ],
                        [
                          0.2,
                          "#de77ae"
                        ],
                        [
                          0.3,
                          "#f1b6da"
                        ],
                        [
                          0.4,
                          "#fde0ef"
                        ],
                        [
                          0.5,
                          "#f7f7f7"
                        ],
                        [
                          0.6,
                          "#e6f5d0"
                        ],
                        [
                          0.7,
                          "#b8e186"
                        ],
                        [
                          0.8,
                          "#7fbc41"
                        ],
                        [
                          0.9,
                          "#4d9221"
                        ],
                        [
                          1,
                          "#276419"
                        ]
                      ],
                      "sequential": [
                        [
                          0,
                          "#0d0887"
                        ],
                        [
                          0.1111111111111111,
                          "#46039f"
                        ],
                        [
                          0.2222222222222222,
                          "#7201a8"
                        ],
                        [
                          0.3333333333333333,
                          "#9c179e"
                        ],
                        [
                          0.4444444444444444,
                          "#bd3786"
                        ],
                        [
                          0.5555555555555556,
                          "#d8576b"
                        ],
                        [
                          0.6666666666666666,
                          "#ed7953"
                        ],
                        [
                          0.7777777777777778,
                          "#fb9f3a"
                        ],
                        [
                          0.8888888888888888,
                          "#fdca26"
                        ],
                        [
                          1,
                          "#f0f921"
                        ]
                      ],
                      "sequentialminus": [
                        [
                          0,
                          "#0d0887"
                        ],
                        [
                          0.1111111111111111,
                          "#46039f"
                        ],
                        [
                          0.2222222222222222,
                          "#7201a8"
                        ],
                        [
                          0.3333333333333333,
                          "#9c179e"
                        ],
                        [
                          0.4444444444444444,
                          "#bd3786"
                        ],
                        [
                          0.5555555555555556,
                          "#d8576b"
                        ],
                        [
                          0.6666666666666666,
                          "#ed7953"
                        ],
                        [
                          0.7777777777777778,
                          "#fb9f3a"
                        ],
                        [
                          0.8888888888888888,
                          "#fdca26"
                        ],
                        [
                          1,
                          "#f0f921"
                        ]
                      ]
                    },
                    "colorway": [
                      "#636efa",
                      "#EF553B",
                      "#00cc96",
                      "#ab63fa",
                      "#FFA15A",
                      "#19d3f3",
                      "#FF6692",
                      "#B6E880",
                      "#FF97FF",
                      "#FECB52"
                    ],
                    "font": {
                      "color": "#2a3f5f"
                    },
                    "geo": {
                      "bgcolor": "white",
                      "lakecolor": "white",
                      "landcolor": "#E5ECF6",
                      "showlakes": true,
                      "showland": true,
                      "subunitcolor": "white"
                    },
                    "hoverlabel": {
                      "align": "left"
                    },
                    "hovermode": "closest",
                    "mapbox": {
                      "style": "light"
                    },
                    "paper_bgcolor": "white",
                    "plot_bgcolor": "#E5ECF6",
                    "polar": {
                      "angularaxis": {
                        "gridcolor": "white",
                        "linecolor": "white",
                        "ticks": ""
                      },
                      "bgcolor": "#E5ECF6",
                      "radialaxis": {
                        "gridcolor": "white",
                        "linecolor": "white",
                        "ticks": ""
                      }
                    },
                    "scene": {
                      "xaxis": {
                        "backgroundcolor": "#E5ECF6",
                        "gridcolor": "white",
                        "gridwidth": 2,
                        "linecolor": "white",
                        "showbackground": true,
                        "ticks": "",
                        "zerolinecolor": "white"
                      },
                      "yaxis": {
                        "backgroundcolor": "#E5ECF6",
                        "gridcolor": "white",
                        "gridwidth": 2,
                        "linecolor": "white",
                        "showbackground": true,
                        "ticks": "",
                        "zerolinecolor": "white"
                      },
                      "zaxis": {
                        "backgroundcolor": "#E5ECF6",
                        "gridcolor": "white",
                        "gridwidth": 2,
                        "linecolor": "white",
                        "showbackground": true,
                        "ticks": "",
                        "zerolinecolor": "white"
                      }
                    },
                    "shapedefaults": {
                      "line": {
                        "color": "#2a3f5f"
                      }
                    },
                    "ternary": {
                      "aaxis": {
                        "gridcolor": "white",
                        "linecolor": "white",
                        "ticks": ""
                      },
                      "baxis": {
                        "gridcolor": "white",
                        "linecolor": "white",
                        "ticks": ""
                      },
                      "bgcolor": "#E5ECF6",
                      "caxis": {
                        "gridcolor": "white",
                        "linecolor": "white",
                        "ticks": ""
                      }
                    },
                    "title": {
                      "x": 0.05
                    },
                    "xaxis": {
                      "automargin": true,
                      "gridcolor": "white",
                      "linecolor": "white",
                      "ticks": "",
                      "title": {
                        "standoff": 15
                      },
                      "zerolinecolor": "white",
                      "zerolinewidth": 2
                    },
                    "yaxis": {
                      "automargin": true,
                      "gridcolor": "white",
                      "linecolor": "white",
                      "ticks": "",
                      "title": {
                        "standoff": 15
                      },
                      "zerolinecolor": "white",
                      "zerolinewidth": 2
                    }
                  }
                },
                "title": {
                  "font": {
                    "size": 16
                  },
                  "text": "Evolución Temporal de Publicaciones"
                },
                "xaxis": {
                  "anchor": "y",
                  "domain": [
                    0,
                    1
                  ],
                  "title": {
                    "font": {
                      "size": 14
                    },
                    "text": "Año"
                  }
                },
                "yaxis": {
                  "anchor": "x",
                  "domain": [
                    0,
                    1
                  ],
                  "title": {
                    "font": {
                      "size": 14
                    },
                    "text": "Número de Publicaciones"
                  }
                }
              }
            }
          },
          "metadata": {},
          "output_type": "display_data"
        }
      ],
      "source": [
        "# Gráfico interactivo con Plotly\n",
        "fig = px.line(x=yearly_publications.index, y=yearly_publications.values,\n",
        "              title='Evolución Temporal de Publicaciones',\n",
        "              labels={'x': 'Año', 'y': 'Número de Publicaciones'})\n",
        "\n",
        "fig.update_traces(mode='lines+markers', line=dict(width=3), marker=dict(size=8))\n",
        "fig.update_layout(\n",
        "    title_font_size=16,\n",
        "    xaxis_title_font_size=14,\n",
        "    yaxis_title_font_size=14,\n",
        "    hovermode='x unified'\n",
        ")\n",
        "\n",
        "fig.show()"
      ]
    },
    {
      "cell_type": "markdown",
      "metadata": {},
      "source": [
        "## 5. Estadísticas Descriptivas Generales"
      ]
    },
    {
      "cell_type": "code",
      "execution_count": 16,
      "metadata": {},
      "outputs": [
        {
          "name": "stdout",
          "output_type": "stream",
          "text": [
            "=== ESTADÍSTICAS DESCRIPTIVAS GENERALES ===\n",
            "\n",
            "Total de publicaciones analizadas: 89\n",
            "Período de análisis: 2020 - 2025\n",
            "Promedio de publicaciones por año: 14.8\n",
            "\n",
            "=== DISTRIBUCIÓN POR TIPO DE PUBLICACIÓN ===\n",
            "Type of Publication\n",
            "Article         52\n",
            "Conference      33\n",
            "Book chapter     4\n",
            "Name: count, dtype: int64\n"
          ]
        },
        {
          "data": {
            "image/png": "[encoded data removed]",
            "text/plain": [
              "<Figure size 1200x800 with 1 Axes>"
            ]
          },
          "metadata": {},
          "output_type": "display_data"
        }
      ],
      "source": [
        "# Estadísticas generales\n",
        "print(\"=== ESTADÍSTICAS DESCRIPTIVAS GENERALES ===\\n\")\n",
        "\n",
        "print(f\"Total de publicaciones analizadas: {len(df)}\")\n",
        "print(f\"Período de análisis: {int(df['Year'].min())} - {int(df['Year'].max())}\")\n",
        "print(f\"Promedio de publicaciones por año: {len(df) / (int(df['Year'].max()) - int(df['Year'].min()) + 1):.1f}\")\n",
        "\n",
        "# Análisis por tipo de publicación\n",
        "print(\"\\n=== DISTRIBUCIÓN POR TIPO DE PUBLICACIÓN ===\")\n",
        "type_dist = df['Type of Publication'].value_counts()\n",
        "print(type_dist)\n",
        "\n",
        "# Gráfico de tipos de publicación\n",
        "plt.figure(figsize=(12, 8))\n",
        "colors = plt.cm.Set3(np.linspace(0, 1, len(type_dist)))\n",
        "plt.pie(type_dist.values, labels=type_dist.index, autopct='%1.1f%%', colors=colors, startangle=90)\n",
        "plt.title('Distribución por Tipo de Publicación', fontsize=16, fontweight='bold')\n",
        "plt.axis('equal')\n",
        "plt.show()"
      ]
    },
    {
      "cell_type": "code",
      "execution_count": 18,
      "metadata": {},
      "outputs": [
        {
          "name": "stdout",
          "output_type": "stream",
          "text": [
            "\n",
            "=== ANÁLISIS DE FUENTES DE DATOS ===\n",
            "Source\n",
            "Scopus    44\n",
            "WoS       21\n",
            "Eric      18\n",
            "IEEE       6\n",
            "Name: count, dtype: int64\n"
          ]
        },
        {
          "data": {
            "image/png": "[encoded data removed]",
            "text/plain": [
              "<Figure size 1200x800 with 1 Axes>"
            ]
          },
          "metadata": {},
          "output_type": "display_data"
        }
      ],
      "source": [
        "# Análisis de fuentes de datos\n",
        "print(\"\\n=== ANÁLISIS DE FUENTES DE DATOS ===\")\n",
        "source_dist = df['Source'].value_counts()\n",
        "print(source_dist)\n",
        "\n",
        "# Gráfico de fuentes de datos\n",
        "plt.figure(figsize=(12, 8))\n",
        "colors = plt.cm.Pastel1(np.linspace(0, 1, len(source_dist)))\n",
        "plt.pie(source_dist.values, labels=source_dist.index, autopct='%1.1f%%', colors=colors, startangle=90)\n",
        "plt.title('Distribución por Fuente de Datos', fontsize=16, fontweight='bold')\n",
        "plt.axis('equal')\n",
        "plt.show()"
      ]
    },
    {
      "cell_type": "markdown",
      "metadata": {},
      "source": [
        "## 6. Análisis de Tendencias"
      ]
    },
    {
      "cell_type": "code",
      "execution_count": 19,
      "metadata": {},
      "outputs": [
        {
          "data": {
            "text/plain": [
              "<Figure size 1500x800 with 0 Axes>"
            ]
          },
          "metadata": {},
          "output_type": "display_data"
        },
        {
          "data": {
            "image/png": "[encoded data removed]",
            "text/plain": [
              "<Figure size 1500x800 with 1 Axes>"
            ]
          },
          "metadata": {},
          "output_type": "display_data"
        },
        {
          "name": "stdout",
          "output_type": "stream",
          "text": [
            "\n",
            "Tendencias por año y tipo de publicación:\n",
            "Type of Publication  Article  Book chapter  Conference\n",
            "Year                                                  \n",
            "2020                       3             0           1\n",
            "2021                       3             0           3\n",
            "2022                       7             2           5\n",
            "2023                       8             1           5\n",
            "2024                      20             1          14\n",
            "2025                      11             0           5\n"
          ]
        }
      ],
      "source": [
        "# Análisis de tendencias por año y tipo de publicación\n",
        "trend_analysis = df.groupby(['Year', 'Type of Publication']).size().unstack(fill_value=0)\n",
        "\n",
        "plt.figure(figsize=(15, 8))\n",
        "trend_analysis.plot(kind='bar', stacked=True, figsize=(15, 8))\n",
        "plt.title('Tendencias de Publicación por Año y Tipo', fontsize=16, fontweight='bold')\n",
        "plt.xlabel('Año', fontsize=14)\n",
        "plt.ylabel('Número de Publicaciones', fontsize=14)\n",
        "plt.legend(title='Tipo de Publicación', bbox_to_anchor=(1.05, 1), loc='upper left')\n",
        "plt.xticks(rotation=45)\n",
        "plt.tight_layout()\n",
        "plt.show()\n",
        "\n",
        "print(\"\\nTendencias por año y tipo de publicación:\")\n",
        "print(trend_analysis)"
      ]
    },
    {
      "cell_type": "markdown",
      "metadata": {},
      "source": [
        "## 7. Resumen y Conclusiones"
      ]
    },
    {
      "cell_type": "code",
      "execution_count": 20,
      "metadata": {},
      "outputs": [
        {
          "name": "stdout",
          "output_type": "stream",
          "text": [
            "=== RESUMEN EJECUTIVO ===\n",
            "\n",
            " Total de publicaciones analizadas: 89\n",
            "📅 Período de análisis: 2020 - 2025\n",
            "📈 Año con mayor actividad: 2024 (35 publicaciones)\n",
            "📉 Año con menor actividad: 2020 (4 publicaciones)\n",
            " Promedio anual: 14.8 publicaciones\n",
            " Tipo de publicación más común: Article (52 publicaciones)\n",
            " Fuente más utilizada: Scopus (44 publicaciones)\n",
            "\n",
            "=== CONCLUSIONES ===\n",
            "1. El campo de IA y ML en educación matemática K-12 está en crecimiento\n",
            "2. La mayoría de publicaciones son artículos de investigación\n",
            "3. Hay una tendencia creciente en los últimos años\n",
            "4. Se utilizan múltiples fuentes de datos para la búsqueda\n",
            "5. El año 2024 muestra el mayor número de publicaciones\n",
            "6. Scopus es la fuente principal de publicaciones\n"
          ]
        }
      ],
      "source": [
        "# Generar resumen ejecutivo\n",
        "print(\"=== RESUMEN EJECUTIVO ===\\n\")\n",
        "\n",
        "print(f\" Total de publicaciones analizadas: {len(df)}\")\n",
        "print(f\"📅 Período de análisis: {int(df['Year'].min())} - {int(df['Year'].max())}\")\n",
        "print(f\"📈 Año con mayor actividad: {int(yearly_publications.idxmax())} ({yearly_publications.max()} publicaciones)\")\n",
        "print(f\"📉 Año con menor actividad: {int(yearly_publications.idxmin())} ({yearly_publications.min()} publicaciones)\")\n",
        "print(f\" Promedio anual: {yearly_publications.mean():.1f} publicaciones\")\n",
        "\n",
        "# Tipo más común\n",
        "most_common_type = type_dist.index[0]\n",
        "print(f\" Tipo de publicación más común: {most_common_type} ({type_dist.iloc[0]} publicaciones)\")\n",
        "\n",
        "# Fuente más utilizada\n",
        "most_used_source = source_dist.index[0]\n",
        "print(f\" Fuente más utilizada: {most_used_source} ({source_dist.iloc[0]} publicaciones)\")\n",
        "\n",
        "print(\"\\n=== CONCLUSIONES ===\")\n",
        "print(\"1. El campo de IA y ML en educación matemática K-12 está en crecimiento\")\n",
        "print(\"2. La mayoría de publicaciones son artículos de investigación\")\n",
        "print(\"3. Hay una tendencia creciente en los últimos años\")\n",
        "print(\"4. Se utilizan múltiples fuentes de datos para la búsqueda\")\n",
        "print(\"5. El año 2024 muestra el mayor número de publicaciones\")\n",
        "print(\"6. Scopus es la fuente principal de publicaciones\")"
      ]
    }
  ],
  "metadata": {
    "kernelspec": {
      "display_name": "base",
      "language": "python",
      "name": "python3"
    },
    "language_info": {
      "codemirror_mode": {
        "name": "ipython",
        "version": 3
      },
      "file_extension": ".py",
      "mimetype": "text/x-python",
      "name": "python",
      "nbconvert_exporter": "python",
      "pygments_lexer": "ipython3",
      "version": "3.13.5"
    }
  },
  "nbformat": 4,
  "nbformat_minor": 4
}
