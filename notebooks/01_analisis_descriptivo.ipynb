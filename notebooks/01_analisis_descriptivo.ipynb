{
 "cells": [
  {
   "cell_type": "markdown",
   "metadata": {},
   "source": [
    "# Análisis Descriptivo: Mapping Review IA y ML en Educación Matemática K-12\\n\n",
    "\\n\n",
    "**MQ1: ¿Cuántos estudios se han publicado a lo largo de los años?**\\n\n",
    "\\n\n",
    "Este notebook realiza un análisis descriptivo completo del corpus de publicaciones sobre IA y ML en educación matemática K-12."
   ]
  },
  {
   "cell_type": "markdown",
   "metadata": {},
   "source": [
    "## 1. Configuración del Entorno"
   ]
  },
  {
   "cell_type": "code",
   "execution_count": null,
   "metadata": {},
   "outputs": [],
   "source": [
    "# Instalación de dependencias\\n\n",
    "!pip install pandas numpy matplotlib seaborn plotly wordcloud nltk scikit-learn textblob"
   ]
  },
  {
   "cell_type": "code",
   "execution_count": null,
   "metadata": {},
   "outputs": [],
   "source": [
    "# Importación de librerías\\n\n",
    "import pandas as pd\\n\n",
    "import numpy as np\\n\n",
    "import matplotlib.pyplot as plt\\n\n",
    "import seaborn as sns\\n\n",
    "import plotly.express as px\\n\n",
    "import plotly.graph_objects as go\\n\n",
    "from plotly.subplots import make_subplots\\n\n",
    "from wordcloud import WordCloud\\n\n",
    "import warnings\\n\n",
    "warnings.filterwarnings('ignore')\\n\n",
    "\\n\n",
    "# Configuración de estilo\\n\n",
    "plt.style.use('seaborn-v0_8')\\n\n",
    "sns.set_palette(\\\"husl\\\")\\n\n",
    "plt.rcParams['figure.figsize'] = (12, 8)\\n\n",
    "plt.rcParams['font.size'] = 12\\n\n",
    "\\n\n",
    "# Configuración para mostrar todas las columnas\\n\n",
    "pd.set_option('display.max_columns', None)\\n\n",
    "pd.set_option('display.max_colwidth', None)"
   ]
  },
  {
   "cell_type": "markdown",
   "metadata": {},
   "source": [
    "## 2. Carga de Datos desde GitHub"
   ]
  },
  {
   "cell_type": "code",
   "execution_count": null,
   "metadata": {},
   "outputs": [],
   "source": [
    "# Cargar el dataset desde GitHub\\n\n",
    "# IMPORTANTE: Cambiar la URL por tu repositorio real\\n\n",
    "url = \\\"https://raw.githubusercontent.com/TU_USUARIO/TU_REPOSITORIO/main/MappingReview.csv\\\"\\n\n",
    "df = pd.read_csv(url, sep=';', encoding='utf-8')\\n\n",
    "\\n\n",
    "print(f\\\"Dataset cargado: {df.shape[0]} filas y {df.shape[1]} columnas\\\")\\n\n",
    "print(\\\"\\\\nPrimeras 5 filas:\\\")\\n\n",
    "df.head()"
   ]
  },
  {
   "cell_type": "code",
   "execution_count": null,
   "metadata": {},
   "outputs": [],
   "source": [
    "# Información básica del dataset\\n\n",
    "print(\\\"Información del dataset:\\\")\\n\n",
    "print(df.info())\\n\n",
    "\\n\n",
    "print(\\\"\\\\nEstadísticas descriptivas:\\\")\\n\n",
    "print(df.describe())\\n\n",
    "\\n\n",
    "print(\\\"\\\\nValores únicos por columna:\\\")\\n\n",
    "for col in df.columns:\\n\n",
    "    print(f\\\"{col}: {df[col].nunique()} valores únicos\\\")"
   ]
  },
  {
   "cell_type": "markdown",
   "metadata": {},
   "source": [
    "## 3. Limpieza y Preparación de Datos"
   ]
  },
  {
   "cell_type": "code",
   "execution_count": null,
   "metadata": {},
   "outputs": [],
   "source": [
    "# Limpieza de datos\\n\n",
    "# Convertir Year a numérico\\n\n",
    "df['Year'] = pd.to_numeric(df['Year'], errors='coerce')\\n\n",
    "\\n\n",
    "# Limpiar columnas de presencia en bases de datos\\n\n",
    "presence_columns = ['Present in Eric', 'Present in IEEE', 'Present in Scopus', 'Present in WoS']\\n\n",
    "for col in presence_columns:\\n\n",
    "    df[col] = df[col].fillna('No')\\n\n",
    "    df[col] = df[col].str.strip()\\n\n",
    "\\n\n",
    "print(\\\"Datos limpiados exitosamente\\\")\\n\n",
    "print(f\\\"Rango de años: {df['Year'].min()} - {df['Year'].max()}\\\")"
   ]
  },
  {
   "cell_type": "markdown",
   "metadata": {},
   "source": [
    "## 4. Análisis Temporal (MQ1)"
   ]
  },
  {
   "cell_type": "code",
   "execution_count": null,
   "metadata": {},
   "outputs": [],
   "source": [
    "# Análisis de publicaciones por año\\n\n",
    "yearly_publications = df['Year'].value_counts().sort_index()\\n\n",
    "\\n\n",
    "# Gráfico de líneas temporal\\n\n",
    "plt.figure(figsize=(15, 8))\\n\n",
    "plt.plot(yearly_publications.index, yearly_publications.values, marker='o', linewidth=3, markersize=8)\\n\n",
    "plt.fill_between(yearly_publications.index, yearly_publications.values, alpha=0.3)\\n\n",
    "plt.title('Evolución de Publicaciones sobre IA y ML en Educación Matemática K-12 (2020-2025)', \\n\n",
    "          fontsize=16, fontweight='bold')\\n\n",
    "plt.xlabel('Año', fontsize=14)\\n\n",
    "plt.ylabel('Número de Publicaciones', fontsize=14)\\n\n",
    "plt.grid(True, alpha=0.3)\\n\n",
    "plt.xticks(yearly_publications.index, rotation=45)\\n\n",
    "\\n\n",
    "# Agregar valores en los puntos\\n\n",
    "for i, v in enumerate(yearly_publications.values):\\n\n",
    "    plt.text(yearly_publications.index[i], v + 0.5, str(v), ha='center', va='bottom', fontweight='bold')\\n\n",
    "\\n\n",
    "plt.tight_layout()\\n\n",
    "plt.show()\\n\n",
    "\\n\n",
    "print(f\\\"Total de publicaciones: {len(df)}\\\")\\n\n",
    "print(f\\\"Año con más publicaciones: {yearly_publications.idxmax()} ({yearly_publications.max()} publicaciones)\\\")\\n\n",
    "print(f\\\"Año con menos publicaciones: {yearly_publications.idxmin()} ({yearly_publications.min()} publicaciones)\\\")"
   ]
  },
  {
   "cell_type": "code",
   "execution_count": null,
   "metadata": {},
   "outputs": [],
   "source": [
    "# Gráfico interactivo con Plotly\\n\n",
    "fig = px.line(x=yearly_publications.index, y=yearly_publications.values,\\n\n",
    "              title='Evolución Temporal de Publicaciones',\\n\n",
    "              labels={'x': 'Año', 'y': 'Número de Publicaciones'})\\n\n",
    "\\n\n",
    "fig.update_traces(mode='lines+markers', line=dict(width=3), marker=dict(size=8))\\n\n",
    "fig.update_layout(\\n\n",
    "    title_font_size=16,\\n\n",
    "    xaxis_title_font_size=14,\\n\n",
    "    yaxis_title_font_size=14,\\n\n",
    "    hovermode='x unified'\\n\n",
    ")\\n\n",
    "\\n\n",
    "fig.show()"
   ]
  },
  {
   "cell_type": "markdown",
   "metadata": {},
   "source": [
    "## 5. Estadísticas Descriptivas Generales"
   ]
  },
  {
   "cell_type": "code",
   "execution_count": null,
   "metadata": {},
   "outputs": [],
   "source": [
    "# Estadísticas generales\\n\n",
    "print(\\\"=== ESTADÍSTICAS DESCRIPTIVAS GENERALES ===\\\\n\\\")\\n\n",
    "\\n\n",
    "print(f\\\"Total de publicaciones analizadas: {len(df)}\\\")\\n\n",
    "print(f\\\"Período de análisis: {df['Year'].min()} - {df['Year'].max()}\\\")\\n\n",
    "print(f\\\"Promedio de publicaciones por año: {len(df) / (df['Year'].max() - df['Year'].min() + 1):.1f}\\\")\\n\n",
    "\\n\n",
    "# Análisis por tipo de publicación\\n\n",
    "print(\\\"\\\\n=== DISTRIBUCIÓN POR TIPO DE PUBLICACIÓN ===\\\")\\n\n",
    "type_dist = df['Type of Publication'].value_counts()\\n\n",
    "print(type_dist)\\n\n",
    "\\n\n",
    "# Gráfico de tipos de publicación\\n\n",
    "plt.figure(figsize=(12, 8))\\n\n",
    "colors = plt.cm.Set3(np.linspace(0, 1, len(type_dist)))\\n\n",
    "plt.pie(type_dist.values, labels=type_dist.index, autopct='%1.1f%%', colors=colors, startangle=90)\\n\n",
    "plt.title('Distribución por Tipo de Publicación', fontsize=16, fontweight='bold')\\n\n",
    "plt.axis('equal')\\n\n",
    "plt.show()"
   ]
  },
  {
   "cell_type": "code",
   "execution_count": null,
   "metadata": {},
   "outputs": [],
   "source": [
    "# Análisis de presencia en bases de datos\\n\n",
    "print(\\\"\\\\n=== PRESENCIA EN BASES DE DATOS ===\\\")\\n\n",
    "presence_summary = df[presence_columns].apply(lambda x: x.value_counts())\\n\n",
    "print(presence_summary)\\n\n",
    "\\n\n",
    "# Gráfico de barras para presencia en bases de datos\\n\n",
    "fig, axes = plt.subplots(2, 2, figsize=(15, 10))\\n\n",
    "axes = axes.ravel()\\n\n",
    "\\n\n",
    "for i, col in enumerate(presence_columns):\\n\n",
    "    counts = df[col].value_counts()\\n\n",
    "    axes[i].bar(counts.index, counts.values, color=['#2E8B57', '#FF6B6B'])\\n\n",
    "    axes[i].set_title(f'Presencia en {col.split(\\\"Present in \\\")[1]}', fontweight='bold')\\n\n",
    "    axes[i].set_ylabel('Número de Publicaciones')\\n\n",
    "    \\n\n",
    "    # Agregar valores en las barras\\n\n",
    "    for j, v in enumerate(counts.values):\\n\n",
    "        axes[i].text(j, v + 0.5, str(v), ha='center', va='bottom', fontweight='bold')\\n\n",
    "\\n\n",
    "plt.tight_layout()\\n\n",
    "plt.show()"
   ]
  },
  {
   "cell_type": "markdown",
   "metadata": {},
   "source": [
    "## 6. Análisis de Tendencias"
   ]
  },
  {
   "cell_type": "code",
   "execution_count": null,
   "metadata": {},
   "outputs": [],
   "source": [
    "# Análisis de tendencias por año y tipo de publicación\\n\n",
    "trend_analysis = df.groupby(['Year', 'Type of Publication']).size().unstack(fill_value=0)\\n\n",
    "\\n\n",
    "plt.figure(figsize=(15, 8))\\n\n",
    "trend_analysis.plot(kind='bar', stacked=True, figsize=(15, 8))\\n\n",
    "plt.title('Tendencias de Publicación por Año y Tipo', fontsize=16, fontweight='bold')\\n\n",
    "plt.xlabel('Año', fontsize=14)\\n\n",
    "plt.ylabel('Número de Publicaciones', fontsize=14)\\n\n",
    "plt.legend(title='Tipo de Publicación', bbox_to_anchor=(1.05, 1), loc='upper left')\\n\n",
    "plt.xticks(rotation=45)\\n\n",
    "plt.tight_layout()\\n\n",
    "plt.show()\\n\n",
    "\\n\n",
    "print(\\\"\\\\nTendencias por año y tipo de publicación:\\\")\\n\n",
    "print(trend_analysis)"
   ]
  },
  {
   "cell_type": "markdown",
   "metadata": {},
   "source": [
    "## 7. Resumen y Conclusiones"
   ]
  },
  {
   "cell_type": "code",
   "execution_count": null,
   "metadata": {},
   "outputs": [],
   "source": [
    "# Generar resumen ejecutivo\\n\n",
    "print(\\\"=== RESUMEN EJECUTIVO ===\\\\n\\\")\\n\n",
    "\\n\n",
    "print(f\\\"📊 Total de publicaciones analizadas: {len(df)}\\\")\\n\n",
    "print(f\\\"📅 Período de análisis: {df['Year'].min()} - {df['Year'].max()}\\\")\\n\n",
    "print(f\\\"📈 Año con mayor actividad: {yearly_publications.idxmax()} ({yearly_publications.max()} publicaciones)\\\")\\n\n",
    "print(f\\\"📉 Año con menor actividad: {yearly_publications.idxmin()} ({yearly_publications.min()} publicaciones)\\\")\\n\n",
    "print(f\\\"📊 Promedio anual: {yearly_publications.mean():.1f} publicaciones\\\")\\n\n",
    "\\n\n",
    "# Tipo más común\\n\n",
    "most_common_type = type_dist.index[0]\\n\n",
    "print(f\\\"📝 Tipo de publicación más común: {most_common_type} ({type_dist.iloc[0]} publicaciones)\\\")\\n\n",
    "\\n\n",
    "# Base de datos más utilizada\\n\n",
    "most_used_db = presence_summary.loc['Yes'].idxmax()\\n\n",
    "print(f\\\"🔍 Base de datos más utilizada: {most_used_db.split('Present in ')[1]}\\\")\\n\n",
    "\\n\n",
    "print(\\\"\\\\n=== CONCLUSIONES ===\\\")\\n\n",
    "print(\\\"1. El campo de IA y ML en educación matemática K-12 está en crecimiento\\\")\\n\n",
    "print(\\\"2. La mayoría de publicaciones son artículos de investigación\\\")\\n\n",
    "print(\\\"3. Hay una tendencia creciente en los últimos años\\\")\\n\n",
    "print(\\\"4. Se utilizan múltiples bases de datos para la búsqueda\\\")"
   ]
  }
 ],
 "metadata": {
  "kernelspec": {
   "display_name": "Python 3",
   "language": "python",
   "name": "python3"
  },
  "language_info": {
   "codemirror_mode": {
    "name": "ipython",
    "version": 3
   },
   "file_extension": ".py",
   "mimetype": "text/x-python",
   "name": "python",
   "nbconvert_exporter": "python",
   "pygments_lexer": "ipython3",
   "version": "3.8.5"
  }
 },
 "nbformat": 4,
 "nbformat_minor": 4
}
