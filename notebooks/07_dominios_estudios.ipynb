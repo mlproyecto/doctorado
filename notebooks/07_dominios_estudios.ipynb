{
  "cells": [
    {
      "cell_type": "markdown",
      "metadata": {},
      "source": [
        "# Análisis de Dominios de Estudios\n",
        "\n",
        "**Pregunta de Investigación MQ7:** ¿Cuáles son los dominios específicos y áreas temáticas de los estudios incluidos?\n",
        "\n",
        "Este notebook analiza los dominios específicos y áreas temáticas de los estudios incluidos en la revisión sistemática."
      ]
    },
    {
      "cell_type": "code",
      "execution_count": null,
      "metadata": {},
      "outputs": [],
      "source": [
        "# Configuración del entorno\n",
        "import pandas as pd\n",
        "import numpy as np\n",
        "import matplotlib.pyplot as plt\n",
        "import seaborn as sns\n",
        "from collections import Counter\n",
        "import re\n",
        "import warnings\n",
        "warnings.filterwarnings('ignore')\n",
        "\n",
        "# Configurar estilo de gráficos\n",
        "plt.style.use('default')\n",
        "sns.set_palette(\"husl\")"
      ]
    },
    {
      "cell_type": "code",
      "execution_count": null,
      "metadata": {},
      "outputs": [],
      "source": [
        "# Cargar datos\n",
        "url = \"https://raw.githubusercontent.com/mlproyecto/doctorado/main/MappingReview.csv\"\n",
        "df = pd.read_csv(url, sep=';', encoding='latin-1')\n",
        "print(f\"Dataset cargado: {df.shape[0]} filas y {df.shape[1]} columnas\")"
      ]
    },
    {
      "cell_type": "code",
      "execution_count": null,
      "metadata": {},
      "outputs": [],
      "source": [
        "# Identificar dominios de los estudios\n",
        "def identify_domains(text):\n",
        "    if pd.isna(text):\n",
        "        return []\n",
        "    \n",
        "    text_lower = str(text).lower()\n",
        "    domains = []\n",
        "    \n",
        "    # Dominios de IA/ML\n",
        "    if any(term in text_lower for term in ['artificial intelligence', 'ai', 'machine learning', 'ml']):\n",
        "        domains.append('Inteligencia Artificial')\n",
        "    \n",
        "    if any(term in text_lower for term in ['deep learning', 'neural network', 'cnn', 'rnn', 'lstm']):\n",
        "        domains.append('Deep Learning')\n",
        "    \n",
        "    if any(term in text_lower for term in ['predictive', 'prediction', 'forecasting']):\n",
        "        domains.append('Predicción')\n",
        "    \n",
        "    if any(term in text_lower for term in ['classification', 'clustering', 'supervised', 'unsupervised']):\n",
        "        domains.append('Clasificación')\n",
        "    \n",
        "    # Dominios de educación matemática\n",
        "    if any(term in text_lower for term in ['algebra', 'algebraic']):\n",
        "        domains.append('Álgebra')\n",
        "    \n",
        "    if any(term in text_lower for term in ['geometry', 'geometric']):\n",
        "        domains.append('Geometría')\n",
        "    \n",
        "    if any(term in text_lower for term in ['calculus', 'derivative', 'integral']):\n",
        "        domains.append('Cálculo')\n",
        "    \n",
        "    if any(term in text_lower for term in ['statistics', 'statistical', 'probability']):\n",
        "        domains.append('Estadística')\n",
        "    \n",
        "    if any(term in text_lower for term in ['arithmetic', 'basic math', 'elementary']):\n",
        "        domains.append('Aritmética')\n",
        "    \n",
        "    # Dominios de nivel educativo\n",
        "    if any(term in text_lower for term in ['elementary', 'primary', 'k-5', 'k-6']):\n",
        "        domains.append('Educación Primaria')\n",
        "    \n",
        "    if any(term in text_lower for term in ['middle school', 'secondary', 'k-8', 'k-9']):\n",
        "        domains.append('Educación Secundaria')\n",
        "    \n",
        "    if any(term in text_lower for term in ['high school', 'k-12']):\n",
        "        domains.append('Educación Media')\n",
        "    \n",
        "    return domains\n",
        "\n",
        "# Aplicar identificación de dominios\n",
        "df['domains'] = df['Title'].apply(identify_domains)\n",
        "df['domains_abstract'] = df['Abstract'].apply(identify_domains)\n",
        "\n",
        "print(\"Dominios identificados en títulos y abstracts\")"
      ]
    },
    {
      "cell_type": "code",
      "execution_count": null,
      "metadata": {},
      "outputs": [],
      "source": [
        "# Análisis de frecuencia de dominios\n",
        "all_domains = []\n",
        "for domains in df['domains']:\n",
        "    all_domains.extend(domains)\n",
        "for domains in df['domains_abstract']:\n",
        "    all_domains.extend(domains)\n",
        "\n",
        "# Contar frecuencia\n",
        "domain_freq = Counter(all_domains)\n",
        "most_common_domains = domain_freq.most_common(15)\n",
        "\n",
        "# Visualizar dominios más frecuentes\n",
        "domains, counts = zip(*most_common_domains)\n",
        "\n",
        "plt.figure(figsize=(12, 8))\n",
        "plt.barh(range(len(domains)), counts)\n",
        "plt.yticks(range(len(domains)), domains)\n",
        "plt.xlabel('Frecuencia')\n",
        "plt.title('Dominios Más Frecuentes en los Estudios')\n",
        "plt.gca().invert_yaxis()\n",
        "plt.tight_layout()\n",
        "plt.show()"
      ]
    }
  ],
  "metadata": {
    "kernelspec": {
      "display_name": "Python 3",
      "language": "python",
      "name": "python3"
    },
    "language_info": {
      "codemirror_mode": {
        "name": "ipython",
        "version": 3
      },
      "file_extension": ".py",
      "mimetype": "text/x-python",
      "name": "python",
      "nbconvert_exporter": "python",
      "pygments_lexer": "ipython3",
      "version": "3.8.5"
    }
  },
  "nbformat": 4,
  "nbformat_minor": 4
}
