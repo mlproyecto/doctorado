{
  "cells": [
    {
      "cell_type": "markdown",
      "metadata": {},
      "source": [
        "# Análisis de Bases de Datos Utilizadas\n",
        "\n",
        "**Pregunta de Investigación MQ5:** ¿Cuáles son las bases de datos más comunes utilizadas en los estudios de IA y ML en educación matemática K-12?\n",
        "\n",
        "Este notebook analiza las bases de datos utilizadas en los estudios incluidos en la revisión sistemática."
      ]
    },
    {
      "cell_type": "code",
      "execution_count": null,
      "metadata": {},
      "outputs": [],
      "source": [
        "# Configuración del entorno\n",
        "import pandas as pd\n",
        "import numpy as np\n",
        "import matplotlib.pyplot as plt\n",
        "import seaborn as sns\n",
        "from matplotlib_venn import venn2, venn3\n",
        "import warnings\n",
        "warnings.filterwarnings('ignore')\n",
        "\n",
        "# Configurar estilo de gráficos\n",
        "plt.style.use('default')\n",
        "sns.set_palette(\"husl\")"
      ]
    },
    {
      "cell_type": "code",
      "execution_count": null,
      "metadata": {},
      "outputs": [],
      "source": [
        "# Cargar datos\n",
        "url = \"https://raw.githubusercontent.com/mlproyecto/doctorado/main/MappingReview.csv\"\n",
        "df = pd.read_csv(url, sep=';', encoding='latin-1')\n",
        "print(f\"Dataset cargado: {df.shape[0]} filas y {df.shape[1]} columnas\")"
      ]
    },
    {
      "cell_type": "code",
      "execution_count": null,
      "metadata": {},
      "outputs": [],
      "source": [
        "# Limpiar columnas de presencia de bases de datos\n",
        "db_columns = [col for col in df.columns if 'database' in col.lower() or 'base' in col.lower()]\n",
        "print(f\"Columnas de bases de datos encontradas: {db_columns}\")\n",
        "\n",
        "# Crear diccionario de bases de datos\n",
        "databases = {}\n",
        "for col in db_columns:\n",
        "    if col in df.columns:\n",
        "        databases[col] = df[col].fillna(0).astype(int)\n",
        "\n",
        "print(f\"Bases de datos analizadas: {list(databases.keys())}\")"
      ]
    },
    {
      "cell_type": "code",
      "execution_count": null,
      "metadata": {},
      "outputs": [],
      "source": [
        "# Análisis individual de cada base de datos\n",
        "fig, axes = plt.subplots(2, 2, figsize=(15, 12))\n",
        "axes = axes.ravel()\n",
        "\n",
        "for i, (db_name, db_data) in enumerate(databases.items()):\n",
        "    if i < 4:\n",
        "        counts = db_data.value_counts()\n",
        "        axes[i].pie(counts.values, labels=['No', 'Sí'], autopct='%1.1f%%')\n",
        "        axes[i].set_title(f'Presencia de {db_name}')\n",
        "\n",
        "plt.tight_layout()\n",
        "plt.show()"
      ]
    },
    {
      "cell_type": "code",
      "execution_count": null,
      "metadata": {},
      "outputs": [],
      "source": [
        "# Análisis de combinaciones de bases de datos\n",
        "if len(databases) >= 2:\n",
        "    db_names = list(databases.keys())\n",
        "    \n",
        "    # Crear DataFrame de combinaciones\n",
        "    db_df = pd.DataFrame(databases)\n",
        "    \n",
        "    # Análisis de solapamiento\n",
        "    if len(db_names) == 2:\n",
        "        set1 = set(db_df[db_df[db_names[0]] == 1].index)\n",
        "        set2 = set(db_df[db_df[db_names[1]] == 1].index)\n",
        "        \n",
        "        plt.figure(figsize=(8, 6))\n",
        "        venn2([set1, set2], (db_names[0], db_names[1]))\n",
        "        plt.title('Solapamiento entre Bases de Datos')\n",
        "        plt.show()\n",
        "    elif len(db_names) == 3:\n",
        "        set1 = set(db_df[db_df[db_names[0]] == 1].index)\n",
        "        set2 = set(db_df[db_df[db_names[1]] == 1].index)\n",
        "        set3 = set(db_df[db_df[db_names[2]] == 1].index)\n",
        "        \n",
        "        plt.figure(figsize=(10, 8))\n",
        "        venn3([set1, set2, set3], (db_names[0], db_names[1], db_names[2]))\n",
        "        plt.title('Solapamiento entre Bases de Datos')\n",
        "        plt.show()"
      ]
    }
  ],
  "metadata": {
    "kernelspec": {
      "display_name": "Python 3",
      "language": "python",
      "name": "python3"
    },
    "language_info": {
      "codemirror_mode": {
        "name": "ipython",
        "version": 3
      },
      "file_extension": ".py",
      "mimetype": "text/x-python",
      "name": "python",
      "nbconvert_exporter": "python",
      "pygments_lexer": "ipython3",
      "version": "3.8.5"
    }
  },
  "nbformat": 4,
  "nbformat_minor": 4
}
