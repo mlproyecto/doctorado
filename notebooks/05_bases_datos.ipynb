{
 "cells": [
  {
   "cell_type": "markdown",
   "metadata": {},
   "source": [
    "# Análisis de Bases de Datos: Mapping Review IA y ML en Educación Matemática K-12\\n\n",
    "\\n\n",
    "**MQ5: ¿Cuáles son las bases de datos más comunes utilizadas en este tipo de estudios?**\\n\n",
    "\\n\n",
    "Este notebook analiza el uso de diferentes bases de datos en los estudios sobre IA y ML en educación matemática K-12."
   ]
  },
  {
   "cell_type": "markdown",
   "metadata": {},
   "source": [
    "## 1. Configuración del Entorno"
   ]
  },
  {
   "cell_type": "code",
   "execution_count": null,
   "metadata": {},
   "outputs": [],
   "source": [
    "# Instalación de dependencias\\n\n",
    "!pip install pandas numpy matplotlib seaborn plotly"
   ]
  },
  {
   "cell_type": "code",
   "execution_count": null,
   "metadata": {},
   "outputs": [],
   "source": [
    "# Importación de librerías\\n\n",
    "import pandas as pd\\n\n",
    "import numpy as np\\n\n",
    "import matplotlib.pyplot as plt\\n\n",
    "import seaborn as sns\\n\n",
    "import plotly.express as px\\n\n",
    "import plotly.graph_objects as go\\n\n",
    "from plotly.subplots import make_subplots\\n\n",
    "import warnings\\n\n",
    "warnings.filterwarnings('ignore')\\n\n",
    "\\n\n",
    "# Configuración de estilo\\n\n",
    "plt.style.use('seaborn-v0_8')\\n\n",
    "sns.set_palette(\\\"husl\\\")\\n\n",
    "plt.rcParams['figure.figsize'] = (12, 8)\\n\n",
    "plt.rcParams['font.size'] = 12\\n\n",
    "\\n\n",
    "# Configuración para mostrar todas las columnas\\n\n",
    "pd.set_option('display.max_columns', None)\\n\n",
    "pd.set_option('display.max_colwidth', None)"
   ]
  },
  {
   "cell_type": "markdown",
   "metadata": {},
   "source": [
    "## 2. Carga de Datos desde GitHub"
   ]
  },
  {
   "cell_type": "code",
   "execution_count": null,
   "metadata": {},
   "outputs": [],
   "source": [
    "# Cargar el dataset desde GitHub\\n\n",
    "# IMPORTANTE: Cambiar la URL por tu repositorio real\\n\n",
    "url = \\\"https://raw.githubusercontent.com/TU_USUARIO/TU_REPOSITORIO/main/MappingReview.csv\\\"\\n\n",
    "df = pd.read_csv(url, sep=';', encoding='utf-8')\\n\n",
    "\\n\n",
    "print(f\\\"Dataset cargado: {df.shape[0]} filas y {df.shape[1]} columnas\\\")\\n\n",
    "print(\\\"\\\\nPrimeras 5 filas:\\\")\\n\n",
    "df.head()"
   ]
  },
  {
   "cell_type": "markdown",
   "metadata": {},
   "source": [
    "## 3. Análisis de Bases de Datos (MQ5)"
   ]
  },
  {
   "cell_type": "code",
   "execution_count": null,
   "metadata": {},
   "outputs": [],
   "source": [
    "# Limpiar datos de presencia en bases de datos\\n\n",
    "presence_columns = ['Present in Eric', 'Present in IEEE', 'Present in Scopus', 'Present in WoS']\\n\n",
    "\\n\n",
    "for col in presence_columns:\\n\n",
    "    df[col] = df[col].fillna('No')\\n\n",
    "    df[col] = df[col].str.strip()\\n\n",
    "\\n\n",
    "# Análisis de presencia en cada base de datos\\n\n",
    "print(\\\"=== PRESENCIA EN BASES DE DATOS ===\\\")\\n\n",
    "for col in presence_columns:\\n\n",
    "    counts = df[col].value_counts()\\n\n",
    "    total = len(df)\\n\n",
    "    present = counts.get('Yes', 0)\\n\n",
    "    percentage = (present / total) * 100\\n\n",
    "    print(f\\\"{col.split('Present in ')[1]}: {present} publicaciones ({percentage:.1f}%)\\\")\\n\n",
    "\\n\n",
    "# Crear DataFrame de resumen\\n\n",
    "db_summary = []\\n\n",
    "for col in presence_columns:\\n\n",
    "    counts = df[col].value_counts()\\n\n",
    "    present = counts.get('Yes', 0)\\n\n",
    "    absent = counts.get('No', 0)\\n\n",
    "    percentage = (present / len(df)) * 100\\n\n",
    "    db_summary.append({\\n\n",
    "        'Database': col.split('Present in ')[1],\\n\n",
    "        'Present': present,\\n\n",
    "        'Absent': absent,\\n\n",
    "        'Percentage': percentage\\n\n",
    "    })\\n\n",
    "\\n\n",
    "db_summary_df = pd.DataFrame(db_summary)\\n\n",
    "print(\\\"\\\\nResumen de bases de datos:\\\")\\n\n",
    "print(db_summary_df)"
   ]
  },
  {
   "cell_type": "code",
   "execution_count": null,
   "metadata": {},
   "outputs": [],
   "source": [
    "# Gráfico de barras para presencia en bases de datos\\n\n",
    "plt.figure(figsize=(12, 8))\\n\n",
    "bars = plt.bar(db_summary_df['Database'], db_summary_df['Present'], color='lightblue', alpha=0.7)\\n\n",
    "plt.xlabel('Base de Datos', fontsize=14)\\n\n",
    "plt.ylabel('Número de Publicaciones', fontsize=14)\\n\n",
    "plt.title('Presencia de Publicaciones en Diferentes Bases de Datos', fontsize=16, fontweight='bold')\\n\n",
    "plt.grid(True, alpha=0.3, axis='y')\\n\n",
    "\\n\n",
    "# Agregar valores en las barras\\n\n",
    "for i, (bar, count) in enumerate(zip(bars, db_summary_df['Present'])):\\n\n",
    "    plt.text(i, count + 0.5, str(count), ha='center', va='bottom', fontweight='bold')\\n\n",
    "\\n\n",
    "plt.tight_layout()\\n\n",
    "plt.show()"
   ]
  },
  {
   "cell_type": "code",
   "execution_count": null,
   "metadata": {},
   "outputs": [],
   "source": [
    "# Gráfico de pastel para porcentajes\\n\n",
    "plt.figure(figsize=(12, 8))\\n\n",
    "colors = plt.cm.Set3(np.linspace(0, 1, len(db_summary_df)))\\n\n",
    "\\n\n",
    "wedges, texts, autotexts = plt.pie(db_summary_df['Present'], labels=db_summary_df['Database'], \\n\n",
    "                                    autopct='%1.1f%%', colors=colors, startangle=90)\\n\n",
    "\\n\n",
    "plt.title('Distribución de Publicaciones por Base de Datos', fontsize=16, fontweight='bold')\\n\n",
    "plt.axis('equal')\\n\n",
    "\\n\n",
    "# Mejorar la legibilidad de las etiquetas\\n\n",
    "for autotext in autotexts:\\n\n",
    "    autotext.set_color('white')\\n\n",
    "    autotext.set_fontweight('bold')\\n\n",
    "\\n\n",
    "plt.tight_layout()\\n\n",
    "plt.show()"
   ]
  },
  {
   "cell_type": "code",
   "execution_count": null,
   "metadata": {},
   "outputs": [],
   "source": [
    "# Gráfico interactivo con Plotly\\n\n",
    "fig = px.bar(db_summary_df, x='Database', y='Present',\\n\n",
    "              title='Presencia en Bases de Datos',\\n\n",
    "              labels={'Present': 'Número de Publicaciones', 'Database': 'Base de Datos'},\\n\n",
    "              color='Percentage',\\n\n",
    "              color_continuous_scale='viridis')\\n\n",
    "\\n\n",
    "fig.update_layout(\\n\n",
    "    title_font_size=16,\\n\n",
    "    xaxis_title_font_size=14,\\n\n",
    "    yaxis_title_font_size=14\\n\n",
    ")\\n\n",
    "\\n\n",
    "fig.show()"
   ]
  },
  {
   "cell_type": "markdown",
   "metadata": {},
   "source": [
    "## 4. Análisis de Combinaciones de Bases de Datos"
   ]
  },
  {
   "cell_type": "code",
   "execution_count": null,
   "metadata": {},
   "outputs": [],
   "source": [
    "# Crear combinaciones de presencia en bases de datos\\n\n",
    "df['DB_Combination'] = df[presence_columns].apply(lambda x: '+'.join(x[x == 'Yes'].index.str.replace('Present in ', '')), axis=1)\\n\n",
    "df['DB_Combination'] = df['DB_Combination'].replace('', 'None')\\n\n",
    "\\n\n",
    "# Análisis de combinaciones\\n\n",
    "combination_counts = df['DB_Combination'].value_counts()\\n\n",
    "\\n\n",
    "print(\\\"=== COMBINACIONES DE BASES DE DATOS ===\\\")\\n\n",
    "for combination, count in combination_counts.items():\\n\n",
    "    percentage = (count / len(df)) * 100\\n\n",
    "    print(f\\\"{combination}: {count} publicaciones ({percentage:.1f}%)\\\")\\n\n",
    "\\n\n",
    "# Gráfico de combinaciones\\n\n",
    "plt.figure(figsize=(15, 8))\\n\n",
    "bars = plt.bar(range(len(combination_counts)), combination_counts.values, color='lightgreen', alpha=0.7)\\n\n",
    "plt.xlabel('Combinación de Bases de Datos', fontsize=14)\\n\n",
    "plt.ylabel('Número de Publicaciones', fontsize=14)\\n\n",
    "plt.title('Distribución de Combinaciones de Bases de Datos', fontsize=16, fontweight='bold')\\n\n",
    "plt.xticks(range(len(combination_counts)), combination_counts.index, rotation=45, ha='right')\\n\n",
    "plt.grid(True, alpha=0.3, axis='y')\\n\n",
    "\\n\n",
    "# Agregar valores en las barras\\n\n",
    "for i, (bar, count) in enumerate(zip(bars, combination_counts.values)):\\n\n",
    "    plt.text(i, count + 0.5, str(count), ha='center', va='bottom', fontweight='bold')\\n\n",
    "\\n\n",
    "plt.tight_layout()\\n\n",
    "plt.show()"
   ]
  },
  {
   "cell_type": "code",
   "execution_count": null,
   "metadata": {},
   "outputs": [],
   "source": [
    "# Gráfico de Venn diagram simplificado\\n\n",
    "from matplotlib_venn import venn4\\n\n",
    "\\n\n",
    "# Contar publicaciones en cada base de datos\\n\n",
    "eric_pubs = set(df[df['Present in Eric'] == 'Yes'].index)\\n\n",
    "ieee_pubs = set(df[df['Present in IEEE'] == 'Yes'].index)\\n\n",
    "scopus_pubs = set(df[df['Present in Scopus'] == 'Yes'].index)\\n\n",
    "wos_pubs = set(df[df['Present in WoS'] == 'Yes'].index)\\n\n",
    "\\n\n",
    "plt.figure(figsize=(12, 8))\\n\n",
    "venn4([eric_pubs, ieee_pubs, scopus_pubs, wos_pubs], \\n\n",
    "       ('Eric', 'IEEE', 'Scopus', 'WoS'))\\n\n",
    "plt.title('Solapamiento entre Bases de Datos', fontsize=16, fontweight='bold')\\n\n",
    "plt.show()"
   ]
  },
  {
   "cell_type": "markdown",
   "metadata": {},
   "source": [
    "## 5. Análisis Temporal por Base de Datos"
   ]
  },
  {
   "cell_type": "code",
   "execution_count": null,
   "metadata": {},
   "outputs": [],
   "source": [
    "# Convertir Year a numérico\\n\n",
    "df['Year'] = pd.to_numeric(df['Year'], errors='coerce')\\n\n",
    "\\n\n",
    "# Análisis temporal por base de datos\\n\n",
    "temporal_by_db = {}\\n\n",
    "for col in presence_columns:\\n\n",
    "    db_name = col.split('Present in ')[1]\\n\n",
    "    db_data = df[df[col] == 'Yes']\\n\n",
    "    year_counts = db_data['Year'].value_counts().sort_index()\\n\n",
    "    temporal_by_db[db_name] = year_counts\\n\n",
    "\\n\n",
    "print(\\\"=== EVOLUCIÓN TEMPORAL POR BASE DE DATOS ===\\\")\\n\n",
    "for db_name, year_counts in temporal_by_db.items():\\n\n",
    "    print(f\\\"\\\\n{db_name}:\\\")\\n\n",
    "    print(year_counts)"
   ]
  },
  {
   "cell_type": "code",
   "execution_count": null,
   "metadata": {},
   "outputs": [],
   "source": [
    "# Gráfico de líneas temporal por base de datos\\n\n",
    "plt.figure(figsize=(15, 8))\\n\n",
    "colors = ['#1f77b4', '#ff7f0e', '#2ca02c', '#d62728']\\n\n",
    "\\n\n",
    "for i, (db_name, year_counts) in enumerate(temporal_by_db.items()):\\n\n",
    "    plt.plot(year_counts.index, year_counts.values, marker='o', linewidth=2, \\n\n",
    "             label=db_name, color=colors[i])\\n\n",
    "\\n\n",
    "plt.title('Evolución Temporal por Base de Datos', fontsize=16, fontweight='bold')\\n\n",
    "plt.xlabel('Año', fontsize=14)\\n\n",
    "plt.ylabel('Número de Publicaciones', fontsize=14)\\n\n",
    "plt.legend(title='Base de Datos', bbox_to_anchor=(1.05, 1), loc='upper left')\\n\n",
    "plt.grid(True, alpha=0.3)\\n\n",
    "plt.xticks(rotation=45)\\n\n",
    "plt.tight_layout()\\n\n",
    "plt.show()"
   ]
  },
  {
   "cell_type": "code",
   "execution_count": null,
   "metadata": {},
   "outputs": [],
   "source": [
    "# Gráfico interactivo con Plotly\\n\n",
    "fig = go.Figure()\\n\n",
    "\\n\n",
    "for db_name, year_counts in temporal_by_db.items():\\n\n",
    "    fig.add_trace(go.Scatter(\\n\n",
    "        x=year_counts.index,\\n\n",
    "        y=year_counts.values,\\n\n",
    "        mode='lines+markers',\\n\n",
    "        name=db_name,\\n\n",
    "        line=dict(width=3),\\n\n",
    "        marker=dict(size=8)\\n\n",
    "    ))\\n\n",
    "\\n\n",
    "fig.update_layout(\\n\n",
    "    title='Evolución Temporal por Base de Datos',\\n\n",
    "    xaxis_title='Año',\\n\n",
    "    yaxis_title='Número de Publicaciones',\\n\n",
    "    title_font_size=16,\\n\n",
    "    xaxis_title_font_size=14,\\n\n",
    "    yaxis_title_font_size=14,\\n\n",
    "    hovermode='x unified'\\n\n",
    ")\\n\n",
    "\\n\n",
    "fig.show()"
   ]
  },
  {
   "cell_type": "markdown",
   "metadata": {},
   "source": [
    "## 6. Análisis de Calidad por Base de Datos"
   ]
  },
  {
   "cell_type": "code",
   "execution_count": null,
   "metadata": {},
   "outputs": [],
   "source": [
    "# Análisis de calidad por base de datos\\n\n",
    "quality_analysis = {}\\n\n",
    "\\n\n",
    "for col in presence_columns:\\n\n",
    "    db_name = col.split('Present in ')[1]\\n\n",
    "    db_present = df[df[col] == 'Yes']\\n\n",
    "    db_absent = df[df[col] == 'No']\\n\n",
    "    \\n\n",
    "    # Análisis por tipo de publicación\\n\n",
    "    type_dist_present = db_present['Type of Publication'].value_counts()\\n\n",
    "    type_dist_absent = db_absent['Type of Publication'].value_counts()\\n\n",
    "    \\n\n",
    "    # Análisis por fuente\\n\n",
    "    source_dist_present = db_present['Source'].value_counts()\\n\n",
    "    source_dist_absent = db_absent['Source'].value_counts()\\n\n",
    "    \\n\n",
    "    quality_analysis[db_name] = {\\n\n",
    "        'total_present': len(db_present),\\n\n",
    "        'total_absent': len(db_absent),\\n\n",
    "        'type_dist_present': type_dist_present,\\n\n",
    "        'source_dist_present': source_dist_present\\n\n",
    "    }\\n\n",
    "\\n\n",
    "print(\\\"=== ANÁLISIS DE CALIDAD POR BASE DE DATOS ===\\\")\\n\n",
    "for db_name, analysis in quality_analysis.items():\\n\n",
    "    print(f\\\"\\\\n{db_name}:\\\")\\n\n",
    "    print(f\\\"  Total presente: {analysis['total_present']}\\\")\\n\n",
    "    print(f\\\"  Total ausente: {analysis['total_absent']}\\\")\\n\n",
    "    print(f\\\"  Tipos de publicación más comunes:\\\")\\n\n",
    "    for pub_type, count in analysis['type_dist_present'].head(3).items():\\n\n",
    "        print(f\\\"    {pub_type}: {count}\\\")\\n\n",
    "    print(f\\\"  Fuentes más comunes:\\\")\\n\n",
    "    for source, count in analysis['source_dist_present'].head(3).items():\\n\n",
    "        print(f\\\"    {source}: {count}\\\")"
   ]
  },
  {
   "cell_type": "code",
   "execution_count": null,
   "metadata": {},
   "outputs": [],
   "source": [
    "# Gráfico de calidad por base de datos\\n\n",
    "fig, axes = plt.subplots(2, 2, figsize=(15, 12))\\n\n",
    "axes = axes.ravel()\\n\n",
    "\\n\n",
    "for i, (db_name, analysis) in enumerate(quality_analysis.items()):\\n\n",
    "    # Gráfico de tipos de publicación\\n\n",
    "    top_types = analysis['type_dist_present'].head(5)\\n\n",
    "    axes[i].bar(range(len(top_types)), top_types.values, color='lightcoral', alpha=0.7)\\n\n",
    "    axes[i].set_title(f'{db_name} - Tipos de Publicación', fontweight='bold')\\n\n",
    "    axes[i].set_ylabel('Número de Publicaciones')\\n\n",
    "    axes[i].tick_params(axis='x', rotation=45)\\n\n",
    "    axes[i].set_xticks(range(len(top_types)))\\n\n",
    "    axes[i].set_xticklabels(top_types.index, fontsize=8)\\n\n",
    "\\n\n",
    "plt.tight_layout()\\n\n",
    "plt.show()"
   ]
  },
  {
   "cell_type": "markdown",
   "metadata": {},
   "source": [
    "## 7. Análisis de Cobertura y Solapamiento"
   ]
  },
  {
   "cell_type": "code",
   "execution_count": null,
   "metadata": {},
   "outputs": [],
   "source": [
    "# Análisis de cobertura y solapamiento\\n\n",
    "coverage_matrix = df[presence_columns].replace({'Yes': 1, 'No': 0})\\n\n",
    "coverage_matrix.columns = [col.split('Present in ')[1] for col in presence_columns]\\n\n",
    "\\n\n",
    "# Matriz de correlación\\n\n",
    "correlation_matrix = coverage_matrix.corr()\\n\n",
    "\\n\n",
    "print(\\\"=== MATRIZ DE CORRELACIÓN ENTRE BASES DE DATOS ===\\\")\\n\n",
    "print(correlation_matrix)\\n\n",
    "\\n\n",
    "# Gráfico de calor de correlación\\n\n",
    "plt.figure(figsize=(10, 8))\\n\n",
    "sns.heatmap(correlation_matrix, annot=True, cmap='coolwarm', center=0,\\n\n",
    "            square=True, linewidths=0.5, cbar_kws={'label': 'Correlación'})\\n\n",
    "plt.title('Correlación entre Bases de Datos', fontsize=16, fontweight='bold')\\n\n",
    "plt.tight_layout()\\n\n",
    "plt.show()"
   ]
  },
  {
   "cell_type": "code",
   "execution_count": null,
   "metadata": {},
   "outputs": [],
   "source": [
    "# Análisis de solapamiento detallado\\n\n",
    "overlap_analysis = {}\\n\n",
    "\\n\n",
    "for i, db1 in enumerate(coverage_matrix.columns):\\n\n",
    "    for j, db2 in enumerate(coverage_matrix.columns):\\n\n",
    "        if i < j:\\n\n",
    "            overlap = (coverage_matrix[db1] & coverage_matrix[db2]).sum()\\n\n",
    "            union = (coverage_matrix[db1] | coverage_matrix[db2]).sum()\\n\n",
    "            jaccard = overlap / union if union > 0 else 0\\n\n",
    "            \\n\n",
    "            overlap_analysis[f'{db1}-{db2}'] = {\\n\n",
    "                'overlap': overlap,\\n\n",
    "                'union': union,\\n\n",
    "                'jaccard': jaccard\\n\n",
    "            }\\n\n",
    "\\n\n",
    "print(\\\"=== ANÁLISIS DE SOLAPAMIENTO ===\\\")\\n\n",
    "for pair, metrics in overlap_analysis.items():\\n\n",
    "    print(f\\\"{pair}:\\\")\\n\n",
    "    print(f\\\"  Solapamiento: {metrics['overlap']} publicaciones\\\")\\n\n",
    "    print(f\\\"  Unión: {metrics['union']} publicaciones\\\")\\n\n",
    "    print(f\\\"  Índice de Jaccard: {metrics['jaccard']:.3f}\\\")\\n\n",
    "    print()"
   ]
  },
  {
   "cell_type": "markdown",
   "metadata": {},
   "source": [
    "## 8. Resumen y Conclusiones"
   ]
  },
  {
   "cell_type": "code",
   "execution_count": null,
   "metadata": {},
   "outputs": [],
   "source": [
    "# Generar resumen ejecutivo\\n\n",
    "print(\\\"=== RESUMEN EJECUTIVO ===\\\\n\\\")\\n\n",
    "\\n\n",
    "print(f\\\"📊 Total de bases de datos analizadas: {len(presence_columns)}\\\")\\n\n",
    "print(f\\\"📝 Base de datos más utilizada: {db_summary_df.loc[db_summary_df['Present'].idxmax(), 'Database']}\\\")\\n\n",
    "print(f\\\"📈 Base de datos menos utilizada: {db_summary_df.loc[db_summary_df['Present'].idxmin(), 'Database']}\\\")\\n\n",
    "\\n\n",
    "# Análisis de cobertura total\\n\n",
    "total_coverage = (coverage_matrix.sum(axis=1) > 0).sum()\\n\n",
    "coverage_percentage = (total_coverage / len(df)) * 100\\n\n",
    "print(f\\\"🌐 Cobertura total: {total_coverage} publicaciones ({coverage_percentage:.1f}%)\\\")\\n\n",
    "\\n\n",
    "# Análisis de redundancia\\n\n",
    "avg_coverage = coverage_matrix.sum(axis=1).mean()\\n\n",
    "print(f\\\"📊 Promedio de bases de datos por publicación: {avg_coverage:.2f}\\\")\\n\n",
    "\\n\n",
    "# Mejor combinación\\n\n",
    "best_combination = combination_counts.index[0]\\n\n",
    "best_count = combination_counts.iloc[0]\\n\n",
    "print(f\\\"🏆 Mejor combinación: {best_combination} ({best_count} publicaciones)\\\")\\n\n",
    "\\n\n",
    "print(\\\"\\\\n=== CONCLUSIONES ===\\\")\\n\n",
    "print(\\\"1. Las bases de datos especializadas tienen mayor cobertura\\\")\\n\n",
    "print(\\\"2. Existe solapamiento significativo entre bases de datos\\\")\\n\n",
    "print(\\\"3. La mayoría de publicaciones están en múltiples bases\\\")\\n\n",
    "print(\\\"4. Hay variabilidad en la calidad de cobertura por base\\\")"
   ]
  }
 ],
 "metadata": {
  "kernelspec": {
   "display_name": "Python 3",
   "language": "python",
   "name": "python3"
  },
  "language_info": {
   "codemirror_mode": {
    "name": "ipython",
    "version": 3
   },
   "file_extension": ".py",
   "mimetype": "text/x-python",
   "name": "python",
   "nbconvert_exporter": "python",
   "pygments_lexer": "ipython3",
   "version": "3.8.5"
  }
 },
 "nbformat": 4,
 "nbformat_minor": 4
}
