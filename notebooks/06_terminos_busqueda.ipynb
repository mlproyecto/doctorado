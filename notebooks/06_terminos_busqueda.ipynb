{
  "cells": [
    {
      "cell_type": "markdown",
      "metadata": {},
      "source": [
        "# Análisis de Términos de Búsqueda\n",
        "\n",
        "**Pregunta de Investigación MQ6:** ¿Cuáles son los términos de búsqueda más utilizados para definir el alcance de la revisión?\n",
        "\n",
        "Este notebook analiza los términos de búsqueda utilizados en los estudios incluidos en la revisión sistemática."
      ]
    },
    {
      "cell_type": "code",
      "execution_count": null,
      "metadata": {},
      "outputs": [],
      "source": [
        "# Configuración del entorno\n",
        "import pandas as pd\n",
        "import numpy as np\n",
        "import matplotlib.pyplot as plt\n",
        "import seaborn as sns\n",
        "from collections import Counter\n",
        "import re\n",
        "from wordcloud import WordCloud\n",
        "import warnings\n",
        "warnings.filterwarnings('ignore')\n",
        "\n",
        "# Configurar estilo de gráficos\n",
        "plt.style.use('default')\n",
        "sns.set_palette(\"husl\")"
      ]
    },
    {
      "cell_type": "code",
      "execution_count": null,
      "metadata": {},
      "outputs": [],
      "source": [
        "# Cargar datos\n",
        "url = \"https://raw.githubusercontent.com/mlproyecto/doctorado/main/MappingReview.csv\"\n",
        "df = pd.read_csv(url, sep=';', encoding='latin-1')\n",
        "print(f\"Dataset cargado: {df.shape[0]} filas y {df.shape[1]} columnas\")"
      ]
    },
    {
      "cell_type": "code",
      "execution_count": null,
      "metadata": {},
      "outputs": [],
      "source": [
        "# Extraer términos de búsqueda de títulos y abstracts\n",
        "def extract_search_terms(text):\n",
        "    if pd.isna(text):\n",
        "        return []\n",
        "    \n",
        "    # Convertir a minúsculas y dividir en palabras\n",
        "    words = re.findall(r'\\b\\w+\\b', str(text).lower())\n",
        "    \n",
        "    # Filtrar palabras comunes y términos técnicos\n",
        "    stop_words = {'the', 'and', 'or', 'in', 'on', 'at', 'to', 'for', 'of', 'with', 'by', 'a', 'an', 'is', 'are', 'was', 'were', 'be', 'been', 'have', 'has', 'had', 'do', 'does', 'did', 'will', 'would', 'could', 'should', 'may', 'might', 'can', 'this', 'that', 'these', 'those', 'i', 'you', 'he', 'she', 'it', 'we', 'they', 'me', 'him', 'her', 'us', 'them'}\n",
        "    \n",
        "    # Términos específicos de IA/ML y educación matemática\n",
        "    ai_ml_terms = {'artificial', 'intelligence', 'ai', 'machine', 'learning', 'ml', 'deep', 'neural', 'network', 'algorithm', 'model', 'prediction', 'classification', 'regression', 'clustering', 'supervised', 'unsupervised', 'reinforcement', 'learning', 'data', 'mining', 'big', 'data', 'analytics', 'predictive', 'modeling'}\n",
        "    \n",
        "    # Términos de educación matemática\n",
        "    math_terms = {'mathematics', 'math', 'mathematical', 'education', 'teaching', 'learning', 'student', 'teacher', 'classroom', 'curriculum', 'pedagogy', 'instruction', 'assessment', 'evaluation', 'performance', 'achievement', 'skill', 'knowledge', 'understanding', 'problem', 'solving', 'algebra', 'geometry', 'calculus', 'arithmetic', 'statistics', 'probability'}\n",
        "    \n",
        "    # Combinar términos relevantes\n",
        "    relevant_terms = ai_ml_terms.union(math_terms)\n",
        "    \n",
        "    # Filtrar palabras relevantes\n",
        "    filtered_words = [word for word in words if word not in stop_words and (word in relevant_terms or len(word) > 3)]\n",
        "    \n",
        "    return filtered_words\n",
        "\n",
        "# Aplicar extracción a títulos y abstracts\n",
        "df['search_terms_title'] = df['Title'].apply(extract_search_terms)\n",
        "df['search_terms_abstract'] = df['Abstract'].apply(extract_search_terms)\n",
        "\n",
        "print(\"Términos de búsqueda extraídos de títulos y abstracts\")"
      ]
    },
    {
      "cell_type": "code",
      "execution_count": null,
      "metadata": {},
      "outputs": [],
      "source": [
        "# Análisis de frecuencia de términos\n",
        "all_terms = []\n",
        "for terms in df['search_terms_title']:\n",
        "    all_terms.extend(terms)\n",
        "for terms in df['search_terms_abstract']:\n",
        "    all_terms.extend(terms)\n",
        "\n",
        "# Contar frecuencia\n",
        "term_freq = Counter(all_terms)\n",
        "most_common_terms = term_freq.most_common(20)\n",
        "\n",
        "# Visualizar términos más frecuentes\n",
        "terms, counts = zip(*most_common_terms)\n",
        "\n",
        "plt.figure(figsize=(12, 8))\n",
        "plt.barh(range(len(terms)), counts)\n",
        "plt.yticks(range(len(terms)), terms)\n",
        "plt.xlabel('Frecuencia')\n",
        "plt.title('Términos de Búsqueda Más Frecuentes')\n",
        "plt.gca().invert_yaxis()\n",
        "plt.tight_layout()\n",
        "plt.show()"
      ]
    },
    {
      "cell_type": "code",
      "execution_count": null,
      "metadata": {},
      "outputs": [],
      "source": [
        "# Generar WordCloud\n",
        "text = ' '.join(all_terms)\n",
        "\n",
        "wordcloud = WordCloud(width=800, height=400, background_color='white', max_words=100).generate(text)\n",
        "\n",
        "plt.figure(figsize=(12, 6))\n",
        "plt.imshow(wordcloud, interpolation='bilinear')\n",
        "plt.axis('off')\n",
        "plt.title('Nube de Palabras - Términos de Búsqueda')\n",
        "plt.tight_layout()\n",
        "plt.show()"
      ]
    }
  ],
  "metadata": {
    "kernelspec": {
      "display_name": "Python 3",
      "language": "python",
      "name": "python3"
    },
    "language_info": {
      "codemirror_mode": {
        "name": "ipython",
        "version": 3
      },
      "file_extension": ".py",
      "mimetype": "text/x-python",
      "name": "python",
      "nbconvert_exporter": "python",
      "pygments_lexer": "ipython3",
      "version": "3.8.5"
    }
  },
  "nbformat": 4,
  "nbformat_minor": 4
}
