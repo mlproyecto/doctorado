{
  "cells": [
    {
      "cell_type": "markdown",
      "metadata": {},
      "source": [
        "# Análisis de Tipos de Artículos: Mapping Review IA y ML en Educación Matemática K-12\n",
        "\n",
        "**MQ3: ¿Qué tipos de artículos se publican en este campo?**\n",
        "\n",
        "Este notebook analiza la distribución y características de diferentes tipos de publicaciones en el campo de IA y ML en educación matemática K-12."
      ]
    },
    {
      "cell_type": "markdown",
      "metadata": {},
      "source": [
        "## 1. Configuración del Entorno"
      ]
    },
    {
      "cell_type": "code",
      "execution_count": null,
      "metadata": {},
      "outputs": [],
      "source": [
        "# Instalación de dependencias\n",
        "!pip install pandas numpy matplotlib seaborn plotly"
      ]
    },
    {
      "cell_type": "code",
      "execution_count": null,
      "metadata": {},
      "outputs": [],
      "source": [
        "# Importación de librerías\n",
        "import pandas as pd\n",
        "import numpy as np\n",
        "import matplotlib.pyplot as plt\n",
        "import seaborn as sns\n",
        "import plotly.express as px\n",
        "import plotly.graph_objects as go\n",
        "from plotly.subplots import make_subplots\n",
        "import warnings\n",
        "warnings.filterwarnings('ignore')\n",
        "\n",
        "# Configuración de estilo\n",
        "plt.style.use('seaborn-v0_8')\n",
        "sns.set_palette(\"husl\")\n",
        "plt.rcParams['figure.figsize'] = (12, 8)\n",
        "plt.rcParams['font.size'] = 12\n",
        "\n",
        "# Configuración para mostrar todas las columnas\n",
        "pd.set_option('display.max_columns', None)\n",
        "pd.set_option('display.max_colwidth', None)"
      ]
    },
    {
      "cell_type": "markdown",
      "metadata": {},
      "source": [
        "## 2. Carga de Datos desde GitHub"
      ]
    },
    {
      "cell_type": "code",
      "execution_count": null,
      "metadata": {},
      "outputs": [],
      "source": [
        "# Cargar el dataset desde GitHub\n",
        "# IMPORTANTE: Cambiar la URL por tu repositorio real\n",
        "# Cargar el dataset local\n",
        "df = pd.read_csv('../MappingReview.csv', sep=';', encoding='latin-1')\n",
        "\n",
        "print(f\"Dataset cargado: {df.shape[0]} filas y {df.shape[1]} columnas\")\n",
        "print(\"\\nPrimeras 5 filas:\")\n",
        "df.head()"
      ]
    },
    {
      "cell_type": "markdown",
      "metadata": {},
      "source": [
        "## 3. Análisis de Tipos de Artículos (MQ3)"
      ]
    },
    {
      "cell_type": "code",
      "execution_count": null,
      "metadata": {},
      "outputs": [],
      "source": [
        "# Análisis de tipos de publicación\n",
        "type_counts = df['Type of Publication'].value_counts()\n",
        "type_percentages = (type_counts / len(df)) * 100\n",
        "\n",
        "print(\"=== DISTRIBUCIÓN DE TIPOS DE PUBLICACIÓN ===\")\n",
        "for pub_type, count in type_counts.items():\n",
        "    percentage = type_percentages[pub_type]\n",
        "    print(f\"{pub_type}: {count} publicaciones ({percentage:.1f}%)\")\n",
        "\n",
        "print(f\"\\nTotal de tipos únicos: {len(type_counts)}\")\n",
        "print(f\"Tipo más común: {type_counts.index[0]} ({type_counts.iloc[0]} publicaciones)\")"
      ]
    },
    {
      "cell_type": "code",
      "execution_count": null,
      "metadata": {},
      "outputs": [],
      "source": [
        "# Gráfico de barras para tipos de publicación\n",
        "plt.figure(figsize=(12, 8))\n",
        "bars = plt.bar(range(len(type_counts)), type_counts.values, color='lightblue', alpha=0.7)\n",
        "plt.xlabel('Tipo de Publicación', fontsize=14)\n",
        "plt.ylabel('Número de Publicaciones', fontsize=14)\n",
        "plt.title('Distribución de Tipos de Publicación', fontsize=16, fontweight='bold')\n",
        "plt.xticks(range(len(type_counts)), type_counts.index, rotation=45, ha='right')\n",
        "plt.grid(True, alpha=0.3, axis='y')\n",
        "\n",
        "# Agregar valores en las barras\n",
        "for i, (bar, count) in enumerate(zip(bars, type_counts.values)):\n",
        "    plt.text(i, count + 0.5, str(count), ha='center', va='bottom', fontweight='bold')\n",
        "\n",
        "plt.tight_layout()\n",
        "plt.show()"
      ]
    },
    {
      "cell_type": "code",
      "execution_count": null,
      "metadata": {},
      "outputs": [],
      "source": [
        "# Gráfico de pastel\n",
        "plt.figure(figsize=(12, 8))\n",
        "colors = plt.cm.Set3(np.linspace(0, 1, len(type_counts)))\n",
        "\n",
        "wedges, texts, autotexts = plt.pie(type_counts.values, labels=type_counts.index, \n",
        "                                    autopct='%1.1f%%', colors=colors, startangle=90)\n",
        "\n",
        "plt.title('Distribución de Tipos de Publicación', fontsize=16, fontweight='bold')\n",
        "plt.axis('equal')\n",
        "\n",
        "# Mejorar la legibilidad de las etiquetas\n",
        "for autotext in autotexts:\n",
        "    autotext.set_color('white')\n",
        "    autotext.set_fontweight('bold')\n",
        "\n",
        "plt.tight_layout()\n",
        "plt.show()"
      ]
    },
    {
      "cell_type": "code",
      "execution_count": null,
      "metadata": {},
      "outputs": [],
      "source": [
        "# Gráfico interactivo con Plotly\n",
        "fig = px.pie(values=type_counts.values, names=type_counts.index,\n",
        "              title='Distribución de Tipos de Publicación')\n",
        "\n",
        "fig.update_layout(\n",
        "    title_font_size=16\n",
        ")\n",
        "\n",
        "fig.show()"
      ]
    },
    {
      "cell_type": "markdown",
      "metadata": {},
      "source": [
        "## 4. Análisis Temporal por Tipo"
      ]
    },
    {
      "cell_type": "code",
      "execution_count": null,
      "metadata": {},
      "outputs": [],
      "source": [
        "# Convertir Year a numérico\n",
        "df['Year'] = pd.to_numeric(df['Year'], errors='coerce')\n",
        "\n",
        "# Análisis temporal por tipo de publicación\n",
        "temporal_by_type = df.groupby(['Year', 'Type of Publication']).size().unstack(fill_value=0)\n",
        "\n",
        "print(\"=== EVOLUCIÓN TEMPORAL POR TIPO DE PUBLICACIÓN ===\")\n",
        "print(temporal_by_type)\n",
        "\n",
        "# Gráfico de líneas temporal\n",
        "plt.figure(figsize=(15, 8))\n",
        "colors = plt.cm.Set3(np.linspace(0, 1, len(temporal_by_type.columns)))\n",
        "\n",
        "for i, pub_type in enumerate(temporal_by_type.columns):\n",
        "    plt.plot(temporal_by_type.index, temporal_by_type[pub_type], marker='o', linewidth=2, \n",
        "             label=pub_type, color=colors[i])\n",
        "\n",
        "plt.title('Evolución Temporal por Tipo de Publicación', fontsize=16, fontweight='bold')\n",
        "plt.xlabel('Año', fontsize=14)\n",
        "plt.ylabel('Número de Publicaciones', fontsize=14)\n",
        "plt.legend(title='Tipo de Publicación', bbox_to_anchor=(1.05, 1), loc='upper left')\n",
        "plt.grid(True, alpha=0.3)\n",
        "plt.xticks(rotation=45)\n",
        "plt.tight_layout()\n",
        "plt.show()"
      ]
    },
    {
      "cell_type": "code",
      "execution_count": null,
      "metadata": {},
      "outputs": [],
      "source": [
        "# Gráfico de área apilada\n",
        "fig = px.area(temporal_by_type, title='Evolución Temporal por Tipo de Publicación')\n",
        "\n",
        "fig.update_layout(\n",
        "    title_font_size=16,\n",
        "    xaxis_title='Año',\n",
        "    yaxis_title='Número de Publicaciones',\n",
        "    hovermode='x unified'\n",
        ")\n",
        "\n",
        "fig.show()"
      ]
    },
    {
      "cell_type": "markdown",
      "metadata": {},
      "source": [
        "## 5. Análisis de Fuentes por Tipo"
      ]
    },
    {
      "cell_type": "code",
      "execution_count": null,
      "metadata": {},
      "outputs": [],
      "source": [
        "# Análisis de fuentes por tipo de publicación\n",
        "source_by_type = df.groupby(['Type of Publication', 'Source']).size().unstack(fill_value=0)\n",
        "\n",
        "print(\"=== FUENTES POR TIPO DE PUBLICACIÓN ===\")\n",
        "print(source_by_type)\n",
        "\n",
        "# Gráfico de calor\n",
        "plt.figure(figsize=(12, 8))\n",
        "sns.heatmap(source_by_type, annot=True, fmt='d', cmap='YlOrRd', cbar_kws={'label': 'Número de Publicaciones'})\n",
        "plt.title('Fuentes por Tipo de Publicación', fontsize=16, fontweight='bold')\n",
        "plt.xlabel('Fuente', fontsize=14)\n",
        "plt.ylabel('Tipo de Publicación', fontsize=14)\n",
        "plt.tight_layout()\n",
        "plt.show()"
      ]
    },
    {
      "cell_type": "markdown",
      "metadata": {},
      "source": [
        "## 6. Análisis de Fuentes de Datos por Tipo"
      ]
    },
    {
      "cell_type": "code",
      "execution_count": null,
      "metadata": {},
      "outputs": [],
      "source": [
        "# Análisis de fuentes por tipo de publicación\n",
        "source_by_type = df.groupby(['Type of Publication', 'Source']).size().unstack(fill_value=0)\n",
        "\n",
        "print(\"=== FUENTES POR TIPO DE PUBLICACIÓN ===\")\n",
        "print(source_by_type)\n",
        "\n",
        "# Gráfico de barras agrupadas\n",
        "fig = px.bar(source_by_type, title='Fuentes por Tipo de Publicación',\n",
        "              barmode='group')\n",
        "\n",
        "fig.update_layout(\n",
        "    title_font_size=16,\n",
        "    xaxis_title='Tipo de Publicación',\n",
        "    yaxis_title='Número de Publicaciones'\n",
        ")\n",
        "\n",
        "fig.show()"
      ]
    },
    {
      "cell_type": "markdown",
      "metadata": {},
      "source": [
        "## 7. Resumen y Conclusiones"
      ]
    },
    {
      "cell_type": "code",
      "execution_count": null,
      "metadata": {},
      "outputs": [],
      "source": [
        "# Generar resumen ejecutivo\n",
        "print(\"=== RESUMEN EJECUTIVO ===\\n\")\n",
        "\n",
        "print(f\"📊 Total de tipos de publicación: {len(type_counts)}\")\n",
        "print(f\"📝 Tipo más común: {type_counts.index[0]} ({type_counts.iloc[0]} publicaciones)\")\n",
        "print(f\"📈 Tipo menos común: {type_counts.index[-1]} ({type_counts.iloc[-1]} publicaciones)\")\n",
        "\n",
        "# Análisis de diversidad\n",
        "diversity_index = len(type_counts) / len(df) * 100\n",
        "print(f\"🌐 Índice de diversidad: {diversity_index:.1f}%\")\n",
        "\n",
        "# Análisis temporal\n",
        "most_productive_year = temporal_by_type.sum(axis=1).idxmax()\n",
        "most_productive_count = temporal_by_type.sum(axis=1).max()\n",
        "print(f\"📅 Año más productivo: {most_productive_year} ({most_productive_count} publicaciones)\")\n",
        "\n",
        "# Base de datos más utilizada por tipo\n",
        "most_common_type = type_counts.index[0]\n",
        "type_source_data = source_by_type.loc[most_common_type]\n",
        "most_used_source = type_source_data.idxmax()\n",
        "print(f\"🔍 Base de datos más utilizada para {most_common_type}: {most_used_db} ({type_db_data.max()} publicaciones)\")\n",
        "\n",
        "print(\"\\n=== CONCLUSIONES ===\")\n",
        "print(\"1. Los artículos de investigación dominan la literatura\")\n",
        "print(\"2. Hay una evolución temporal en los tipos de publicación\")\n",
        "print(\"3. Diferentes tipos tienen presencia en distintas fuentes\")\n",
        "print(\"4. La diversidad de tipos de publicación es moderada\")"
      ]
    }
  ],
  "metadata": {
    "kernelspec": {
      "display_name": "Python 3",
      "language": "python",
      "name": "python3"
    },
    "language_info": {
      "codemirror_mode": {
        "name": "ipython",
        "version": 3
      },
      "file_extension": ".py",
      "mimetype": "text/x-python",
      "name": "python",
      "nbconvert_exporter": "python",
      "pygments_lexer": "ipython3",
      "version": "3.8.5"
    }
  },
  "nbformat": 4,
  "nbformat_minor": 4
}
