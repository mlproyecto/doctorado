{
 "cells": [
  {
   "cell_type": "markdown",
   "metadata": {},
   "source": [
    "# Análisis de Tipos de Artículos: Mapping Review IA y ML en Educación Matemática K-12\\n\n",
    "\\n\n",
    "**MQ3: ¿Qué tipo de artículos se publican?**\\n\n",
    "\\n\n",
    "Este notebook analiza la distribución y características de los diferentes tipos de publicaciones en el campo de IA y ML en educación matemática K-12."
   ]
  },
  {
   "cell_type": "markdown",
   "metadata": {},
   "source": [
    "## 1. Configuración del Entorno"
   ]
  },
  {
   "cell_type": "code",
   "execution_count": null,
   "metadata": {},
   "outputs": [],
   "source": [
    "# Instalación de dependencias\\n\n",
    "!pip install pandas numpy matplotlib seaborn plotly"
   ]
  },
  {
   "cell_type": "code",
   "execution_count": null,
   "metadata": {},
   "outputs": [],
   "source": [
    "# Importación de librerías\\n\n",
    "import pandas as pd\\n\n",
    "import numpy as np\\n\n",
    "import matplotlib.pyplot as plt\\n\n",
    "import seaborn as sns\\n\n",
    "import plotly.express as px\\n\n",
    "import plotly.graph_objects as go\\n\n",
    "from plotly.subplots import make_subplots\\n\n",
    "import warnings\\n\n",
    "warnings.filterwarnings('ignore')\\n\n",
    "\\n\n",
    "# Configuración de estilo\\n\n",
    "plt.style.use('seaborn-v0_8')\\n\n",
    "sns.set_palette(\\\"husl\\\")\\n\n",
    "plt.rcParams['figure.figsize'] = (12, 8)\\n\n",
    "plt.rcParams['font.size'] = 12\\n\n",
    "\\n\n",
    "# Configuración para mostrar todas las columnas\\n\n",
    "pd.set_option('display.max_columns', None)\\n\n",
    "pd.set_option('display.max_colwidth', None)"
   ]
  },
  {
   "cell_type": "markdown",
   "metadata": {},
   "source": [
    "## 2. Carga de Datos desde GitHub"
   ]
  },
  {
   "cell_type": "code",
   "execution_count": null,
   "metadata": {},
   "outputs": [],
   "source": [
    "# Cargar el dataset desde GitHub\\n\n",
    "# IMPORTANTE: Cambiar la URL por tu repositorio real\\n\n",
    "url = \\\"https://raw.githubusercontent.com/TU_USUARIO/TU_REPOSITORIO/main/MappingReview.csv\\\"\\n\n",
    "df = pd.read_csv(url, sep=';', encoding='utf-8')\\n\n",
    "\\n\n",
    "print(f\\\"Dataset cargado: {df.shape[0]} filas y {df.shape[1]} columnas\\\")\\n\n",
    "print(\\\"\\\\nPrimeras 5 filas:\\\")\\n\n",
    "df.head()"
   ]
  },
  {
   "cell_type": "markdown",
   "metadata": {},
   "source": [
    "## 3. Análisis de Tipos de Publicación (MQ3)"
   ]
  },
  {
   "cell_type": "code",
   "execution_count": null,
   "metadata": {},
   "outputs": [],
   "source": [
    "# Análisis de tipos de publicación\\n\n",
    "type_counts = df['Type of Publication'].value_counts()\\n\n",
    "type_percentages = (type_counts / len(df)) * 100\\n\n",
    "\\n\n",
    "print(\\\"=== DISTRIBUCIÓN DE TIPOS DE PUBLICACIÓN ===\\\")\\n\n",
    "for pub_type, count in type_counts.items():\\n\n",
    "    percentage = type_percentages[pub_type]\\n\n",
    "    print(f\\\"{pub_type}: {count} publicaciones ({percentage:.1f}%)\\\")\\n\n",
    "\\n\n",
    "print(f\\\"\\\\nTotal de tipos únicos: {len(type_counts)}\\\")\\n\n",
    "print(f\\\"Tipo más común: {type_counts.index[0]} ({type_counts.iloc[0]} publicaciones)\\\")"
   ]
  },
  {
   "cell_type": "code",
   "execution_count": null,
   "metadata": {},
   "outputs": [],
   "source": [
    "# Gráfico de pastel para tipos de publicación\\n\n",
    "plt.figure(figsize=(12, 8))\\n\n",
    "colors = plt.cm.Set3(np.linspace(0, 1, len(type_counts)))\\n\n",
    "\\n\n",
    "wedges, texts, autotexts = plt.pie(type_counts.values, labels=type_counts.index, \\n\n",
    "                                    autopct='%1.1f%%', colors=colors, startangle=90,\\n\n",
    "                                    textprops={'fontsize': 10})\\n\n",
    "\\n\n",
    "plt.title('Distribución de Tipos de Publicación', fontsize=16, fontweight='bold')\\n\n",
    "plt.axis('equal')\\n\n",
    "\\n\n",
    "# Mejorar la legibilidad de las etiquetas\\n\n",
    "for autotext in autotexts:\\n\n",
    "    autotext.set_color('white')\\n\n",
    "    autotext.set_fontweight('bold')\\n\n",
    "\\n\n",
    "plt.tight_layout()\\n\n",
    "plt.show()"
   ]
  },
  {
   "cell_type": "code",
   "execution_count": null,
   "metadata": {},
   "outputs": [],
   "source": [
    "# Gráfico de barras horizontal\\n\n",
    "plt.figure(figsize=(12, 8))\\n\n",
    "bars = plt.barh(range(len(type_counts)), type_counts.values, color='lightblue', alpha=0.7)\\n\n",
    "plt.yticks(range(len(type_counts)), type_counts.index)\\n\n",
    "plt.xlabel('Número de Publicaciones', fontsize=14)\\n\n",
    "plt.title('Distribución de Tipos de Publicación', fontsize=16, fontweight='bold')\\n\n",
    "plt.grid(True, alpha=0.3, axis='x')\\n\n",
    "\\n\n",
    "# Agregar valores en las barras\\n\n",
    "for i, (bar, count) in enumerate(zip(bars, type_counts.values)):\\n\n",
    "    plt.text(count + 0.5, i, str(count), va='center', fontweight='bold')\\n\n",
    "\\n\n",
    "plt.tight_layout()\\n\n",
    "plt.show()"
   ]
  },
  {
   "cell_type": "code",
   "execution_count": null,
   "metadata": {},
   "outputs": [],
   "source": [
    "# Gráfico interactivo con Plotly\\n\n",
    "fig = px.pie(values=type_counts.values, names=type_counts.index,\\n\n",
    "              title='Distribución de Tipos de Publicación',\\n\n",
    "              color_discrete_sequence=px.colors.qualitative.Set3)\\n\n",
    "\\n\n",
    "fig.update_traces(textposition='inside', textinfo='percent+label')\\n\n",
    "fig.update_layout(\\n\n",
    "    title_font_size=16,\\n\n",
    "    showlegend=True\\n\n",
    ")\\n\n",
    "\\n\n",
    "fig.show()"
   ]
  },
  {
   "cell_type": "markdown",
   "metadata": {},
   "source": [
    "## 4. Análisis Temporal por Tipo de Publicación"
   ]
  },
  {
   "cell_type": "code",
   "execution_count": null,
   "metadata": {},
   "outputs": [],
   "source": [
    "# Convertir Year a numérico si no está ya\\n\n",
    "df['Year'] = pd.to_numeric(df['Year'], errors='coerce')\\n\n",
    "\\n\n",
    "# Análisis temporal por tipo de publicación\\n\n",
    "temporal_by_type = df.groupby(['Year', 'Type of Publication']).size().unstack(fill_value=0)\\n\n",
    "\\n\n",
    "print(\\\"=== EVOLUCIÓN TEMPORAL POR TIPO DE PUBLICACIÓN ===\\\")\\n\n",
    "print(temporal_by_type)\\n\n",
    "\\n\n",
    "# Gráfico de líneas temporal\\n\n",
    "plt.figure(figsize=(15, 8))\\n\n",
    "for pub_type in temporal_by_type.columns:\\n\n",
    "    plt.plot(temporal_by_type.index, temporal_by_type[pub_type], marker='o', linewidth=2, label=pub_type)\\n\n",
    "\\n\n",
    "plt.title('Evolución Temporal de Tipos de Publicación', fontsize=16, fontweight='bold')\\n\n",
    "plt.xlabel('Año', fontsize=14)\\n\n",
    "plt.ylabel('Número de Publicaciones', fontsize=14)\\n\n",
    "plt.legend(title='Tipo de Publicación', bbox_to_anchor=(1.05, 1), loc='upper left')\\n\n",
    "plt.grid(True, alpha=0.3)\\n\n",
    "plt.xticks(temporal_by_type.index, rotation=45)\\n\n",
    "plt.tight_layout()\\n\n",
    "plt.show()"
   ]
  },
  {
   "cell_type": "code",
   "execution_count": null,
   "metadata": {},
   "outputs": [],
   "source": [
    "# Gráfico de área apilada\\n\n",
    "fig = px.area(temporal_by_type, title='Evolución Temporal de Tipos de Publicación')\\n\n",
    "\\n\n",
    "fig.update_layout(\\n\n",
    "    title_font_size=16,\\n\n",
    "    xaxis_title='Año',\\n\n",
    "    yaxis_title='Número de Publicaciones',\\n\n",
    "    hovermode='x unified'\\n\n",
    ")\\n\n",
    "\\n\n",
    "fig.show()"
   ]
  },
  {
   "cell_type": "markdown",
   "metadata": {},
   "source": [
    "## 5. Análisis de Fuentes por Tipo de Publicación"
   ]
  },
  {
   "cell_type": "code",
   "execution_count": null,
   "metadata": {},
   "outputs": [],
   "source": [
    "# Análisis de fuentes por tipo de publicación\\n\n",
    "source_by_type = df.groupby(['Type of Publication', 'Source']).size().unstack(fill_value=0)\\n\n",
    "\\n\n",
    "print(\\\"=== FUENTES POR TIPO DE PUBLICACIÓN ===\\\")\\n\n",
    "print(source_by_type)\\n\n",
    "\\n\n",
    "# Gráfico de calor\\n\n",
    "plt.figure(figsize=(12, 8))\\n\n",
    "sns.heatmap(source_by_type, annot=True, fmt='d', cmap='YlOrRd', cbar_kws={'label': 'Número de Publicaciones'})\\n\n",
    "plt.title('Distribución de Fuentes por Tipo de Publicación', fontsize=16, fontweight='bold')\\n\n",
    "plt.xlabel('Fuente', fontsize=14)\\n\n",
    "plt.ylabel('Tipo de Publicación', fontsize=14)\\n\n",
    "plt.tight_layout()\\n\n",
    "plt.show()"
   ]
  },
  {
   "cell_type": "code",
   "execution_count": null,
   "metadata": {},
   "outputs": [],
   "source": [
    "# Gráfico de barras agrupadas\\n\n",
    "source_by_type_plot = source_by_type.reset_index()\\n\n",
    "source_by_type_melted = source_by_type_plot.melt(id_vars=['Type of Publication'], \\n\n",
    "                                                  var_name='Source', value_name='Count')\\n\n",
    "\\n\n",
    "fig = px.bar(source_by_type_melted, x='Type of Publication', y='Count', color='Source',\\n\n",
    "              title='Distribución de Fuentes por Tipo de Publicación',\\n\n",
    "              barmode='group')\\n\n",
    "\\n\n",
    "fig.update_layout(\\n\n",
    "    title_font_size=16,\\n\n",
    "    xaxis_title='Tipo de Publicación',\\n\n",
    "    yaxis_title='Número de Publicaciones'\\n\n",
    ")\\n\n",
    "\\n\n",
    "fig.show()"
   ]
  },
  {
   "cell_type": "markdown",
   "metadata": {},
   "source": [
    "## 6. Análisis de Presencia en Bases de Datos por Tipo"
   ]
  },
  {
   "cell_type": "code",
   "execution_count": null,
   "metadata": {},
   "outputs": [],
   "source": [
    "# Análisis de presencia en bases de datos por tipo de publicación\\n\n",
    "presence_columns = ['Present in Eric', 'Present in IEEE', 'Present in Scopus', 'Present in WoS']\\n\n",
    "\\n\n",
    "# Limpiar datos de presencia\\n\n",
    "for col in presence_columns:\\n\n",
    "    df[col] = df[col].fillna('No')\\n\n",
    "    df[col] = df[col].str.strip()\\n\n",
    "\\n\n",
    "# Crear análisis por tipo y presencia\\n\n",
    "presence_by_type = {}\\n\n",
    "for pub_type in df['Type of Publication'].unique():\\n\n",
    "    type_data = df[df['Type of Publication'] == pub_type]\\n\n",
    "    presence_by_type[pub_type] = {}\\n\n",
    "    for col in presence_columns:\\n\n",
    "        presence_by_type[pub_type][col] = type_data[col].value_counts().to_dict()\\n\n",
    "\\n\n",
    "print(\\\"=== PRESENCIA EN BASES DE DATOS POR TIPO DE PUBLICACIÓN ===\\\")\\n\n",
    "for pub_type, presence_data in presence_by_type.items():\\n\n",
    "    print(f\\\"\\\\n{pub_type}:\\\")\\n\n",
    "    for db, counts in presence_data.items():\\n\n",
    "        print(f\\\"  {db}: {counts}\\\")"
   ]
  },
  {
   "cell_type": "code",
   "execution_count": null,
   "metadata": {},
   "outputs": [],
   "source": [
    "# Gráfico de barras para presencia en bases de datos por tipo\\n\n",
    "fig, axes = plt.subplots(2, 2, figsize=(15, 12))\\n\n",
    "axes = axes.ravel()\\n\n",
    "\\n\n",
    "for i, col in enumerate(presence_columns):\\n\n",
    "    presence_data = df.groupby(['Type of Publication', col]).size().unstack(fill_value=0)\\n\n",
    "    \\n\n",
    "    presence_data.plot(kind='bar', ax=axes[i], alpha=0.7)\\n\n",
    "    axes[i].set_title(f'Presencia en {col.split(\\\"Present in \\\")[1]} por Tipo', fontweight='bold')\\n\n",
    "    axes[i].set_ylabel('Número de Publicaciones')\\n\n",
    "    axes[i].tick_params(axis='x', rotation=45)\\n\n",
    "    axes[i].legend(title='Presencia')\\n\n",
    "\\n\n",
    "plt.tight_layout()\\n\n",
    "plt.show()"
   ]
  },
  {
   "cell_type": "markdown",
   "metadata": {},
   "source": [
    "## 7. Análisis de Tendencias y Patrones"
   ]
  },
  {
   "cell_type": "code",
   "execution_count": null,
   "metadata": {},
   "outputs": [],
   "source": [
    "# Análisis de tendencias por tipo de publicación\\n\n",
    "print(\\\"=== ANÁLISIS DE TENDENCIAS POR TIPO ===\\\")\\n\n",
    "\\n\n",
    "for pub_type in df['Type of Publication'].unique():\\n\n",
    "    type_data = df[df['Type of Publication'] == pub_type]\\n\n",
    "    year_counts = type_data['Year'].value_counts().sort_index()\\n\n",
    "    \\n\n",
    "    print(f\\\"\\\\n{pub_type}:\\\")\\n\n",
    "    print(f\\\"  Total: {len(type_data)} publicaciones\\\")\\n\n",
    "    print(f\\\"  Año con más publicaciones: {year_counts.idxmax()} ({year_counts.max()} publicaciones)\\\")\\n\n",
    "    print(f\\\"  Año con menos publicaciones: {year_counts.idxmin()} ({year_counts.min()} publicaciones)\\\")\\n\n",
    "    print(f\\\"  Promedio anual: {year_counts.mean():.1f} publicaciones\\\")"
   ]
  },
  {
   "cell_type": "code",
   "execution_count": null,
   "metadata": {},
   "outputs": [],
   "source": [
    "# Gráfico de tendencias normalizadas\\n\n",
    "normalized_trends = temporal_by_type.div(temporal_by_type.sum(axis=1), axis=0) * 100\\n\n",
    "\\n\n",
    "plt.figure(figsize=(15, 8))\\n\n",
    "for pub_type in normalized_trends.columns:\\n\n",
    "    plt.plot(normalized_trends.index, normalized_trends[pub_type], marker='o', linewidth=2, label=pub_type)\\n\n",
    "\\n\n",
    "plt.title('Tendencias Normalizadas de Tipos de Publicación', fontsize=16, fontweight='bold')\\n\n",
    "plt.xlabel('Año', fontsize=14)\\n\n",
    "plt.ylabel('Porcentaje de Publicaciones', fontsize=14)\\n\n",
    "plt.legend(title='Tipo de Publicación', bbox_to_anchor=(1.05, 1), loc='upper left')\\n\n",
    "plt.grid(True, alpha=0.3)\\n\n",
    "plt.xticks(normalized_trends.index, rotation=45)\\n\n",
    "plt.tight_layout()\\n\n",
    "plt.show()"
   ]
  },
  {
   "cell_type": "markdown",
   "metadata": {},
   "source": [
    "## 8. Resumen y Conclusiones"
   ]
  },
  {
   "cell_type": "code",
   "execution_count": null,
   "metadata": {},
   "outputs": [],
   "source": [
    "# Generar resumen ejecutivo\\n\n",
    "print(\\\"=== RESUMEN EJECUTIVO ===\\\\n\\\")\\n\n",
    "\\n\n",
    "print(f\\\"📊 Total de tipos de publicación: {len(type_counts)}\\\")\\n\n",
    "print(f\\\"📝 Tipo más común: {type_counts.index[0]} ({type_counts.iloc[0]} publicaciones)\\\")\\n\n",
    "print(f\\\"📈 Tipo menos común: {type_counts.index[-1]} ({type_counts.iloc[-1]} publicaciones)\\\")\\n\n",
    "\\n\n",
    "# Análisis de diversidad\\n\n",
    "diversity_index = len(type_counts) / len(df) * 100\\n\n",
    "print(f\\\"🌐 Índice de diversidad: {diversity_index:.1f}%\\\")\\n\n",
    "\\n\n",
    "# Análisis de concentración\\n\n",
    "concentration = (type_counts.iloc[0] / len(df)) * 100\\n\n",
    "print(f\\\"🎯 Concentración del tipo principal: {concentration:.1f}%\\\")\\n\n",
    "\\n\n",
    "print(\\\"\\\\n=== CONCLUSIONES ===\\\")\\n\n",
    "print(\\\"1. Los artículos de investigación dominan la producción científica\\\")\\n\n",
    "print(\\\"2. Hay una tendencia hacia la diversificación de tipos de publicación\\\")\\n\n",
    "print(\\\"3. Las conferencias son importantes para la difusión temprana\\\")\\n\n",
    "print(\\\"4. Existe variabilidad en la presencia en bases de datos por tipo\\\")"
   ]
  }
 ],
 "metadata": {
  "kernelspec": {
   "display_name": "Python 3",
   "language": "python",
   "name": "python3"
  },
  "language_info": {
   "codemirror_mode": {
    "name": "ipython",
    "version": 3
   },
   "file_extension": ".py",
   "mimetype": "text/x-python",
   "name": "python",
   "nbconvert_exporter": "python",
   "pygments_lexer": "ipython3",
   "version": "3.8.5"
  }
 },
 "nbformat": 4,
 "nbformat_minor": 4
}
