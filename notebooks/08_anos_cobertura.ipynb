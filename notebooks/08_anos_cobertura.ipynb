{
 "cells": [
  {
   "cell_type": "markdown",
   "metadata": {},
   "source": [
    "# Análisis de Años de Cobertura: Mapping Review IA y ML en Educación Matemática K-12\\n\n",
    "\\n\n",
    "**MQ8: ¿Qué años cubren los estudios?**\\n\n",
    "\\n\n",
    "Este notebook analiza los períodos de tiempo cubiertos por los estudios sobre IA y ML en educación matemática K-12."
   ]
  },
  {
   "cell_type": "markdown",
   "metadata": {},
   "source": [
    "## 1. Configuración del Entorno"
   ]
  },
  {
   "cell_type": "code",
   "execution_count": null,
   "metadata": {},
   "outputs": [],
   "source": [
    "# Instalación de dependencias\\n\n",
    "!pip install pandas numpy matplotlib seaborn plotly"
   ]
  },
  {
   "cell_type": "code",
   "execution_count": null,
   "metadata": {},
   "outputs": [],
   "source": [
    "# Importación de librerías\\n\n",
    "import pandas as pd\\n\n",
    "import numpy as np\\n\n",
    "import matplotlib.pyplot as plt\\n\n",
    "import seaborn as sns\\n\n",
    "import plotly.express as px\\n\n",
    "import plotly.graph_objects as go\\n\n",
    "from plotly.subplots import make_subplots\\n\n",
    "import warnings\\n\n",
    "warnings.filterwarnings('ignore')\\n\n",
    "\\n\n",
    "# Configuración de estilo\\n\n",
    "plt.style.use('seaborn-v0_8')\\n\n",
    "sns.set_palette(\\\"husl\\\")\\n\n",
    "plt.rcParams['figure.figsize'] = (12, 8)\\n\n",
    "plt.rcParams['font.size'] = 12\\n\n",
    "\\n\n",
    "# Configuración para mostrar todas las columnas\\n\n",
    "pd.set_option('display.max_columns', None)\\n\n",
    "pd.set_option('display.max_colwidth', None)"
   ]
  },
  {
   "cell_type": "markdown",
   "metadata": {},
   "source": [
    "## 2. Carga de Datos desde GitHub"
   ]
  },
  {
   "cell_type": "code",
   "execution_count": null,
   "metadata": {},
   "outputs": [],
   "source": [
    "# Cargar el dataset desde GitHub\\n\n",
    "# IMPORTANTE: Cambiar la URL por tu repositorio real\\n\n",
    "url = \\\"https://raw.githubusercontent.com/TU_USUARIO/TU_REPOSITORIO/main/MappingReview.csv\\\"\\n\n",
    "df = pd.read_csv(url, sep=';', encoding='utf-8')\\n\n",
    "\\n\n",
    "print(f\\\"Dataset cargado: {df.shape[0]} filas y {df.shape[1]} columnas\\\")\\n\n",
    "print(\\\"\\\\nPrimeras 5 filas:\\\")\\n\n",
    "df.head()"
   ]
  },
  {
   "cell_type": "markdown",
   "metadata": {},
   "source": [
    "## 3. Análisis de Años de Cobertura (MQ8)"
   ]
  },
  {
   "cell_type": "code",
   "execution_count": null,
   "metadata": {},
   "outputs": [],
   "source": [
    "# Convertir Year a numérico\\n\n",
    "df['Year'] = pd.to_numeric(df['Year'], errors='coerce')\\n\n",
    "\\n\n",
    "# Análisis básico de años\\n\n",
    "year_counts = df['Year'].value_counts().sort_index()\\n\n",
    "\\n\n",
    "print(\\\"=== ANÁLISIS DE AÑOS DE COBERTURA ===\\\")\\n\n",
    "print(f\\\"Rango de años: {df['Year'].min()} - {df['Year'].max()}\\\")\\n\n",
    "print(f\\\"Total de años únicos: {len(year_counts)}\\\")\\n\n",
    "print(f\\\"Año con más publicaciones: {year_counts.idxmax()} ({year_counts.max()} publicaciones)\\\")\\n\n",
    "print(f\\\"Año con menos publicaciones: {year_counts.idxmin()} ({year_counts.min()} publicaciones)\\\")\\n\n",
    "print(f\\\"Promedio de publicaciones por año: {year_counts.mean():.1f}\\\")\\n\n",
    "\\n\n",
    "print(\\\"\\\\nDistribución por año:\\\")\\n\n",
    "for year, count in year_counts.items():\\n\n",
    "    percentage = (count / len(df)) * 100\\n\n",
    "    print(f\\\"{year}: {count} publicaciones ({percentage:.1f}%)\\\")"
   ]
  },
  {
   "cell_type": "code",
   "execution_count": null,
   "metadata": {},
   "outputs": [],
   "source": [
    "# Gráfico de barras para distribución por año\\n\n",
    "plt.figure(figsize=(15, 8))\\n\n",
    "bars = plt.bar(year_counts.index, year_counts.values, color='lightblue', alpha=0.7)\\n\n",
    "plt.xlabel('Año', fontsize=14)\\n\n",
    "plt.ylabel('Número de Publicaciones', fontsize=14)\\n\n",
    "plt.title('Distribución de Publicaciones por Año', fontsize=16, fontweight='bold')\\n\n",
    "plt.grid(True, alpha=0.3, axis='y')\\n\n",
    "plt.xticks(year_counts.index, rotation=45)\\n\n",
    "\\n\n",
    "# Agregar valores en las barras\\n\n",
    "for i, (bar, count) in enumerate(zip(bars, year_counts.values)):\\n\n",
    "    plt.text(year_counts.index[i], count + 0.5, str(count), ha='center', va='bottom', fontweight='bold')\\n\n",
    "\\n\n",
    "plt.tight_layout()\\n\n",
    "plt.show()"
   ]
  },
  {
   "cell_type": "code",
   "execution_count": null,
   "metadata": {},
   "outputs": [],
   "source": [
    "# Gráfico de líneas temporal\\n\n",
    "plt.figure(figsize=(15, 8))\\n\n",
    "plt.plot(year_counts.index, year_counts.values, marker='o', linewidth=3, markersize=8, color='#2E8B57')\\n\n",
    "plt.fill_between(year_counts.index, year_counts.values, alpha=0.3, color='#2E8B57')\\n\n",
    "plt.xlabel('Año', fontsize=14)\\n\n",
    "plt.ylabel('Número de Publicaciones', fontsize=14)\\n\n",
    "plt.title('Evolución Temporal de Publicaciones', fontsize=16, fontweight='bold')\\n\n",
    "plt.grid(True, alpha=0.3)\\n\n",
    "plt.xticks(year_counts.index, rotation=45)\\n\n",
    "\\n\n",
    "# Agregar valores en los puntos\\n\n",
    "for i, (year, count) in enumerate(zip(year_counts.index, year_counts.values)):\\n\n",
    "    plt.text(year, count + 0.5, str(count), ha='center', va='bottom', fontweight='bold')\\n\n",
    "\\n\n",
    "plt.tight_layout()\\n\n",
    "plt.show()"
   ]
  },
  {
   "cell_type": "code",
   "execution_count": null,
   "metadata": {},
   "outputs": [],
   "source": [
    "# Gráfico interactivo con Plotly\\n\n",
    "fig = px.line(x=year_counts.index, y=year_counts.values,\\n\n",
    "              title='Evolución Temporal de Publicaciones',\\n\n",
    "              labels={'x': 'Año', 'y': 'Número de Publicaciones'})\\n\n",
    "\\n\n",
    "fig.update_traces(mode='lines+markers', line=dict(width=3), marker=dict(size=8))\\n\n",
    "fig.update_layout(\\n\n",
    "    title_font_size=16,\\n\n",
    "    xaxis_title_font_size=14,\\n\n",
    "    yaxis_title_font_size=14,\\n\n",
    "    hovermode='x unified'\\n\n",
    ")\\n\n",
    "\\n\n",
    "fig.show()"
   ]
  },
  {
   "cell_type": "markdown",
   "metadata": {},
   "source": [
    "## 4. Análisis de Períodos de Tiempo"
   ]
  },
  {
   "cell_type": "code",
   "execution_count": null,
   "metadata": {},
   "outputs": [],
   "source": [
    "# Definir períodos de tiempo\\n\n",
    "def categorize_period(year):\\n\n",
    "    if pd.isna(year):\\n\n",
    "        return 'Unknown'\\n\n",
    "    elif year < 2020:\\n\n",
    "        return 'Pre-2020'\\n\n",
    "    elif year == 2020:\\n\n",
    "        return '2020'\\n\n",
    "    elif year == 2021:\\n\n",
    "        return '2021'\\n\n",
    "    elif year == 2022:\\n\n",
    "        return '2022'\\n\n",
    "    elif year == 2023:\\n\n",
    "        return '2023'\\n\n",
    "    elif year == 2024:\\n\n",
    "        return '2024'\\n\n",
    "    else:\\n\n",
    "        return '2025+'\\n\n",
    "\\n\n",
    "df['Period'] = df['Year'].apply(categorize_period)\\n\n",
    "period_counts = df['Period'].value_counts()\\n\n",
    "\\n\n",
    "print(\\\"=== DISTRIBUCIÓN POR PERÍODOS ===\\\")\\n\n",
    "for period, count in period_counts.items():\\n\n",
    "    percentage = (count / len(df)) * 100\\n\n",
    "    print(f\\\"{period}: {count} publicaciones ({percentage:.1f}%)\\\")\\n\n",
    "\\n\n",
    "# Gráfico de pastel para períodos\\n\n",
    "plt.figure(figsize=(12, 8))\\n\n",
    "colors = plt.cm.Set3(np.linspace(0, 1, len(period_counts)))\\n\n",
    "\\n\n",
    "wedges, texts, autotexts = plt.pie(period_counts.values, labels=period_counts.index, \\n\n",
    "                                    autopct='%1.1f%%', colors=colors, startangle=90)\\n\n",
    "\\n\n",
    "plt.title('Distribución de Publicaciones por Período', fontsize=16, fontweight='bold')\\n\n",
    "plt.axis('equal')\\n\n",
    "\\n\n",
    "# Mejorar la legibilidad de las etiquetas\\n\n",
    "for autotext in autotexts:\\n\n",
    "    autotext.set_color('white')\\n\n",
    "    autotext.set_fontweight('bold')\\n\n",
    "\\n\n",
    "plt.tight_layout()\\n\n",
    "plt.show()"
   ]
  },
  {
   "cell_type": "markdown",
   "metadata": {},
   "source": [
    "## 5. Análisis de Tendencias Temporales"
   ]
  },
  {
   "cell_type": "code",
   "execution_count": null,
   "metadata": {},
   "outputs": [],
   "source": [
    "# Análisis de tendencias\\n\n",
    "print(\\\"=== ANÁLISIS DE TENDENCIAS TEMPORALES ===\\\")\\n\n",
    "\\n\n",
    "# Calcular crecimiento anual\\n\n",
    "yearly_growth = year_counts.pct_change() * 100\\n\n",
    "\\n\n",
    "print(\\\"Crecimiento anual (%):\\\")\\n\n",
    "for year, growth in yearly_growth.items():\\n\n",
    "    if pd.notna(growth):\\n\n",
    "        print(f\\\"{year}: {growth:.1f}%\\\")\\n\n",
    "\\n\n",
    "# Identificar picos y valles\\n\n",
    "peak_year = year_counts.idxmax()\\n\n",
    "valley_year = year_counts.idxmin()\\n\n",
    "\\n\n",
    "print(f\\\"\\\\nAño pico: {peak_year} ({year_counts.max()} publicaciones)\\\")\\n\n",
    "print(f\\\"Año valle: {valley_year} ({year_counts.min()} publicaciones)\\\")\\n\n",
    "\\n\n",
    "# Análisis de tendencia general\\n\n",
    "if len(year_counts) > 1:\\n\n",
    "    first_year = year_counts.index[0]\\n\n",
    "    last_year = year_counts.index[-1]\\n\n",
    "    first_count = year_counts.iloc[0]\\n\n",
    "    last_count = year_counts.iloc[-1]\\n\n",
    "    total_growth = ((last_count - first_count) / first_count) * 100\\n\n",
    "    \\n\n",
    "    print(f\\\"\\\\nCrecimiento total ({first_year} a {last_year}): {total_growth:.1f}%\\\")\\n\n",
    "    print(f\\\"Promedio anual: {year_counts.mean():.1f} publicaciones\\\")\\n\n",
    "    print(f\\\"Desviación estándar: {year_counts.std():.1f} publicaciones\\\")"
   ]
  },
  {
   "cell_type": "code",
   "execution_count": null,
   "metadata": {},
   "outputs": [],
   "source": [
    "# Gráfico de tendencias con línea de tendencia\\n\n",
    "plt.figure(figsize=(15, 8))\\n\n",
    "\\n\n",
    "# Gráfico de barras\\n\n",
    "bars = plt.bar(year_counts.index, year_counts.values, color='lightblue', alpha=0.7, label='Publicaciones')\\n\n",
    "\\n\n",
    "# Línea de tendencia\\n\n",
    "z = np.polyfit(year_counts.index, year_counts.values, 1)\\n\n",
    "p = np.poly1d(z)\\n\n",
    "plt.plot(year_counts.index, p(year_counts.index), \\\"r--\\\", linewidth=2, label='Tendencia')\\n\n",
    "\\n\n",
    "plt.xlabel('Año', fontsize=14)\\n\n",
    "plt.ylabel('Número de Publicaciones', fontsize=14)\\n\n",
    "plt.title('Tendencias Temporales con Línea de Tendencia', fontsize=16, fontweight='bold')\\n\n",
    "plt.legend()\\n\n",
    "plt.grid(True, alpha=0.3, axis='y')\\n\n",
    "plt.xticks(year_counts.index, rotation=45)\\n\n",
    "\\n\n",
    "# Agregar valores en las barras\\n\n",
    "for i, (bar, count) in enumerate(zip(bars, year_counts.values)):\\n\n",
    "    plt.text(year_counts.index[i], count + 0.5, str(count), ha='center', va='bottom', fontweight='bold')\\n\n",
    "\\n\n",
    "plt.tight_layout()\\n\n",
    "plt.show()"
   ]
  },
  {
   "cell_type": "markdown",
   "metadata": {},
   "source": [
    "## 6. Análisis de Cobertura por Tipo de Publicación"
   ]
  },
  {
   "cell_type": "code",
   "execution_count": null,
   "metadata": {},
   "outputs": [],
   "source": [
    "# Análisis de cobertura por tipo de publicación\\n\n",
    "type_year_analysis = df.groupby(['Type of Publication', 'Year']).size().unstack(fill_value=0)\\n\n",
    "\\n\n",
    "print(\\\"=== COBERTURA TEMPORAL POR TIPO DE PUBLICACIÓN ===\\\")\\n\n",
    "print(type_year_analysis)\\n\n",
    "\\n\n",
    "# Gráfico de líneas por tipo\\n\n",
    "plt.figure(figsize=(15, 8))\\n\n",
    "colors = plt.cm.Set3(np.linspace(0, 1, len(type_year_analysis.columns)))\\n\n",
    "\\n\n",
    "for i, pub_type in enumerate(type_year_analysis.index):\\n\n",
    "    plt.plot(type_year_analysis.columns, type_year_analysis.loc[pub_type], \\n\n",
    "             marker='o', linewidth=2, label=pub_type, color=colors[i])\\n\n",
    "\\n\n",
    "plt.title('Evolución Temporal por Tipo de Publicación', fontsize=16, fontweight='bold')\\n\n",
    "plt.xlabel('Año', fontsize=14)\\n\n",
    "plt.ylabel('Número de Publicaciones', fontsize=14)\\n\n",
    "plt.legend(title='Tipo de Publicación', bbox_to_anchor=(1.05, 1), loc='upper left')\\n\n",
    "plt.grid(True, alpha=0.3)\\n\n",
    "plt.xticks(rotation=45)\\n\n",
    "plt.tight_layout()\\n\n",
    "plt.show()"
   ]
  },
  {
   "cell_type": "code",
   "execution_count": null,
   "metadata": {},
   "outputs": [],
   "source": [
    "# Gráfico de área apilada\\n\n",
    "fig = px.area(type_year_analysis, title='Evolución Temporal por Tipo de Publicación')\\n\n",
    "\\n\n",
    "fig.update_layout(\\n\n",
    "    title_font_size=16,\\n\n",
    "    xaxis_title='Año',\\n\n",
    "    yaxis_title='Número de Publicaciones',\\n\n",
    "    hovermode='x unified'\\n\n",
    ")\\n\n",
    "\\n\n",
    "fig.show()"
   ]
  },
  {
   "cell_type": "markdown",
   "metadata": {},
   "source": [
    "## 7. Análisis de Cobertura por Fuente"
   ]
  },
  {
   "cell_type": "code",
   "execution_count": null,
   "metadata": {},
   "outputs": [],
   "source": [
    "# Análisis de cobertura por fuente\\n\n",
    "source_year_analysis = df.groupby(['Source', 'Year']).size().unstack(fill_value=0)\\n\n",
    "\\n\n",
    "print(\\\"=== COBERTURA TEMPORAL POR FUENTE ===\\\")\\n\n",
    "print(source_year_analysis)\\n\n",
    "\\n\n",
    "# Gráfico de calor\\n\n",
    "plt.figure(figsize=(12, 8))\\n\n",
    "sns.heatmap(source_year_analysis, annot=True, fmt='d', cmap='YlOrRd', cbar_kws={'label': 'Número de Publicaciones'})\\n\n",
    "plt.title('Cobertura Temporal por Fuente', fontsize=16, fontweight='bold')\\n\n",
    "plt.xlabel('Año', fontsize=14)\\n\n",
    "plt.ylabel('Fuente', fontsize=14)\\n\n",
    "plt.tight_layout()\\n\n",
    "plt.show()"
   ]
  },
  {
   "cell_type": "markdown",
   "metadata": {},
   "source": [
    "## 8. Análisis de Gaps y Continuidad"
   ]
  },
  {
   "cell_type": "code",
   "execution_count": null,
   "metadata": {},
   "outputs": [],
   "source": [
    "# Análisis de gaps temporales\\n\n",
    "all_years = set(range(int(df['Year'].min()), int(df['Year'].max()) + 1))\\n\n",
    "covered_years = set(year_counts.index)\\n\n",
    "gap_years = all_years - covered_years\\n\n",
    "\\n\n",
    "print(\\\"=== ANÁLISIS DE GAPS TEMPORALES ===\\\")\\n\n",
    "print(f\\\"Rango completo: {min(all_years)} - {max(all_years)}\\\")\\n\n",
    "print(f\\\"Años cubiertos: {len(covered_years)}\\\")\\n\n",
    "print(f\\\"Años con gaps: {len(gap_years)}\\\")\\n\n",
    "\\n\n",
    "if gap_years:\\n\n",
    "    print(f\\\"Años sin publicaciones: {sorted(gap_years)}\\\")\\n\n",
    "else:\\n\n",
    "    print(\\\"No hay gaps temporales - cobertura continua\\\")\\n\n",
    "\\n\n",
    "# Análisis de continuidad\\n\n",
    "coverage_percentage = (len(covered_years) / len(all_years)) * 100\\n\n",
    "print(f\\\"\\\\nPorcentaje de cobertura temporal: {coverage_percentage:.1f}%\\\")\\n\n",
    "\\n\n",
    "# Identificar períodos de mayor actividad\\n\n",
    "recent_years = [year for year in year_counts.index if year >= 2020]\\n\n",
    "recent_publications = sum(year_counts[year] for year in recent_years)\\n\n",
    "recent_percentage = (recent_publications / len(df)) * 100\\n\n",
    "\\n\n",
    "print(f\\\"\\\\nPublicaciones desde 2020: {recent_publications} ({recent_percentage:.1f}%)\\\")\\n\n",
    "print(f\\\"Promedio anual desde 2020: {recent_publications / len(recent_years):.1f} publicaciones\\\")"
   ]
  },
  {
   "cell_type": "code",
   "execution_count": null,
   "metadata": {},
   "outputs": [],
   "source": [
    "# Gráfico de cobertura temporal\\n\n",
    "plt.figure(figsize=(15, 8))\\n\n",
    "\\n\n",
    "# Crear línea de tiempo\\n\n",
    "timeline_years = list(range(int(df['Year'].min()), int(df['Year'].max()) + 1))\\n\n",
    "timeline_coverage = [1 if year in year_counts.index else 0 for year in timeline_years]\\n\n",
    "\\n\n",
    "# Gráfico de barras para cobertura\\n\n",
    "bars = plt.bar(timeline_years, timeline_coverage, color=['green' if c == 1 else 'red' for c in timeline_coverage], alpha=0.7)\\n\n",
    "\\n\n",
    "plt.xlabel('Año', fontsize=14)\\n\n",
    "plt.ylabel('Cobertura', fontsize=14)\\n\n",
    "plt.title('Cobertura Temporal de Publicaciones', fontsize=16, fontweight='bold')\\n\n",
    "plt.yticks([0, 1], ['Sin Publicaciones', 'Con Publicaciones'])\\n\n",
    "plt.grid(True, alpha=0.3, axis='x')\\n\n",
    "\\n\n",
    "# Agregar etiquetas para años con publicaciones\\n\n",
    "for year in year_counts.index:\\n\n",
    "    plt.text(year, 0.5, str(year_counts[year]), ha='center', va='center', fontweight='bold')\\n\n",
    "\\n\n",
    "plt.tight_layout()\\n\n",
    "plt.show()"
   ]
  },
  {
   "cell_type": "markdown",
   "metadata": {},
   "source": [
    "## 9. Resumen y Conclusiones"
   ]
  },
  {
   "cell_type": "code",
   "execution_count": null,
   "metadata": {},
   "outputs": [],
   "source": [
    "# Generar resumen ejecutivo\\n\n",
    "print(\\\"=== RESUMEN EJECUTIVO ===\\\\n\\\")\\n\n",
    "\\n\n",
    "print(f\\\"📊 Rango de años: {df['Year'].min()} - {df['Year'].max()}\\\")\\n\n",
    "print(f\\\"📝 Total de años únicos: {len(year_counts)}\\\")\\n\n",
    "print(f\\\"📈 Año con más publicaciones: {year_counts.idxmax()} ({year_counts.max()} publicaciones)\\\")\\n\n",
    "print(f\\\"📉 Año con menos publicaciones: {year_counts.idxmin()} ({year_counts.min()} publicaciones)\\\")\\n\n",
    "print(f\\\"📊 Promedio anual: {year_counts.mean():.1f} publicaciones\\\")\\n\n",
    "\\n\n",
    "# Análisis de tendencias\\n\n",
    "if len(year_counts) > 1:\\n\n",
    "    first_year = year_counts.index[0]\\n\n",
    "    last_year = year_counts.index[-1]\\n\n",
    "    first_count = year_counts.iloc[0]\\n\n",
    "    last_count = year_counts.iloc[-1]\\n\n",
    "    total_growth = ((last_count - first_count) / first_count) * 100\\n\n",
    "    \\n\n",
    "    print(f\\\"📈 Crecimiento total ({first_year} a {last_year}): {total_growth:.1f}%\\\")\\n\n",
    "\\n\n",
    "# Análisis de cobertura\\n\n",
    "coverage_percentage = (len(covered_years) / len(all_years)) * 100\\n\n",
    "print(f\\\"🌐 Cobertura temporal: {coverage_percentage:.1f}%\\\")\\n\n",
    "\\n\n",
    "# Análisis de gaps\\n\n",
    "if gap_years:\\n\n",
    "    print(f\\\"⚠️ Años con gaps: {len(gap_years)}\\\")\\n\n",
    "else:\\n\n",
    "    print(\\\"✅ Cobertura temporal continua\\\")\\n\n",
    "\\n\n",
    "# Período más activo\\n\n",
    "most_active_period = period_counts.idxmax()\\n\n",
    "print(f\\\"🏆 Período más activo: {most_active_period} ({period_counts.max()} publicaciones)\\\")\\n\n",
    "\\n\n",
    "print(\\\"\\\\n=== CONCLUSIONES ===\\\")\\n\n",
    "print(\\\"1. El campo muestra una evolución temporal significativa\\\")\\n\n",
    "print(\\\"2. Hay períodos de mayor actividad investigativa\\\")\\n\n",
    "print(\\\"3. La cobertura temporal es amplia\\\")\\n\n",
    "print(\\\"4. Existen tendencias de crecimiento en años recientes\\\")"
   ]
  }
 ],
 "metadata": {
  "kernelspec": {
   "display_name": "Python 3",
   "language": "python",
   "name": "python3"
  },
  "language_info": {
   "codemirror_mode": {
    "name": "ipython",
    "version": 3
   },
   "file_extension": ".py",
   "mimetype": "text/x-python",
   "name": "python",
   "nbconvert_exporter": "python",
   "pygments_lexer": "ipython3",
   "version": "3.8.5"
  }
 },
 "nbformat": 4,
 "nbformat_minor": 4
}
