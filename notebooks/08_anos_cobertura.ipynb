{
  "cells": [
    {
      "cell_type": "markdown",
      "metadata": {},
      "source": [
        "# Análisis de Años de Cobertura\n",
        "\n",
        "**Pregunta de Investigación MQ8:** ¿Qué períodos de tiempo cubren los estudios incluidos en la revisión?\n",
        "\n",
        "Este notebook analiza los períodos de tiempo cubiertos por los estudios incluidos en la revisión sistemática."
      ]
    },
    {
      "cell_type": "code",
      "execution_count": null,
      "metadata": {},
      "outputs": [],
      "source": [
        "# Configuración del entorno\n",
        "import pandas as pd\n",
        "import numpy as np\n",
        "import matplotlib.pyplot as plt\n",
        "import seaborn as sns\n",
        "import warnings\n",
        "warnings.filterwarnings('ignore')\n",
        "\n",
        "# Configurar estilo de gráficos\n",
        "plt.style.use('default')\n",
        "sns.set_palette(\"husl\")"
      ]
    },
    {
      "cell_type": "code",
      "execution_count": null,
      "metadata": {},
      "outputs": [],
      "source": [
        "# Cargar datos\n",
        "df = pd.read_csv('../MappingReview.csv', sep=';', encoding='latin-1')\n",
        "print(f\"Dataset cargado: {df.shape[0]} filas y {df.shape[1]} columnas\")"
      ]
    },
    {
      "cell_type": "code",
      "execution_count": null,
      "metadata": {},
      "outputs": [],
      "source": [
        "# Análisis básico de años\n",
        "year_columns = [col for col in df.columns if 'year' in col.lower() or 'año' in col.lower()]\n",
        "print(f\"Columnas de años encontradas: {year_columns}\")\n",
        "\n",
        "# Analizar años de publicación\n",
        "if 'Year' in df.columns:\n",
        "    years = df['Year'].dropna()\n",
        "    print(f\"Rango de años: {int(years.min())} - {int(years.max())}\")\n",
        "    print(f\"Año promedio: {years.mean():.1f}\")\n",
        "    print(f\"Año mediano: {int(years.median())}\")\n",
        "    \n",
        "    # Distribución de años\n",
        "    plt.figure(figsize=(12, 6))\n",
        "    plt.hist(years, bins=20, edgecolor='black', alpha=0.7)\n",
        "    plt.xlabel('Año')\n",
        "    plt.ylabel('Número de Publicaciones')\n",
        "    plt.title('Distribución de Publicaciones por Año')\n",
        "    plt.grid(True, alpha=0.3)\n",
        "    plt.tight_layout()\n",
        "    plt.show()"
      ]
    },
    {
      "cell_type": "code",
      "execution_count": null,
      "metadata": {},
      "outputs": [],
      "source": [
        "# Análisis de períodos\n",
        "if 'Year' in df.columns:\n",
        "    # Definir períodos\n",
        "    def categorize_period(year):\n",
        "        if year < 2010:\n",
        "            return 'Antes de 2010'\n",
        "        elif 2010 <= year <= 2015:\n",
        "            return '2010-2015'\n",
        "        elif 2016 <= year <= 2020:\n",
        "            return '2016-2020'\n",
        "        else:\n",
        "            return '2021-Presente'\n",
        "    \n",
        "    df['period'] = df['Year'].apply(categorize_period)\n",
        "    \n",
        "    # Contar publicaciones por período\n",
        "    period_counts = df['period'].value_counts()\n",
        "    \n",
        "    plt.figure(figsize=(10, 6))\n",
        "    period_counts.plot(kind='bar')\n",
        "    plt.xlabel('Período')\n",
        "    plt.ylabel('Número de Publicaciones')\n",
        "    plt.title('Publicaciones por Período Temporal')\n",
        "    plt.xticks(rotation=45)\n",
        "    plt.tight_layout()\n",
        "    plt.show()"
      ]
    }
  ],
  "metadata": {
    "kernelspec": {
      "display_name": "Python 3",
      "language": "python",
      "name": "python3"
    },
    "language_info": {
      "codemirror_mode": {
        "name": "ipython",
        "version": 3
      },
      "file_extension": ".py",
      "mimetype": "text/x-python",
      "name": "python",
      "nbconvert_exporter": "python",
      "pygments_lexer": "ipython3",
      "version": "3.8.5"
    }
  },
  "nbformat": 4,
  "nbformat_minor": 4
}
