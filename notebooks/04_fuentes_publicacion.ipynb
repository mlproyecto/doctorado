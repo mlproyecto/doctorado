{
  "cells": [
    {
      "cell_type": "markdown",
      "metadata": {},
      "source": [
        "# Análisis de Fuentes de Publicación: Mapping Review IA y ML en Educación Matemática K-12\n",
        "\n",
        "**MQ4: ¿En qué fuentes se publican estos estudios?**\n",
        "\n",
        "Este notebook analiza las fuentes (revistas, conferencias, etc.) donde se publican los estudios sobre IA y ML en educación matemática K-12."
      ]
    },
    {
      "cell_type": "markdown",
      "metadata": {},
      "source": [
        "## 1. Configuración del Entorno"
      ]
    },
    {
      "cell_type": "code",
      "execution_count": null,
      "metadata": {},
      "outputs": [],
      "source": [
        "# Instalación de dependencias\n",
        "!pip install pandas numpy matplotlib seaborn plotly"
      ]
    },
    {
      "cell_type": "code",
      "execution_count": null,
      "metadata": {},
      "outputs": [],
      "source": [
        "# Importación de librerías\n",
        "import pandas as pd\n",
        "import numpy as np\n",
        "import matplotlib.pyplot as plt\n",
        "import seaborn as sns\n",
        "import plotly.express as px\n",
        "import plotly.graph_objects as go\n",
        "from plotly.subplots import make_subplots\n",
        "import warnings\n",
        "warnings.filterwarnings('ignore')\n",
        "\n",
        "# Configuración de estilo\n",
        "plt.style.use('seaborn-v0_8')\n",
        "sns.set_palette(\"husl\")\n",
        "plt.rcParams['figure.figsize'] = (12, 8)\n",
        "plt.rcParams['font.size'] = 12\n",
        "\n",
        "# Configuración para mostrar todas las columnas\n",
        "pd.set_option('display.max_columns', None)\n",
        "pd.set_option('display.max_colwidth', None)"
      ]
    },
    {
      "cell_type": "markdown",
      "metadata": {},
      "source": [
        "## 2. Carga de Datos desde GitHub"
      ]
    },
    {
      "cell_type": "code",
      "execution_count": null,
      "metadata": {},
      "outputs": [],
      "source": [
        "# Cargar el dataset desde GitHub\n",
        "# IMPORTANTE: Cambiar la URL por tu repositorio real\n",
        "url = \"https://raw.githubusercontent.com/mlproyecto/doctorado/main/MappingReview.csv\"\n",
        "df = pd.read_csv(url, sep=';', encoding='latin-1')\n",
        "\n",
        "print(f\"Dataset cargado: {df.shape[0]} filas y {df.shape[1]} columnas\")\n",
        "print(\"\\nPrimeras 5 filas:\")\n",
        "df.head()"
      ]
    },
    {
      "cell_type": "markdown",
      "metadata": {},
      "source": [
        "## 3. Análisis de Fuentes de Publicación (MQ4)"
      ]
    },
    {
      "cell_type": "code",
      "execution_count": null,
      "metadata": {},
      "outputs": [],
      "source": [
        "# Análisis de fuentes de publicación\n",
        "source_counts = df['Source'].value_counts()\n",
        "source_percentages = (source_counts / len(df)) * 100\n",
        "\n",
        "print(\"=== DISTRIBUCIÓN DE FUENTES DE PUBLICACIÓN ===\")\n",
        "for source, count in source_counts.items():\n",
        "    percentage = source_percentages[source]\n",
        "    print(f\"{source}: {count} publicaciones ({percentage:.1f}%)\")\n",
        "\n",
        "print(f\"\\nTotal de fuentes únicas: {len(source_counts)}\")\n",
        "print(f\"Fuente más común: {source_counts.index[0]} ({source_counts.iloc[0]} publicaciones)\")"
      ]
    },
    {
      "cell_type": "code",
      "execution_count": null,
      "metadata": {},
      "outputs": [],
      "source": [
        "# Gráfico de barras para fuentes más frecuentes\n",
        "top_sources = source_counts.head(15)\n",
        "\n",
        "plt.figure(figsize=(15, 8))\n",
        "bars = plt.bar(range(len(top_sources)), top_sources.values, color='lightcoral', alpha=0.7)\n",
        "plt.xlabel('Fuente de Publicación', fontsize=14)\n",
        "plt.ylabel('Número de Publicaciones', fontsize=14)\n",
        "plt.title('Fuentes de Publicación Más Frecuentes', fontsize=16, fontweight='bold')\n",
        "plt.xticks(range(len(top_sources)), top_sources.index, rotation=45, ha='right')\n",
        "plt.grid(True, alpha=0.3, axis='y')\n",
        "\n",
        "# Agregar valores en las barras\n",
        "for i, (bar, count) in enumerate(zip(bars, top_sources.values)):\n",
        "    plt.text(i, count + 0.5, str(count), ha='center', va='bottom', fontweight='bold')\n",
        "\n",
        "plt.tight_layout()\n",
        "plt.show()"
      ]
    },
    {
      "cell_type": "code",
      "execution_count": null,
      "metadata": {},
      "outputs": [],
      "source": [
        "# Gráfico de pastel para fuentes principales\n",
        "top_sources_pie = source_counts.head(10)\n",
        "others_count = source_counts.iloc[10:].sum()\n",
        "top_sources_pie['Otros'] = others_count\n",
        "\n",
        "plt.figure(figsize=(12, 8))\n",
        "colors = plt.cm.Set3(np.linspace(0, 1, len(top_sources_pie)))\n",
        "\n",
        "wedges, texts, autotexts = plt.pie(top_sources_pie.values, labels=top_sources_pie.index, \n",
        "                                    autopct='%1.1f%%', colors=colors, startangle=90)\n",
        "\n",
        "plt.title('Distribución de Fuentes de Publicación', fontsize=16, fontweight='bold')\n",
        "plt.axis('equal')\n",
        "\n",
        "# Mejorar la legibilidad de las etiquetas\n",
        "for autotext in autotexts:\n",
        "    autotext.set_color('white')\n",
        "    autotext.set_fontweight('bold')\n",
        "\n",
        "plt.tight_layout()\n",
        "plt.show()"
      ]
    },
    {
      "cell_type": "code",
      "execution_count": null,
      "metadata": {},
      "outputs": [],
      "source": [
        "# Gráfico interactivo con Plotly\n",
        "fig = px.bar(x=top_sources.index, y=top_sources.values,\n",
        "              title='Fuentes de Publicación Más Frecuentes',\n",
        "              labels={'x': 'Fuente', 'y': 'Número de Publicaciones'})\n",
        "\n",
        "fig.update_layout(\n",
        "    title_font_size=16,\n",
        "    xaxis_title_font_size=14,\n",
        "    yaxis_title_font_size=14\n",
        ")\n",
        "\n",
        "fig.show()"
      ]
    },
    {
      "cell_type": "markdown",
      "metadata": {},
      "source": [
        "## 4. Análisis Temporal por Fuente"
      ]
    },
    {
      "cell_type": "code",
      "execution_count": null,
      "metadata": {},
      "outputs": [],
      "source": [
        "# Convertir Year a numérico\n",
        "df['Year'] = pd.to_numeric(df['Year'], errors='coerce')\n",
        "\n",
        "# Análisis temporal por fuente\n",
        "temporal_by_source = df.groupby(['Year', 'Source']).size().unstack(fill_value=0)\n",
        "\n",
        "print(\"=== EVOLUCIÓN TEMPORAL POR FUENTE ===\")\n",
        "print(temporal_by_source)\n",
        "\n",
        "# Gráfico de líneas temporal para fuentes principales\n",
        "top_sources_temporal = temporal_by_source[top_sources.index[:5]]\n",
        "\n",
        "plt.figure(figsize=(15, 8))\n",
        "colors = plt.cm.Set3(np.linspace(0, 1, len(top_sources_temporal.columns)))\n",
        "\n",
        "for i, source in enumerate(top_sources_temporal.columns):\n",
        "    plt.plot(top_sources_temporal.index, top_sources_temporal[source], marker='o', linewidth=2, \n",
        "             label=source, color=colors[i])\n",
        "\n",
        "plt.title('Evolución Temporal por Fuente de Publicación', fontsize=16, fontweight='bold')\n",
        "plt.xlabel('Año', fontsize=14)\n",
        "plt.ylabel('Número de Publicaciones', fontsize=14)\n",
        "plt.legend(title='Fuente', bbox_to_anchor=(1.05, 1), loc='upper left')\n",
        "plt.grid(True, alpha=0.3)\n",
        "plt.xticks(rotation=45)\n",
        "plt.tight_layout()\n",
        "plt.show()"
      ]
    },
    {
      "cell_type": "code",
      "execution_count": null,
      "metadata": {},
      "outputs": [],
      "source": [
        "# Gráfico de área apilada\n",
        "fig = px.area(top_sources_temporal, title='Evolución Temporal por Fuente de Publicación')\n",
        "\n",
        "fig.update_layout(\n",
        "    title_font_size=16,\n",
        "    xaxis_title='Año',\n",
        "    yaxis_title='Número de Publicaciones',\n",
        "    hovermode='x unified'\n",
        ")\n",
        "\n",
        "fig.show()"
      ]
    },
    {
      "cell_type": "markdown",
      "metadata": {},
      "source": [
        "## 5. Análisis de Presencia en Bases de Datos por Fuente"
      ]
    },
    {
      "cell_type": "code",
      "execution_count": null,
      "metadata": {},
      "outputs": [],
      "source": [
        "# Análisis de tipos de publicación por fuente\n",
        "type_by_source = df.groupby(['Source', 'Type of Publication']).size().unstack(fill_value=0)\n",
        "\n",
        "print(\"=== TIPOS DE PUBLICACIÓN POR FUENTE ===\")\n",
        "print(type_by_source)\n",
        "\n",
        "# Gráfico de barras agrupadas\n",
        "fig = px.bar(type_by_source, title='Tipos de Publicación por Fuente',\n",
        "              barmode='group')\n",
        "\n",
        "fig.update_layout(\n",
        "    title_font_size=16,\n",
        "    xaxis_title='Fuente',\n",
        "    yaxis_title='Número de Publicaciones'\n",
        ")\n",
        "\n",
        "fig.show()"
      ]
    },
    {
      "cell_type": "markdown",
      "metadata": {},
      "source": [
        "## 6. Resumen y Conclusiones"
      ]
    },
    {
      "cell_type": "code",
      "execution_count": null,
      "metadata": {},
      "outputs": [],
      "source": [
        "# Generar resumen ejecutivo\n",
        "print(\"=== RESUMEN EJECUTIVO ===\\n\")\n",
        "\n",
        "print(f\"📊 Total de fuentes únicas: {len(source_counts)}\")\n",
        "print(f\"📝 Fuente más común: {source_counts.index[0]} ({source_counts.iloc[0]} publicaciones)\")\n",
        "print(f\"📈 Fuente menos común: {source_counts.index[-1]} ({source_counts.iloc[-1]} publicaciones)\")\n",
        "\n",
        "# Análisis de concentración\n",
        "top_5_percentage = (source_counts.head(5).sum() / len(df)) * 100\n",
        "print(f\"🎯 Concentración en top 5 fuentes: {top_5_percentage:.1f}%\")\n",
        "\n",
        "# Análisis temporal\n",
        "most_productive_year = temporal_by_source.sum(axis=1).idxmax()\n",
        "most_productive_count = temporal_by_source.sum(axis=1).max()\n",
        "print(f\"📅 Año más productivo: {most_productive_year} ({most_productive_count} publicaciones)\")\n",
        "\n",
        "# Base de datos más utilizada por fuente principal\n",
        "main_source = source_counts.index[0]\n",
        "source_db_data = db_by_source_df.loc[main_source]\n",
        "most_used_db = source_db_data.idxmax()\n",
        "print(f\"🔍 Base de datos más utilizada para {main_source}: {most_used_db} ({source_db_data.max()} publicaciones)\")\n",
        "\n",
        "print(\"\\n=== CONCLUSIONES ===\")\n",
        "print(\"1. Hay fuentes claramente dominantes en el campo\")\n",
        "print(\"2. La distribución de fuentes es relativamente concentrada\")\n",
        "print(\"3. Diferentes fuentes tienen presencia en distintas bases de datos\")\n",
        "print(\"4. Hay una evolución temporal en las fuentes de publicación\")"
      ]
    }
  ],
  "metadata": {
    "kernelspec": {
      "display_name": "Python 3",
      "language": "python",
      "name": "python3"
    },
    "language_info": {
      "codemirror_mode": {
        "name": "ipython",
        "version": 3
      },
      "file_extension": ".py",
      "mimetype": "text/x-python",
      "name": "python",
      "nbconvert_exporter": "python",
      "pygments_lexer": "ipython3",
      "version": "3.8.5"
    }
  },
  "nbformat": 4,
  "nbformat_minor": 4
}
