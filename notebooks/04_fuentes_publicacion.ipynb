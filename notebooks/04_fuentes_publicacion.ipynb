{
 "cells": [
  {
   "cell_type": "markdown",
   "metadata": {},
   "source": [
    "# Análisis de Fuentes de Publicación: Mapping Review IA y ML en Educación Matemática K-12\\n\n",
    "\\n\n",
    "**MQ4: ¿En qué fuentes aparecen este tipo de estudios?**\\n\n",
    "\\n\n",
    "Este notebook analiza las revistas, conferencias y otras fuentes donde se publican los estudios sobre IA y ML en educación matemática K-12."
   ]
  },
  {
   "cell_type": "markdown",
   "metadata": {},
   "source": [
    "## 1. Configuración del Entorno"
   ]
  },
  {
   "cell_type": "code",
   "execution_count": null,
   "metadata": {},
   "outputs": [],
   "source": [
    "# Instalación de dependencias\\n\n",
    "!pip install pandas numpy matplotlib seaborn plotly"
   ]
  },
  {
   "cell_type": "code",
   "execution_count": null,
   "metadata": {},
   "outputs": [],
   "source": [
    "# Importación de librerías\\n\n",
    "import pandas as pd\\n\n",
    "import numpy as np\\n\n",
    "import matplotlib.pyplot as plt\\n\n",
    "import seaborn as sns\\n\n",
    "import plotly.express as px\\n\n",
    "import plotly.graph_objects as go\\n\n",
    "from plotly.subplots import make_subplots\\n\n",
    "import warnings\\n\n",
    "warnings.filterwarnings('ignore')\\n\n",
    "\\n\n",
    "# Configuración de estilo\\n\n",
    "plt.style.use('seaborn-v0_8')\\n\n",
    "sns.set_palette(\\\"husl\\\")\\n\n",
    "plt.rcParams['figure.figsize'] = (12, 8)\\n\n",
    "plt.rcParams['font.size'] = 12\\n\n",
    "\\n\n",
    "# Configuración para mostrar todas las columnas\\n\n",
    "pd.set_option('display.max_columns', None)\\n\n",
    "pd.set_option('display.max_colwidth', None)"
   ]
  },
  {
   "cell_type": "markdown",
   "metadata": {},
   "source": [
    "## 2. Carga de Datos desde GitHub"
   ]
  },
  {
   "cell_type": "code",
   "execution_count": null,
   "metadata": {},
   "outputs": [],
   "source": [
    "# Cargar el dataset desde GitHub\\n\n",
    "# IMPORTANTE: Cambiar la URL por tu repositorio real\\n\n",
    "url = \\\"https://raw.githubusercontent.com/TU_USUARIO/TU_REPOSITORIO/main/MappingReview.csv\\\"\\n\n",
    "df = pd.read_csv(url, sep=';', encoding='utf-8')\\n\n",
    "\\n\n",
    "print(f\\\"Dataset cargado: {df.shape[0]} filas y {df.shape[1]} columnas\\\")\\n\n",
    "print(\\\"\\\\nPrimeras 5 filas:\\\")\\n\n",
    "df.head()"
   ]
  },
  {
   "cell_type": "markdown",
   "metadata": {},
   "source": [
    "## 3. Análisis de Fuentes de Publicación (MQ4)"
   ]
  },
  {
   "cell_type": "code",
   "execution_count": null,
   "metadata": {},
   "outputs": [],
   "source": [
    "# Análisis de fuentes de publicación\\n\n",
    "source_counts = df['Source'].value_counts()\\n\n",
    "source_percentages = (source_counts / len(df)) * 100\\n\n",
    "\\n\n",
    "print(\\\"=== DISTRIBUCIÓN DE FUENTES DE PUBLICACIÓN ===\\\")\\n\n",
    "for source, count in source_counts.items():\\n\n",
    "    percentage = source_percentages[source]\\n\n",
    "    print(f\\\"{source}: {count} publicaciones ({percentage:.1f}%)\\\")\\n\n",
    "\\n\n",
    "print(f\\\"\\\\nTotal de fuentes únicas: {len(source_counts)}\\\")\\n\n",
    "print(f\\\"Fuente más común: {source_counts.index[0]} ({source_counts.iloc[0]} publicaciones)\\\")"
   ]
  },
  {
   "cell_type": "code",
   "execution_count": null,
   "metadata": {},
   "outputs": [],
   "source": [
    "# Gráfico de barras para fuentes de publicación\\n\n",
    "plt.figure(figsize=(15, 10))\\n\n",
    "bars = plt.barh(range(len(source_counts)), source_counts.values, color='lightgreen', alpha=0.7)\\n\n",
    "plt.yticks(range(len(source_counts)), source_counts.index)\\n\n",
    "plt.xlabel('Número de Publicaciones', fontsize=14)\\n\n",
    "plt.title('Distribución de Fuentes de Publicación', fontsize=16, fontweight='bold')\\n\n",
    "plt.grid(True, alpha=0.3, axis='x')\\n\n",
    "\\n\n",
    "# Agregar valores en las barras\\n\n",
    "for i, (bar, count) in enumerate(zip(bars, source_counts.values)):\\n\n",
    "    plt.text(count + 0.5, i, str(count), va='center', fontweight='bold')\\n\n",
    "\\n\n",
    "plt.tight_layout()\\n\n",
    "plt.show()"
   ]
  },
  {
   "cell_type": "code",
   "execution_count": null,
   "metadata": {},
   "outputs": [],
   "source": [
    "# Gráfico de pastel para top 10 fuentes\\n\n",
    "top_10_sources = source_counts.head(10)\\n\n",
    "\\n\n",
    "plt.figure(figsize=(12, 8))\\n\n",
    "colors = plt.cm.Set3(np.linspace(0, 1, len(top_10_sources)))\\n\n",
    "\\n\n",
    "wedges, texts, autotexts = plt.pie(top_10_sources.values, labels=top_10_sources.index, \\n\n",
    "                                    autopct='%1.1f%%', colors=colors, startangle=90,\\n\n",
    "                                    textprops={'fontsize': 9})\\n\n",
    "\\n\n",
    "plt.title('Top 10 Fuentes de Publicación', fontsize=16, fontweight='bold')\\n\n",
    "plt.axis('equal')\\n\n",
    "\\n\n",
    "# Mejorar la legibilidad de las etiquetas\\n\n",
    "for autotext in autotexts:\\n\n",
    "    autotext.set_color('white')\\n\n",
    "    autotext.set_fontweight('bold')\\n\n",
    "\\n\n",
    "plt.tight_layout()\\n\n",
    "plt.show()"
   ]
  },
  {
   "cell_type": "code",
   "execution_count": null,
   "metadata": {},
   "outputs": [],
   "source": [
    "# Gráfico interactivo con Plotly\\n\n",
    "fig = px.bar(x=source_counts.values, y=source_counts.index,\\n\n",
    "              orientation='h',\\n\n",
    "              title='Distribución de Fuentes de Publicación',\\n\n",
    "              labels={'x': 'Número de Publicaciones', 'y': 'Fuente'})\\n\n",
    "\\n\n",
    "fig.update_layout(\\n\n",
    "    title_font_size=16,\\n\n",
    "    xaxis_title_font_size=14,\\n\n",
    "    yaxis_title_font_size=14,\\n\n",
    "    height=600\\n\n",
    ")\\n\n",
    "\\n\n",
    "fig.show()"
   ]
  },
  {
   "cell_type": "markdown",
   "metadata": {},
   "source": [
    "## 4. Análisis de Revistas Específicas"
   ]
  },
  {
   "cell_type": "code",
   "execution_count": null,
   "metadata": {},
   "outputs": [],
   "source": [
    "# Análisis de revistas específicas\\n\n",
    "journal_counts = df['Publication Title'].value_counts()\\n\n",
    "\\n\n",
    "print(\\\"=== TOP 20 REVISTAS/CONFERENCIAS ===\\\")\\n\n",
    "for i, (journal, count) in enumerate(journal_counts.head(20).items(), 1):\\n\n",
    "    print(f\\\"{i:2d}. {journal}: {count} publicaciones\\\")\\n\n",
    "\\n\n",
    "# Gráfico de top 15 revistas\\n\n",
    "top_15_journals = journal_counts.head(15)\\n\n",
    "\\n\n",
    "plt.figure(figsize=(15, 10))\\n\n",
    "bars = plt.barh(range(len(top_15_journals)), top_15_journals.values, color='lightcoral', alpha=0.7)\\n\n",
    "plt.yticks(range(len(top_15_journals)), top_15_journals.index, fontsize=10)\\n\n",
    "plt.xlabel('Número de Publicaciones', fontsize=14)\\n\n",
    "plt.title('Top 15 Revistas/Conferencias', fontsize=16, fontweight='bold')\\n\n",
    "plt.grid(True, alpha=0.3, axis='x')\\n\n",
    "\\n\n",
    "# Agregar valores en las barras\\n\n",
    "for i, (bar, count) in enumerate(zip(bars, top_15_journals.values)):\\n\n",
    "    plt.text(count + 0.1, i, str(count), va='center', fontweight='bold')\\n\n",
    "\\n\n",
    "plt.tight_layout()\\n\n",
    "plt.show()"
   ]
  },
  {
   "cell_type": "markdown",
   "metadata": {},
   "source": [
    "## 5. Análisis Temporal por Fuente"
   ]
  },
  {
   "cell_type": "code",
   "execution_count": null,
   "metadata": {},
   "outputs": [],
   "source": [
    "# Convertir Year a numérico\\n\n",
    "df['Year'] = pd.to_numeric(df['Year'], errors='coerce')\\n\n",
    "\\n\n",
    "# Análisis temporal por fuente\\n\n",
    "temporal_by_source = df.groupby(['Year', 'Source']).size().unstack(fill_value=0)\\n\n",
    "\\n\n",
    "print(\\\"=== EVOLUCIÓN TEMPORAL POR FUENTE ===\\\")\\n\n",
    "print(temporal_by_source)\\n\n",
    "\\n\n",
    "# Gráfico de líneas temporal\\n\n",
    "plt.figure(figsize=(15, 8))\\n\n",
    "for source in temporal_by_source.columns:\\n\n",
    "    plt.plot(temporal_by_source.index, temporal_by_source[source], marker='o', linewidth=2, label=source)\\n\n",
    "\\n\n",
    "plt.title('Evolución Temporal por Fuente de Publicación', fontsize=16, fontweight='bold')\\n\n",
    "plt.xlabel('Año', fontsize=14)\\n\n",
    "plt.ylabel('Número de Publicaciones', fontsize=14)\\n\n",
    "plt.legend(title='Fuente', bbox_to_anchor=(1.05, 1), loc='upper left')\\n\n",
    "plt.grid(True, alpha=0.3)\\n\n",
    "plt.xticks(temporal_by_source.index, rotation=45)\\n\n",
    "plt.tight_layout()\\n\n",
    "plt.show()"
   ]
  },
  {
   "cell_type": "code",
   "execution_count": null,
   "metadata": {},
   "outputs": [],
   "source": [
    "# Gráfico de área apilada\\n\n",
    "fig = px.area(temporal_by_source, title='Evolución Temporal por Fuente de Publicación')\\n\n",
    "\\n\n",
    "fig.update_layout(\\n\n",
    "    title_font_size=16,\\n\n",
    "    xaxis_title='Año',\\n\n",
    "    yaxis_title='Número de Publicaciones',\\n\n",
    "    hovermode='x unified'\\n\n",
    ")\\n\n",
    "\\n\n",
    "fig.show()"
   ]
  },
  {
   "cell_type": "markdown",
   "metadata": {},
   "source": [
    "## 6. Análisis de Calidad de Fuentes"
   ]
  },
  {
   "cell_type": "code",
   "execution_count": null,
   "metadata": {},
   "outputs": [],
   "source": [
    "# Análisis de presencia en bases de datos por fuente\\n\n",
    "presence_columns = ['Present in Eric', 'Present in IEEE', 'Present in Scopus', 'Present in WoS']\\n\n",
    "\\n\n",
    "# Limpiar datos de presencia\\n\n",
    "for col in presence_columns:\\n\n",
    "    df[col] = df[col].fillna('No')\\n\n",
    "    df[col] = df[col].str.strip()\\n\n",
    "\\n\n",
    "# Crear análisis por fuente y presencia\\n\n",
    "presence_by_source = {}\\n\n",
    "for source in df['Source'].unique():\\n\n",
    "    source_data = df[df['Source'] == source]\\n\n",
    "    presence_by_source[source] = {}\\n\n",
    "    for col in presence_columns:\\n\n",
    "        presence_by_source[source][col] = source_data[col].value_counts().to_dict()\\n\n",
    "\\n\n",
    "print(\\\"=== PRESENCIA EN BASES DE DATOS POR FUENTE ===\\\")\\n\n",
    "for source, presence_data in presence_by_source.items():\\n\n",
    "    print(f\\\"\\\\n{source}:\\\")\\n\n",
    "    for db, counts in presence_data.items():\\n\n",
    "        print(f\\\"  {db}: {counts}\\\")"
   ]
  },
  {
   "cell_type": "code",
   "execution_count": null,
   "metadata": {},
   "outputs": [],
   "source": [
    "# Gráfico de calor para presencia en bases de datos\\n\n",
    "presence_matrix = df.groupby(['Source', 'Present in Scopus']).size().unstack(fill_value=0)\\n\n",
    "\\n\n",
    "plt.figure(figsize=(12, 8))\\n\n",
    "sns.heatmap(presence_matrix, annot=True, fmt='d', cmap='YlOrRd', cbar_kws={'label': 'Número de Publicaciones'})\\n\n",
    "plt.title('Presencia en Scopus por Fuente', fontsize=16, fontweight='bold')\\n\n",
    "plt.xlabel('Presencia en Scopus', fontsize=14)\\n\n",
    "plt.ylabel('Fuente', fontsize=14)\\n\n",
    "plt.tight_layout()\\n\n",
    "plt.show()"
   ]
  },
  {
   "cell_type": "markdown",
   "metadata": {},
   "source": [
    "## 7. Análisis de Tendencias por Fuente"
   ]
  },
  {
   "cell_type": "code",
   "execution_count": null,
   "metadata": {},
   "outputs": [],
   "source": [
    "# Análisis de tendencias por fuente\\n\n",
    "print(\\\"=== ANÁLISIS DE TENDENCIAS POR FUENTE ===\\\")\\n\n",
    "\\n\n",
    "for source in df['Source'].unique():\\n\n",
    "    source_data = df[df['Source'] == source]\\n\n",
    "    year_counts = source_data['Year'].value_counts().sort_index()\\n\n",
    "    \\n\n",
    "    print(f\\\"\\\\n{source}:\\\")\\n\n",
    "    print(f\\\"  Total: {len(source_data)} publicaciones\\\")\\n\n",
    "    if len(year_counts) > 0:\\n\n",
    "        print(f\\\"  Año con más publicaciones: {year_counts.idxmax()} ({year_counts.max()} publicaciones)\\\")\\n\n",
    "        print(f\\\"  Año con menos publicaciones: {year_counts.idxmin()} ({year_counts.min()} publicaciones)\\\")\\n\n",
    "        print(f\\\"  Promedio anual: {year_counts.mean():.1f} publicaciones\\\")"
   ]
  },
  {
   "cell_type": "code",
   "execution_count": null,
   "metadata": {},
   "outputs": [],
   "source": [
    "# Gráfico de tendencias normalizadas\\n\n",
    "normalized_trends = temporal_by_source.div(temporal_by_source.sum(axis=1), axis=0) * 100\\n\n",
    "\\n\n",
    "plt.figure(figsize=(15, 8))\\n\n",
    "for source in normalized_trends.columns:\\n\n",
    "    plt.plot(normalized_trends.index, normalized_trends[source], marker='o', linewidth=2, label=source)\\n\n",
    "\\n\n",
    "plt.title('Tendencias Normalizadas por Fuente de Publicación', fontsize=16, fontweight='bold')\\n\n",
    "plt.xlabel('Año', fontsize=14)\\n\n",
    "plt.ylabel('Porcentaje de Publicaciones', fontsize=14)\\n\n",
    "plt.legend(title='Fuente', bbox_to_anchor=(1.05, 1), loc='upper left')\\n\n",
    "plt.grid(True, alpha=0.3)\\n\n",
    "plt.xticks(normalized_trends.index, rotation=45)\\n\n",
    "plt.tight_layout()\\n\n",
    "plt.show()"
   ]
  },
  {
   "cell_type": "markdown",
   "metadata": {},
   "source": [
    "## 8. Resumen y Conclusiones"
   ]
  },
  {
   "cell_type": "code",
   "execution_count": null,
   "metadata": {},
   "outputs": [],
   "source": [
    "# Generar resumen ejecutivo\\n\n",
    "print(\\\"=== RESUMEN EJECUTIVO ===\\\\n\\\")\\n\n",
    "\\n\n",
    "print(f\\\"📊 Total de fuentes únicas: {len(source_counts)}\\\")\\n\n",
    "print(f\\\"📝 Fuente más común: {source_counts.index[0]} ({source_counts.iloc[0]} publicaciones)\\\")\\n\n",
    "print(f\\\"📈 Fuente menos común: {source_counts.index[-1]} ({source_counts.iloc[-1]} publicaciones)\\\")\\n\n",
    "\\n\n",
    "# Análisis de concentración\\n\n",
    "concentration = (source_counts.iloc[0] / len(df)) * 100\\n\n",
    "print(f\\\"🎯 Concentración de la fuente principal: {concentration:.1f}%\\\")\\n\n",
    "\\n\n",
    "# Análisis de diversidad\\n\n",
    "diversity_index = len(source_counts) / len(df) * 100\\n\n",
    "print(f\\\"🌐 Índice de diversidad de fuentes: {diversity_index:.1f}%\\\")\\n\n",
    "\\n\n",
    "# Top revista\\n\n",
    "top_journal = journal_counts.index[0]\\n\n",
    "top_journal_count = journal_counts.iloc[0]\\n\n",
    "print(f\\\"🏆 Revista más productiva: {top_journal} ({top_journal_count} publicaciones)\\\")\\n\n",
    "\\n\n",
    "print(\\\"\\\\n=== CONCLUSIONES ===\\\")\\n\n",
    "print(\\\"1. Las revistas especializadas dominan la publicación en este campo\\\")\\n\n",
    "print(\\\"2. Hay una distribución diversa de fuentes de publicación\\\")\\n\n",
    "print(\\\"3. Las conferencias son importantes para la difusión temprana\\\")\\n\n",
    "print(\\\"4. Existe variabilidad en la calidad de las fuentes\\\")"
   ]
  }
 ],
 "metadata": {
  "kernelspec": {
   "display_name": "Python 3",
   "language": "python",
   "name": "python3"
  },
  "language_info": {
   "codemirror_mode": {
    "name": "ipython",
    "version": 3
   },
   "file_extension": ".py",
   "mimetype": "text/x-python",
   "name": "python",
   "nbconvert_exporter": "python",
   "pygments_lexer": "ipython3",
   "version": "3.8.5"
  }
 },
 "nbformat": 4,
 "nbformat_minor": 4
}
