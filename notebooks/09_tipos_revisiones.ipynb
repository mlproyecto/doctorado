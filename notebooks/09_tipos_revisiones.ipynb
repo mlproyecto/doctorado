{
 "cells": [
  {
   "cell_type": "markdown",
   "id": "f20fe661",
   "metadata": {},
   "source": [
    "# Análisis de Tipos de Revisiones\n",
    "\n",
    "**Pregunta de Investigación MQ9:** ¿Qué tipo de revisiones se publican?\n",
    "\n",
    "Este notebook analiza los diferentes tipos de trabajos de revisión (revisiones sistemáticas, mapeos, etc.) que se han publicado en el área de estudio.\n"
   ]
  },
  {
   "cell_type": "code",
   "execution_count": 1,
   "id": "6270db13",
   "metadata": {},
   "outputs": [],
   "source": [
    "# Configuración del entorno\n",
    "import pandas as pd\n",
    "import matplotlib.pyplot as plt\n",
    "import seaborn as sns\n",
    "import warnings\n",
    "\n",
    "warnings.filterwarnings('ignore')\n",
    "\n",
    "# Configurar estilo de gráficos\n",
    "plt.style.use('default')\n",
    "sns.set_palette(\"husl\")\n"
   ]
  },
  {
   "cell_type": "code",
   "execution_count": 2,
   "id": "0a27089b",
   "metadata": {},
   "outputs": [
    {
     "name": "stdout",
     "output_type": "stream",
     "text": [
      "Dataset cargado: 89 filas y 8 columnas\n",
      "Columnas disponibles: ['Title', 'Author(s)', 'Year', 'Publication Title', 'Type of Publication', 'Source', 'DOI', 'Abstract']\n"
     ]
    }
   ],
   "source": [
    "# Cargar el dataset desde GitHub\n",
    "url = \"https://raw.githubusercontent.com/mlproyecto/doctorado/main/MappingReview.csv\"\n",
    "df = pd.read_csv(url, sep=';', encoding='latin-1')\n",
    "\n",
    "# Limpiar los nombres de las columnas para eliminar espacios en blanco\n",
    "df.columns = df.columns.str.strip()\n",
    "\n",
    "print(f\"Dataset cargado: {df.shape[0]} filas y {df.shape[1]} columnas\")\n",
    "print(f\"Columnas disponibles: {df.columns.tolist()}\")\n"
   ]
  },
  {
   "cell_type": "code",
   "execution_count": 3,
   "id": "fb636c1e",
   "metadata": {},
   "outputs": [
    {
     "name": "stdout",
     "output_type": "stream",
     "text": [
      "Se han identificado 7 trabajos de revisión.\n",
      "\n",
      "Frecuencia de cada tipo de revisión:\n",
      "review_type\n",
      "Systematic Review               2\n",
      "Review (General)                2\n",
      "Systematic Literature Review    1\n",
      "Scoping Review                  1\n",
      "Literature Review               1\n",
      "Name: count, dtype: int64\n"
     ]
    }
   ],
   "source": [
    "# Se buscará en los títulos y abstracts para identificar trabajos de revisión.\n",
    "\n",
    "# Combinar Título y Abstract en una sola columna de texto para la búsqueda\n",
    "df['full_text'] = (df['Title'].fillna('') + ' ' + df['Abstract'].fillna('')).str.lower()\n",
    "\n",
    "# Función para clasificar el tipo de revisión basado en palabras clave específicas.\n",
    "# El orden es importante para la especificidad (ej. 'systematic review' se debe comprobar antes que 'review').\n",
    "def get_review_type(text):\n",
    "    if 'systematic literature review' in text or 'slr' in text:\n",
    "        return 'Systematic Literature Review'\n",
    "    if 'systematic review' in text:\n",
    "        return 'Systematic Review'\n",
    "    if 'mapping review' in text:\n",
    "        return 'Mapping Review'\n",
    "    if 'scoping review' in text:\n",
    "        return 'Scoping Review'\n",
    "    if 'literature review' in text:\n",
    "        return 'Literature Review'\n",
    "    if 'review' in text:\n",
    "        return 'Review (General)'\n",
    "    return None\n",
    "\n",
    "# Aplicar la función para crear una nueva columna con el tipo de revisión\n",
    "df['review_type'] = df['full_text'].apply(get_review_type)\n",
    "\n",
    "# Filtrar el DataFrame para mantener solo los trabajos de revisión identificados\n",
    "review_papers = df.dropna(subset=['review_type']).copy()\n",
    "\n",
    "print(f\"Se han identificado {len(review_papers)} trabajos de revisión.\")\n",
    "\n",
    "# Contar la frecuencia de cada tipo de revisión\n",
    "if not review_papers.empty:\n",
    "    review_counts = review_papers['review_type'].value_counts()\n",
    "    # Mostrar la tabla de resultados\n",
    "    print(\"\\nFrecuencia de cada tipo de revisión:\")\n",
    "    print(review_counts)\n",
    "else:\n",
    "    review_counts = pd.Series() # Crear una serie vacía para que el siguiente bloque no falle.\n",
    "    print(\"\\nNo se encontraron trabajos de revisión con las palabras clave especificadas.\")\n"
   ]
  },
  {
   "cell_type": "code",
   "execution_count": 4,
   "id": "775a095c",
   "metadata": {},
   "outputs": [
    {
     "name": "stdout",
     "output_type": "stream",
     "text": [
      "\n",
      "Tabla de trabajos de revisión identificados:\n"
     ]
    },
    {
     "data": {
      "text/html": [
       "<div>\n",
       "<style scoped>\n",
       "    .dataframe tbody tr th:only-of-type {\n",
       "        vertical-align: middle;\n",
       "    }\n",
       "\n",
       "    .dataframe tbody tr th {\n",
       "        vertical-align: top;\n",
       "    }\n",
       "\n",
       "    .dataframe thead th {\n",
       "        text-align: right;\n",
       "    }\n",
       "</style>\n",
       "<table border=\"1\" class=\"dataframe\">\n",
       "  <thead>\n",
       "    <tr style=\"text-align: right;\">\n",
       "      <th></th>\n",
       "      <th>Title</th>\n",
       "      <th>review_type</th>\n",
       "    </tr>\n",
       "  </thead>\n",
       "  <tbody>\n",
       "    <tr>\n",
       "      <th>0</th>\n",
       "      <td>What Would the Matrix Do?: A Systematic Review...</td>\n",
       "      <td>Systematic Review</td>\n",
       "    </tr>\n",
       "    <tr>\n",
       "      <th>4</th>\n",
       "      <td>Artificial Intelligence in Mathematics Educati...</td>\n",
       "      <td>Systematic Literature Review</td>\n",
       "    </tr>\n",
       "    <tr>\n",
       "      <th>50</th>\n",
       "      <td>Artificial Intelligence for Personalized Learn...</td>\n",
       "      <td>Scoping Review</td>\n",
       "    </tr>\n",
       "    <tr>\n",
       "      <th>58</th>\n",
       "      <td>A systematic review of the literature regardin...</td>\n",
       "      <td>Systematic Review</td>\n",
       "    </tr>\n",
       "    <tr>\n",
       "      <th>74</th>\n",
       "      <td>An Al-BERT-Bi-GRU-LDA algorithm for negative s...</td>\n",
       "      <td>Review (General)</td>\n",
       "    </tr>\n",
       "    <tr>\n",
       "      <th>82</th>\n",
       "      <td>Learn with M.E.-Let Us Boost Personalized Lear...</td>\n",
       "      <td>Literature Review</td>\n",
       "    </tr>\n",
       "    <tr>\n",
       "      <th>85</th>\n",
       "      <td>Artificial Intelligence for Enhancing Special ...</td>\n",
       "      <td>Review (General)</td>\n",
       "    </tr>\n",
       "  </tbody>\n",
       "</table>\n",
       "</div>"
      ],
      "text/plain": [
       "                                                Title  \\\n",
       "0   What Would the Matrix Do?: A Systematic Review...   \n",
       "4   Artificial Intelligence in Mathematics Educati...   \n",
       "50  Artificial Intelligence for Personalized Learn...   \n",
       "58  A systematic review of the literature regardin...   \n",
       "74  An Al-BERT-Bi-GRU-LDA algorithm for negative s...   \n",
       "82  Learn with M.E.-Let Us Boost Personalized Lear...   \n",
       "85  Artificial Intelligence for Enhancing Special ...   \n",
       "\n",
       "                     review_type  \n",
       "0              Systematic Review  \n",
       "4   Systematic Literature Review  \n",
       "50                Scoping Review  \n",
       "58             Systematic Review  \n",
       "74              Review (General)  \n",
       "82             Literature Review  \n",
       "85              Review (General)  "
      ]
     },
     "metadata": {},
     "output_type": "display_data"
    }
   ],
   "source": [
    "# Mostrar la tabla con los títulos de los trabajos de revisión y su tipo\n",
    "if not review_papers.empty:\n",
    "    print(\"\\nTabla de trabajos de revisión identificados:\")\n",
    "    # Usamos display para una mejor visualización de la tabla en el notebook\n",
    "    from IPython.display import display\n",
    "    display(review_papers[['Title', 'review_type']])\n",
    "else:\n",
    "    print(\"\\nNo se encontraron trabajos de revisión para mostrar en la tabla.\")\n"
   ]
  },
  {
   "cell_type": "code",
   "execution_count": 5,
   "id": "dad4cb8c",
   "metadata": {},
   "outputs": [
    {
     "data": {
      "image/png": "[encoded data removed]",
      "text/plain": [
       "<Figure size 1000x600 with 1 Axes>"
      ]
     },
     "metadata": {},
     "output_type": "display_data"
    }
   ],
   "source": [
    "# Visualizar los resultados en un gráfico de barras\n",
    "if not review_counts.empty:\n",
    "    plt.figure(figsize=(10, 6))\n",
    "    sns.barplot(x=review_counts.index, y=review_counts.values)\n",
    "    plt.xlabel('Tipo de Revisión')\n",
    "    plt.ylabel('Número de Publicaciones')\n",
    "    plt.title('Distribución de Tipos de Revisiones Publicadas')\n",
    "    plt.xticks(rotation=45, ha='right')\n",
    "    plt.tight_layout()\n",
    "    plt.show()\n",
    "else:\n",
    "    print(\"\\nNo se encontraron datos de revisiones para visualizar.\")\n"
   ]
  },
  {
   "cell_type": "markdown",
   "id": "0ae8a070",
   "metadata": {},
   "source": [
    "## Conclusiones para MQ9\n",
    "\n",
    "*Tras analizar los títulos y resúmenes, se identificaron 7 trabajos de revisión, distribuidos de la siguiente manera:*\n",
    "\n",
    "- **Systematic Review**: 2 trabajos.\n",
    "- **Review (General)**: 2 trabajos.\n",
    "- **Systematic Literature Review / SLR**: 1 trabajo.\n",
    "- **Scoping Review**: 1 trabajo.\n",
    "- **Literature Review**: 1 trabajo.\n",
    "\n",
    "\n"
   ]
  }
 ],
 "metadata": {
  "kernelspec": {
   "display_name": "Python 3",
   "language": "python",
   "name": "python3"
  },
  "language_info": {
   "codemirror_mode": {
    "name": "ipython",
    "version": 3
   },
   "file_extension": ".py",
   "mimetype": "text/x-python",
   "name": "python",
   "nbconvert_exporter": "python",
   "pygments_lexer": "ipython3",
   "version": "3.12.6"
  }
 },
 "nbformat": 4,
 "nbformat_minor": 5
}
